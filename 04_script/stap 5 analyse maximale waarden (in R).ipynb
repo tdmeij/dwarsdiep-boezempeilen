{
 "cells": [
  {
   "cell_type": "code",
   "execution_count": 1,
   "id": "3d214372",
   "metadata": {},
   "outputs": [],
   "source": [
    "library(ggplot2)\n"
   ]
  },
  {
   "cell_type": "code",
   "execution_count": 2,
   "id": "930825d6",
   "metadata": {},
   "outputs": [
    {
     "name": "stderr",
     "output_type": "stream",
     "text": [
      "Loading required package: Lmoments\n",
      "\n",
      "Loading required package: distillery\n",
      "\n",
      "\n",
      "Attaching package: 'extRemes'\n",
      "\n",
      "\n",
      "The following objects are masked from 'package:stats':\n",
      "\n",
      "    qqnorm, qqplot\n",
      "\n",
      "\n"
     ]
    }
   ],
   "source": [
    "library(extRemes)"
   ]
  },
  {
   "cell_type": "code",
   "execution_count": 3,
   "id": "cdd7e05d",
   "metadata": {},
   "outputs": [],
   "source": [
    "data <- c(-0.77,-0.74,-0.66,-0.6,-0.81,-0.71,-0.76,-0.76)"
   ]
  },
  {
   "cell_type": "code",
   "execution_count": 4,
   "id": "d2ba6084",
   "metadata": {},
   "outputs": [
    {
     "data": {
      "text/plain": [
       "\n",
       "fevd(x = data, type = \"Gumbel\")\n",
       "\n",
       "[1] \"Estimation Method used: MLE\"\n",
       "\n",
       "\n",
       " Negative Log-Likelihood Value:  -11.46844 \n",
       "\n",
       "\n",
       " Estimated parameters:\n",
       "   location       scale \n",
       "-0.75512634  0.04816946 \n",
       "\n",
       " Standard Error Estimates:\n",
       "  location      scale \n",
       "0.01789754 0.01372447 \n",
       "\n",
       " Estimated parameter covariance matrix.\n",
       "             location        scale\n",
       "location 3.203219e-04 7.555403e-05\n",
       "scale    7.555403e-05 1.883610e-04\n",
       "\n",
       " AIC = -18.93689 \n",
       "\n",
       " BIC = -18.778 "
      ]
     },
     "metadata": {},
     "output_type": "display_data"
    }
   ],
   "source": [
    "datafit <- fevd(data, type=\"Gumbel\")\n",
    "datafit"
   ]
  },
  {
   "cell_type": "code",
   "execution_count": 5,
   "id": "dbde28be",
   "metadata": {},
   "outputs": [
    {
     "data": {
      "image/png": "[encoded data removed]",
      "text/plain": [
       "Plot with title \"\""
      ]
     },
     "metadata": {
      "image/png": {
       "height": 420,
       "width": 420
      }
     },
     "output_type": "display_data"
    }
   ],
   "source": [
    "plot(datafit)"
   ]
  },
  {
   "cell_type": "code",
   "execution_count": 6,
   "id": "860ffeef",
   "metadata": {},
   "outputs": [
    {
     "data": {
      "text/plain": [
       "fevd(x = data, type = \"Gumbel\")\n",
       "get(paste(\"return.level.fevd.\", newcl, sep = \"\"))(x = x, return.period = return.period)\n",
       "\n",
       " Gumbel model fitted to  data  \n",
       "Data are assumed to be  stationary \n",
       "[1] \"Return Levels for period units in years\"\n",
       "  2-year level  20-year level 100-year level \n",
       "    -0.7374716     -0.6120536     -0.5335396 "
      ]
     },
     "metadata": {},
     "output_type": "display_data"
    }
   ],
   "source": [
    "return.level(datafit)"
   ]
  },
  {
   "cell_type": "code",
   "execution_count": 17,
   "id": "a9f63065",
   "metadata": {},
   "outputs": [
    {
     "data": {
      "text/plain": [
       "fevd(x = data, type = \"Gumbel\")\n",
       "get(paste(\"return.level.fevd.\", newcl, sep = \"\"))(x = x, return.period = return.period, \n",
       "    conf = 0.05, rperiods = ..2, make.plot = TRUE)\n",
       "\n",
       " Gumbel model fitted to  data  \n",
       "Data are assumed to be  stationary \n",
       "[1] \"Return Levels for period units in years\"\n",
       "  2-year level  20-year level 100-year level \n",
       "    -0.7374716     -0.6120536     -0.5335396 "
      ]
     },
     "metadata": {},
     "output_type": "display_data"
    }
   ],
   "source": [
    "return.level(datafit, conf = 0.05, rperiods= c(10,100,210,510,810,980), make.plot = TRUE)"
   ]
  },
  {
   "cell_type": "code",
   "execution_count": 18,
   "id": "f4db619d",
   "metadata": {
    "scrolled": true
   },
   "outputs": [
    {
     "data": {
      "image/png": "[encoded data removed]",
      "text/plain": [
       "Plot with title \"fevd(x = data, type = \"Gumbel\")\""
      ]
     },
     "metadata": {
      "image/png": {
       "height": 420,
       "width": 420
      }
     },
     "output_type": "display_data"
    }
   ],
   "source": [
    "plot(datafit, \"qq\")"
   ]
  },
  {
   "cell_type": "markdown",
   "id": "d2d0bf0f",
   "metadata": {},
   "source": [
    "https://ulysse-pasquier.com/post/r-plotting-results-from-extremes-package-extreme-value-analysis/"
   ]
  },
  {
   "cell_type": "code",
   "execution_count": 19,
   "id": "b453e784",
   "metadata": {},
   "outputs": [
    {
     "data": {
      "text/html": [
       "<table class=\"dataframe\">\n",
       "<caption>A matrix: 8 × 1 of type dbl</caption>\n",
       "<thead>\n",
       "\t<tr><th scope=col>y</th></tr>\n",
       "</thead>\n",
       "<tbody>\n",
       "\t<tr><td>-0.77</td></tr>\n",
       "\t<tr><td>-0.74</td></tr>\n",
       "\t<tr><td>-0.66</td></tr>\n",
       "\t<tr><td>-0.60</td></tr>\n",
       "\t<tr><td>-0.81</td></tr>\n",
       "\t<tr><td>-0.71</td></tr>\n",
       "\t<tr><td>-0.76</td></tr>\n",
       "\t<tr><td>-0.76</td></tr>\n",
       "</tbody>\n",
       "</table>\n"
      ],
      "text/latex": [
       "A matrix: 8 × 1 of type dbl\n",
       "\\begin{tabular}{l}\n",
       " y\\\\\n",
       "\\hline\n",
       "\t -0.77\\\\\n",
       "\t -0.74\\\\\n",
       "\t -0.66\\\\\n",
       "\t -0.60\\\\\n",
       "\t -0.81\\\\\n",
       "\t -0.71\\\\\n",
       "\t -0.76\\\\\n",
       "\t -0.76\\\\\n",
       "\\end{tabular}\n"
      ],
      "text/markdown": [
       "\n",
       "A matrix: 8 × 1 of type dbl\n",
       "\n",
       "| y |\n",
       "|---|\n",
       "| -0.77 |\n",
       "| -0.74 |\n",
       "| -0.66 |\n",
       "| -0.60 |\n",
       "| -0.81 |\n",
       "| -0.71 |\n",
       "| -0.76 |\n",
       "| -0.76 |\n",
       "\n"
      ],
      "text/plain": [
       "     y    \n",
       "[1,] -0.77\n",
       "[2,] -0.74\n",
       "[3,] -0.66\n",
       "[4,] -0.60\n",
       "[5,] -0.81\n",
       "[6,] -0.71\n",
       "[7,] -0.76\n",
       "[8,] -0.76"
      ]
     },
     "metadata": {},
     "output_type": "display_data"
    }
   ],
   "source": [
    "datagrabber(datafit)"
   ]
  },
  {
   "cell_type": "code",
   "execution_count": 21,
   "id": "329d5ff5",
   "metadata": {},
   "outputs": [
    {
     "data": {
      "text/html": [
       "<style>\n",
       ".list-inline {list-style: none; margin:0; padding: 0}\n",
       ".list-inline>li {display: inline-block}\n",
       ".list-inline>li:not(:last-child)::after {content: \"\\00b7\"; padding: 0 .5ex}\n",
       "</style>\n",
       "<ol class=list-inline><li>0.111111111111111</li><li>0.222222222222222</li><li>0.333333333333333</li><li>0.444444444444444</li><li>0.555555555555556</li><li>0.666666666666667</li><li>0.777777777777778</li><li>0.888888888888889</li></ol>\n"
      ],
      "text/latex": [
       "\\begin{enumerate*}\n",
       "\\item 0.111111111111111\n",
       "\\item 0.222222222222222\n",
       "\\item 0.333333333333333\n",
       "\\item 0.444444444444444\n",
       "\\item 0.555555555555556\n",
       "\\item 0.666666666666667\n",
       "\\item 0.777777777777778\n",
       "\\item 0.888888888888889\n",
       "\\end{enumerate*}\n"
      ],
      "text/markdown": [
       "1. 0.111111111111111\n",
       "2. 0.222222222222222\n",
       "3. 0.333333333333333\n",
       "4. 0.444444444444444\n",
       "5. 0.555555555555556\n",
       "6. 0.666666666666667\n",
       "7. 0.777777777777778\n",
       "8. 0.888888888888889\n",
       "\n",
       "\n"
      ],
      "text/plain": [
       "[1] 0.1111111 0.2222222 0.3333333 0.4444444 0.5555556 0.6666667 0.7777778\n",
       "[8] 0.8888889"
      ]
     },
     "metadata": {},
     "output_type": "display_data"
    }
   ],
   "source": [
    "ppoints(datafit$n,a=0)"
   ]
  },
  {
   "cell_type": "code",
   "execution_count": null,
   "id": "b66b546c",
   "metadata": {},
   "outputs": [],
   "source": []
  },
  {
   "cell_type": "code",
   "execution_count": null,
   "id": "bf4fe9ac",
   "metadata": {},
   "outputs": [],
   "source": []
  },
  {
   "cell_type": "code",
   "execution_count": null,
   "id": "8204a37a",
   "metadata": {},
   "outputs": [],
   "source": []
  },
  {
   "cell_type": "code",
   "execution_count": 10,
   "id": "2ed7ac4e",
   "metadata": {},
   "outputs": [],
   "source": [
    "getrlpoints <- function(fit){\n",
    "\n",
    "xp2 <- ppoints(fit$n, a = 0)\n",
    "ytmp <- datagrabber(fit)\n",
    "y <- c(ytmp[, 1])\n",
    "sdat <- sort(y)\n",
    "npy <- fit$npy\n",
    "u <- fit$threshold\n",
    "rlpoints.x <- -1/log(xp2)[sdat > u]/npy\n",
    "rlpoints.y <- sdat[sdat > u]\n",
    "rlpoints <- data.frame(rlpoints.x, rlpoints.y)\n",
    "\n",
    "return(rlpoints)\n",
    "}"
   ]
  },
  {
   "cell_type": "code",
   "execution_count": 11,
   "id": "72ab9a04",
   "metadata": {},
   "outputs": [],
   "source": [
    "getcidf <- function(fit){\n",
    "\n",
    "rperiods = c(2, 5, 10, 20, 50, 80, 100, 120, 200, 250, 300, 500, 800)\n",
    "bds <- ci(fit, return.period = rperiods)\n",
    "c1 <- as.numeric(bds[,1])\n",
    "c2 <- as.numeric(bds[,2])\n",
    "c3 <- as.numeric(bds[,3])\n",
    "ci_df <- data.frame(c1, c2, c3, rperiods) \n",
    "\n",
    "return(ci_df)\n",
    "}"
   ]
  },
  {
   "cell_type": "code",
   "execution_count": 12,
   "id": "dd6ded07",
   "metadata": {},
   "outputs": [],
   "source": [
    "rlpoints <- getrlpoints(datafit)\n",
    "ci_df <- getcidf(datafit)"
   ]
  },
  {
   "cell_type": "code",
   "execution_count": 13,
   "id": "cbb92040",
   "metadata": {},
   "outputs": [
    {
     "data": {
      "text/html": [
       "<table class=\"dataframe\">\n",
       "<caption>A data.frame: 0 × 2</caption>\n",
       "<thead>\n",
       "\t<tr><th scope=col>rlpoints.x</th><th scope=col>rlpoints.y</th></tr>\n",
       "\t<tr><th scope=col>&lt;dbl&gt;</th><th scope=col>&lt;dbl&gt;</th></tr>\n",
       "</thead>\n",
       "<tbody>\n",
       "</tbody>\n",
       "</table>\n"
      ],
      "text/latex": [
       "A data.frame: 0 × 2\n",
       "\\begin{tabular}{ll}\n",
       " rlpoints.x & rlpoints.y\\\\\n",
       " <dbl> & <dbl>\\\\\n",
       "\\hline\n",
       "\\end{tabular}\n"
      ],
      "text/markdown": [
       "\n",
       "A data.frame: 0 × 2\n",
       "\n",
       "| rlpoints.x &lt;dbl&gt; | rlpoints.y &lt;dbl&gt; |\n",
       "|---|---|\n",
       "\n"
      ],
      "text/plain": [
       "     rlpoints.x rlpoints.y"
      ]
     },
     "metadata": {},
     "output_type": "display_data"
    }
   ],
   "source": [
    "rlpoints"
   ]
  },
  {
   "cell_type": "code",
   "execution_count": 14,
   "id": "7da54889",
   "metadata": {},
   "outputs": [
    {
     "data": {
      "text/html": [
       "<table class=\"dataframe\">\n",
       "<caption>A data.frame: 13 × 4</caption>\n",
       "<thead>\n",
       "\t<tr><th scope=col>c1</th><th scope=col>c2</th><th scope=col>c3</th><th scope=col>rperiods</th></tr>\n",
       "\t<tr><th scope=col>&lt;dbl&gt;</th><th scope=col>&lt;dbl&gt;</th><th scope=col>&lt;dbl&gt;</th><th scope=col>&lt;dbl&gt;</th></tr>\n",
       "</thead>\n",
       "<tbody>\n",
       "\t<tr><td>-0.7767202</td><td>-0.7374716</td><td>-0.6982230</td><td>  2</td></tr>\n",
       "\t<tr><td>-0.7439415</td><td>-0.6828750</td><td>-0.6218086</td><td>  5</td></tr>\n",
       "\t<tr><td>-0.7254745</td><td>-0.6467274</td><td>-0.5679802</td><td> 10</td></tr>\n",
       "\t<tr><td>-0.7086875</td><td>-0.6120536</td><td>-0.5154198</td><td> 20</td></tr>\n",
       "\t<tr><td>-0.6876382</td><td>-0.5671720</td><td>-0.4467059</td><td> 50</td></tr>\n",
       "\t<tr><td>-0.6771083</td><td>-0.5443491</td><td>-0.4115899</td><td> 80</td></tr>\n",
       "\t<tr><td>-0.6721497</td><td>-0.5335396</td><td>-0.3949296</td><td>100</td></tr>\n",
       "\t<tr><td>-0.6681137</td><td>-0.5247168</td><td>-0.3813199</td><td>120</td></tr>\n",
       "\t<tr><td>-0.6568670</td><td>-0.5000299</td><td>-0.3431928</td><td>200</td></tr>\n",
       "\t<tr><td>-0.6519773</td><td>-0.4892570</td><td>-0.3265368</td><td>250</td></tr>\n",
       "\t<tr><td>-0.6479907</td><td>-0.4804586</td><td>-0.3129264</td><td>300</td></tr>\n",
       "\t<tr><td>-0.6368562</td><td>-0.4558202</td><td>-0.2747842</td><td>500</td></tr>\n",
       "\t<tr><td>-0.6266484</td><td>-0.4331623</td><td>-0.2396762</td><td>800</td></tr>\n",
       "</tbody>\n",
       "</table>\n"
      ],
      "text/latex": [
       "A data.frame: 13 × 4\n",
       "\\begin{tabular}{llll}\n",
       " c1 & c2 & c3 & rperiods\\\\\n",
       " <dbl> & <dbl> & <dbl> & <dbl>\\\\\n",
       "\\hline\n",
       "\t -0.7767202 & -0.7374716 & -0.6982230 &   2\\\\\n",
       "\t -0.7439415 & -0.6828750 & -0.6218086 &   5\\\\\n",
       "\t -0.7254745 & -0.6467274 & -0.5679802 &  10\\\\\n",
       "\t -0.7086875 & -0.6120536 & -0.5154198 &  20\\\\\n",
       "\t -0.6876382 & -0.5671720 & -0.4467059 &  50\\\\\n",
       "\t -0.6771083 & -0.5443491 & -0.4115899 &  80\\\\\n",
       "\t -0.6721497 & -0.5335396 & -0.3949296 & 100\\\\\n",
       "\t -0.6681137 & -0.5247168 & -0.3813199 & 120\\\\\n",
       "\t -0.6568670 & -0.5000299 & -0.3431928 & 200\\\\\n",
       "\t -0.6519773 & -0.4892570 & -0.3265368 & 250\\\\\n",
       "\t -0.6479907 & -0.4804586 & -0.3129264 & 300\\\\\n",
       "\t -0.6368562 & -0.4558202 & -0.2747842 & 500\\\\\n",
       "\t -0.6266484 & -0.4331623 & -0.2396762 & 800\\\\\n",
       "\\end{tabular}\n"
      ],
      "text/markdown": [
       "\n",
       "A data.frame: 13 × 4\n",
       "\n",
       "| c1 &lt;dbl&gt; | c2 &lt;dbl&gt; | c3 &lt;dbl&gt; | rperiods &lt;dbl&gt; |\n",
       "|---|---|---|---|\n",
       "| -0.7767202 | -0.7374716 | -0.6982230 |   2 |\n",
       "| -0.7439415 | -0.6828750 | -0.6218086 |   5 |\n",
       "| -0.7254745 | -0.6467274 | -0.5679802 |  10 |\n",
       "| -0.7086875 | -0.6120536 | -0.5154198 |  20 |\n",
       "| -0.6876382 | -0.5671720 | -0.4467059 |  50 |\n",
       "| -0.6771083 | -0.5443491 | -0.4115899 |  80 |\n",
       "| -0.6721497 | -0.5335396 | -0.3949296 | 100 |\n",
       "| -0.6681137 | -0.5247168 | -0.3813199 | 120 |\n",
       "| -0.6568670 | -0.5000299 | -0.3431928 | 200 |\n",
       "| -0.6519773 | -0.4892570 | -0.3265368 | 250 |\n",
       "| -0.6479907 | -0.4804586 | -0.3129264 | 300 |\n",
       "| -0.6368562 | -0.4558202 | -0.2747842 | 500 |\n",
       "| -0.6266484 | -0.4331623 | -0.2396762 | 800 |\n",
       "\n"
      ],
      "text/plain": [
       "   c1         c2         c3         rperiods\n",
       "1  -0.7767202 -0.7374716 -0.6982230   2     \n",
       "2  -0.7439415 -0.6828750 -0.6218086   5     \n",
       "3  -0.7254745 -0.6467274 -0.5679802  10     \n",
       "4  -0.7086875 -0.6120536 -0.5154198  20     \n",
       "5  -0.6876382 -0.5671720 -0.4467059  50     \n",
       "6  -0.6771083 -0.5443491 -0.4115899  80     \n",
       "7  -0.6721497 -0.5335396 -0.3949296 100     \n",
       "8  -0.6681137 -0.5247168 -0.3813199 120     \n",
       "9  -0.6568670 -0.5000299 -0.3431928 200     \n",
       "10 -0.6519773 -0.4892570 -0.3265368 250     \n",
       "11 -0.6479907 -0.4804586 -0.3129264 300     \n",
       "12 -0.6368562 -0.4558202 -0.2747842 500     \n",
       "13 -0.6266484 -0.4331623 -0.2396762 800     "
      ]
     },
     "metadata": {},
     "output_type": "display_data"
    }
   ],
   "source": [
    "ci_df"
   ]
  },
  {
   "cell_type": "code",
   "execution_count": 15,
   "id": "00f6585e",
   "metadata": {},
   "outputs": [
    {
     "data": {
      "image/png": "[encoded data removed]",
      "text/plain": [
       "plot without title"
      ]
     },
     "metadata": {
      "image/png": {
       "height": 420,
       "width": 420
      }
     },
     "output_type": "display_data"
    }
   ],
   "source": [
    "ggplot() +\n",
    "  geom_line(data = ci_df, aes(x = rperiods, y = c2), color = \"red\") +\n",
    "  geom_line(data = ci_df, aes(x = rperiods, y = c1), color = \"grey\") +\n",
    "  geom_line(data = ci_df, aes(x = rperiods, y = c3), color = \"grey\") +\n",
    "  geom_point(data = rlpoints, aes(x = rlpoints.x, y = rlpoints.y), size = 1) +\n",
    "  ylab(\"Return Level (m)\") +\n",
    "  xlab(\"Return Period (Years)\") +\n",
    "  scale_x_log10(expand = c(0, 0), breaks = c(2,5,10,20,50,100,200,500)) +\n",
    "  theme_bw() +\n",
    "  theme(axis.text = element_text(size=12), axis.title = element_text(size = 14, face = \"bold\"))"
   ]
  },
  {
   "cell_type": "code",
   "execution_count": null,
   "id": "d13f18b6",
   "metadata": {},
   "outputs": [],
   "source": []
  }
 ],
 "metadata": {
  "kernelspec": {
   "display_name": "R",
   "language": "R",
   "name": "ir"
  },
  "language_info": {
   "codemirror_mode": "r",
   "file_extension": ".r",
   "mimetype": "text/x-r-source",
   "name": "R",
   "pygments_lexer": "r",
   "version": "4.1.0"
  }
 },
 "nbformat": 4,
 "nbformat_minor": 5
}
