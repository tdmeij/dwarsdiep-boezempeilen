{
 "cells": [
  {
   "cell_type": "markdown",
   "metadata": {},
   "source": [
    "# Vergelijking waterstanden Wemerpolder met debietmeetpunt Hoge Tilweg\n",
    "\n",
    "Op basis van metingen van het waterpeil benedenstrooms van gemaal Wemerpolder is een frequentieanalyse uitgevoerd. In dit notebook wordt de betrouwbaarheid van de gemeten waterpeilen bij gemaal Wemerpolder nader onderbouwd door vergelijking met metingen bij het debietmeetpunt Hoge Tilweg.  \n",
    "\n",
    "Auteur: Thomas de Meij (Staatsbosbeheer)  \n",
    "Datum: 14 juni 2021\n",
    "\n",
    "\n",
    "## Inlezen van de meetgegevens\n",
    "\n",
    "#### Debietmeetpunt Oude Tilweg\n",
    "\n",
    "Op 8 juni 2021 heeft Sweco een Excelbestand aangeleverd met kwartierwaarden van waterstanden en debieten van het debietmeetpunt aan de Hoge Tilweg. De metingen in het bestand lopen van 1-8-2014 10:30 tot 30-12-2017 10:45. "
   ]
  },
  {
   "cell_type": "code",
   "execution_count": 27,
   "metadata": {},
   "outputs": [],
   "source": [
    "from pandas import Series, DataFrame\n",
    "import pandas as pd\n",
    "import numpy as np\n",
    "import matplotlib.pyplot as plt\n",
    "import matplotlib.lines as mlines\n",
    "import matplotlib.transforms as mtransforms\n",
    "import seaborn as sns\n",
    "import scipy\n",
    "import scipy.stats\n",
    "\n",
    "%matplotlib inline\n",
    "sns.set_style(\"whitegrid\")  \n",
    "\n",
    "datadir = r'..\\02_data\\hoge tilweg\\\\'\n",
    "figdir = r'..\\03_result\\hoge tilweg\\\\'"
   ]
  },
  {
   "cell_type": "code",
   "execution_count": 6,
   "metadata": {},
   "outputs": [],
   "source": [
    "fpath = r'..\\01_source\\data hoge tilweg\\210608_debietmeetpunt_dwarsdiep.xlsx'\n",
    "data = pd.read_excel(fpath,sheet_name='Blad2')"
   ]
  },
  {
   "cell_type": "code",
   "execution_count": 7,
   "metadata": {},
   "outputs": [],
   "source": [
    "colnames = {'Datumtijd':'datumtijd',\n",
    "    'Waterhoogte [m NAP]':'htwnap',\n",
    "    'Debiet [m3/s]':'htwm3s'}\n",
    "data = data.rename(columns=colnames)\n",
    "data = data.set_index(keys='datumtijd',drop=True)"
   ]
  },
  {
   "cell_type": "code",
   "execution_count": 8,
   "metadata": {},
   "outputs": [
    {
     "data": {
      "text/html": [
       "<div>\n",
       "<style scoped>\n",
       "    .dataframe tbody tr th:only-of-type {\n",
       "        vertical-align: middle;\n",
       "    }\n",
       "\n",
       "    .dataframe tbody tr th {\n",
       "        vertical-align: top;\n",
       "    }\n",
       "\n",
       "    .dataframe thead th {\n",
       "        text-align: right;\n",
       "    }\n",
       "</style>\n",
       "<table border=\"1\" class=\"dataframe\">\n",
       "  <thead>\n",
       "    <tr style=\"text-align: right;\">\n",
       "      <th></th>\n",
       "      <th>htwnap</th>\n",
       "      <th>htwm3s</th>\n",
       "    </tr>\n",
       "    <tr>\n",
       "      <th>datumtijd</th>\n",
       "      <th></th>\n",
       "      <th></th>\n",
       "    </tr>\n",
       "  </thead>\n",
       "  <tbody>\n",
       "    <tr>\n",
       "      <th>2014-08-01 10:30:00</th>\n",
       "      <td>-0.86</td>\n",
       "      <td>0.868</td>\n",
       "    </tr>\n",
       "    <tr>\n",
       "      <th>2014-08-01 10:45:00</th>\n",
       "      <td>-0.86</td>\n",
       "      <td>0.702</td>\n",
       "    </tr>\n",
       "    <tr>\n",
       "      <th>2014-08-01 11:00:00</th>\n",
       "      <td>-0.86</td>\n",
       "      <td>0.879</td>\n",
       "    </tr>\n",
       "    <tr>\n",
       "      <th>2014-08-01 11:30:00</th>\n",
       "      <td>-0.86</td>\n",
       "      <td>0.786</td>\n",
       "    </tr>\n",
       "    <tr>\n",
       "      <th>2014-08-01 11:45:00</th>\n",
       "      <td>-0.86</td>\n",
       "      <td>0.889</td>\n",
       "    </tr>\n",
       "    <tr>\n",
       "      <th>2014-08-01 12:15:00</th>\n",
       "      <td>-0.86</td>\n",
       "      <td>0.769</td>\n",
       "    </tr>\n",
       "    <tr>\n",
       "      <th>2014-08-01 12:30:00</th>\n",
       "      <td>-0.86</td>\n",
       "      <td>0.878</td>\n",
       "    </tr>\n",
       "  </tbody>\n",
       "</table>\n",
       "</div>"
      ],
      "text/plain": [
       "                     htwnap  htwm3s\n",
       "datumtijd                          \n",
       "2014-08-01 10:30:00   -0.86   0.868\n",
       "2014-08-01 10:45:00   -0.86   0.702\n",
       "2014-08-01 11:00:00   -0.86   0.879\n",
       "2014-08-01 11:30:00   -0.86   0.786\n",
       "2014-08-01 11:45:00   -0.86   0.889\n",
       "2014-08-01 12:15:00   -0.86   0.769\n",
       "2014-08-01 12:30:00   -0.86   0.878"
      ]
     },
     "execution_count": 8,
     "metadata": {},
     "output_type": "execute_result"
    }
   ],
   "source": [
    "# sneak preview van de data\n",
    "data.head(7)"
   ]
  },
  {
   "cell_type": "code",
   "execution_count": 9,
   "metadata": {},
   "outputs": [
    {
     "name": "stdout",
     "output_type": "stream",
     "text": [
      "Eerste meting htwnap   -0.860\n",
      "htwm3s    0.868\n",
      "Name: 2014-08-01 10:30:00, dtype: float64\n"
     ]
    }
   ],
   "source": [
    "print(f'Eerste meting {data.loc[data.index.min()]}')"
   ]
  },
  {
   "cell_type": "code",
   "execution_count": 10,
   "metadata": {},
   "outputs": [
    {
     "name": "stdout",
     "output_type": "stream",
     "text": [
      "Laatste meting htwnap   -0.750\n",
      "htwm3s    3.027\n",
      "Name: 2017-12-30 10:45:00, dtype: float64\n"
     ]
    }
   ],
   "source": [
    "print(f'Laatste meting {data.loc[data.index.max(),:]}')"
   ]
  },
  {
   "cell_type": "code",
   "execution_count": 11,
   "metadata": {},
   "outputs": [
    {
     "data": {
      "text/html": [
       "<div>\n",
       "<style scoped>\n",
       "    .dataframe tbody tr th:only-of-type {\n",
       "        vertical-align: middle;\n",
       "    }\n",
       "\n",
       "    .dataframe tbody tr th {\n",
       "        vertical-align: top;\n",
       "    }\n",
       "\n",
       "    .dataframe thead th {\n",
       "        text-align: right;\n",
       "    }\n",
       "</style>\n",
       "<table border=\"1\" class=\"dataframe\">\n",
       "  <thead>\n",
       "    <tr style=\"text-align: right;\">\n",
       "      <th></th>\n",
       "      <th>htwnap</th>\n",
       "      <th>htwm3s</th>\n",
       "    </tr>\n",
       "  </thead>\n",
       "  <tbody>\n",
       "    <tr>\n",
       "      <th>count</th>\n",
       "      <td>87727.000000</td>\n",
       "      <td>87727.000000</td>\n",
       "    </tr>\n",
       "    <tr>\n",
       "      <th>mean</th>\n",
       "      <td>-0.862693</td>\n",
       "      <td>1.103697</td>\n",
       "    </tr>\n",
       "    <tr>\n",
       "      <th>std</th>\n",
       "      <td>0.052662</td>\n",
       "      <td>1.139094</td>\n",
       "    </tr>\n",
       "    <tr>\n",
       "      <th>min</th>\n",
       "      <td>-1.100000</td>\n",
       "      <td>-1.370000</td>\n",
       "    </tr>\n",
       "    <tr>\n",
       "      <th>25%</th>\n",
       "      <td>-0.900000</td>\n",
       "      <td>0.441000</td>\n",
       "    </tr>\n",
       "    <tr>\n",
       "      <th>50%</th>\n",
       "      <td>-0.870000</td>\n",
       "      <td>0.761000</td>\n",
       "    </tr>\n",
       "    <tr>\n",
       "      <th>75%</th>\n",
       "      <td>-0.840000</td>\n",
       "      <td>1.369000</td>\n",
       "    </tr>\n",
       "    <tr>\n",
       "      <th>max</th>\n",
       "      <td>-0.470000</td>\n",
       "      <td>14.814000</td>\n",
       "    </tr>\n",
       "  </tbody>\n",
       "</table>\n",
       "</div>"
      ],
      "text/plain": [
       "             htwnap        htwm3s\n",
       "count  87727.000000  87727.000000\n",
       "mean      -0.862693      1.103697\n",
       "std        0.052662      1.139094\n",
       "min       -1.100000     -1.370000\n",
       "25%       -0.900000      0.441000\n",
       "50%       -0.870000      0.761000\n",
       "75%       -0.840000      1.369000\n",
       "max       -0.470000     14.814000"
      ]
     },
     "execution_count": 11,
     "metadata": {},
     "output_type": "execute_result"
    }
   ],
   "source": [
    "# beschrijvende statistiek metingen\n",
    "dstat = data.describe()\n",
    "dstat"
   ]
  },
  {
   "cell_type": "markdown",
   "metadata": {},
   "source": [
    "#### Kwartierwaarden Wemerpolder  \n",
    "\n",
    "De gemeten waterstanden van Hoge Tilweg worden in dit notebook vergeleken met de gevalideerde kwartierwaarden van gemaal Wemerpolder:"
   ]
  },
  {
   "cell_type": "code",
   "execution_count": 12,
   "metadata": {},
   "outputs": [
    {
     "data": {
      "text/html": [
       "<div>\n",
       "<style scoped>\n",
       "    .dataframe tbody tr th:only-of-type {\n",
       "        vertical-align: middle;\n",
       "    }\n",
       "\n",
       "    .dataframe tbody tr th {\n",
       "        vertical-align: top;\n",
       "    }\n",
       "\n",
       "    .dataframe thead th {\n",
       "        text-align: right;\n",
       "    }\n",
       "</style>\n",
       "<table border=\"1\" class=\"dataframe\">\n",
       "  <thead>\n",
       "    <tr style=\"text-align: right;\">\n",
       "      <th></th>\n",
       "      <th>wmpnap</th>\n",
       "    </tr>\n",
       "    <tr>\n",
       "      <th>datumtijd</th>\n",
       "      <th></th>\n",
       "    </tr>\n",
       "  </thead>\n",
       "  <tbody>\n",
       "    <tr>\n",
       "      <th>2012-05-01 17:15:00</th>\n",
       "      <td>-0.82</td>\n",
       "    </tr>\n",
       "    <tr>\n",
       "      <th>2012-05-01 17:30:00</th>\n",
       "      <td>-0.83</td>\n",
       "    </tr>\n",
       "    <tr>\n",
       "      <th>2012-05-01 17:45:00</th>\n",
       "      <td>-0.82</td>\n",
       "    </tr>\n",
       "    <tr>\n",
       "      <th>2012-05-01 18:00:00</th>\n",
       "      <td>-0.82</td>\n",
       "    </tr>\n",
       "    <tr>\n",
       "      <th>2012-05-01 18:15:00</th>\n",
       "      <td>-0.83</td>\n",
       "    </tr>\n",
       "    <tr>\n",
       "      <th>...</th>\n",
       "      <td>...</td>\n",
       "    </tr>\n",
       "    <tr>\n",
       "      <th>2021-03-25 12:00:00</th>\n",
       "      <td>-0.84</td>\n",
       "    </tr>\n",
       "    <tr>\n",
       "      <th>2021-03-25 12:15:00</th>\n",
       "      <td>-0.84</td>\n",
       "    </tr>\n",
       "    <tr>\n",
       "      <th>2021-03-25 12:30:00</th>\n",
       "      <td>-0.84</td>\n",
       "    </tr>\n",
       "    <tr>\n",
       "      <th>2021-03-25 12:45:00</th>\n",
       "      <td>-0.84</td>\n",
       "    </tr>\n",
       "    <tr>\n",
       "      <th>2021-03-25 13:00:00</th>\n",
       "      <td>-0.84</td>\n",
       "    </tr>\n",
       "  </tbody>\n",
       "</table>\n",
       "<p>311984 rows × 1 columns</p>\n",
       "</div>"
      ],
      "text/plain": [
       "                     wmpnap\n",
       "datumtijd                  \n",
       "2012-05-01 17:15:00   -0.82\n",
       "2012-05-01 17:30:00   -0.83\n",
       "2012-05-01 17:45:00   -0.82\n",
       "2012-05-01 18:00:00   -0.82\n",
       "2012-05-01 18:15:00   -0.83\n",
       "...                     ...\n",
       "2021-03-25 12:00:00   -0.84\n",
       "2021-03-25 12:15:00   -0.84\n",
       "2021-03-25 12:30:00   -0.84\n",
       "2021-03-25 12:45:00   -0.84\n",
       "2021-03-25 13:00:00   -0.84\n",
       "\n",
       "[311984 rows x 1 columns]"
      ]
     },
     "execution_count": 12,
     "metadata": {},
     "output_type": "execute_result"
    }
   ],
   "source": [
    "fpath = r'..\\\\02_data\\\\validatie waterpeilen\\\\wemerpolder_kwartierwaarden_gevalideerd.csv'\n",
    "wmpnap = pd.read_csv(fpath,index_col='datumtijd',parse_dates=True)\n",
    "wmpnap"
   ]
  },
  {
   "cell_type": "markdown",
   "metadata": {},
   "source": [
    "## Visuele beoordeling van de metingen  \n",
    "\n",
    "Onderstaande figuren geven een eerste indruk van de metingen van Hoge Tilweg. Bij inzoomen op de metingen is te zien dat tussen 15 mei en 15 oktober 2016 en tussen 15 september en 1 november 2017 geen betrouwbare metingen zijn verzameld. De metingen in deze perioden zijn op NoData gezet."
   ]
  },
  {
   "cell_type": "code",
   "execution_count": 13,
   "metadata": {},
   "outputs": [],
   "source": [
    "def plot_rawdata(data):\n",
    "    \"\"\"Plot timegraph of raw measurements\"\"\"\n",
    "    fig, ax = plt.subplots(nrows=2, ncols=1)\n",
    "    fig.set_size_inches(8,4) # w,h\n",
    "\n",
    "    x = data.index.values\n",
    "    y = data['htwnap'].values\n",
    "    ax[0].plot(x,y,color='#8b0000')\n",
    "    ax[0].set_title('waterpeil mNAP')\n",
    "\n",
    "    y = data['htwm3s'].values\n",
    "    ax[1].plot(x,y,color='#8b0000')\n",
    "    ax[1].set_title(label='debiet m3/s')\n",
    "\n",
    "    fig.tight_layout(pad=2.0)\n",
    "\n",
    "    return fig,ax\n",
    "\n",
    "fig,ax = plot_rawdata(data)\n",
    "fpath = f'{figdir}hoge tilweg - ruwe kwartierwaarden.jpg'\n",
    "fig.savefig(fpath,dpi=300,bbox_inches='tight')"
   ]
  },
  {
   "cell_type": "code",
   "execution_count": 14,
   "metadata": {},
   "outputs": [],
   "source": [
    "plot_rawdata(data.loc['2016-05-01 00:00:00':'2016-10-31 23:45:00',:])\n",
    "fpath = f'{figdir}hoge tilweg - periode mei - okt 2016.jpg'\n",
    "fig.savefig(fpath,dpi=300,bbox_inches='tight')"
   ]
  },
  {
   "cell_type": "code",
   "execution_count": 15,
   "metadata": {},
   "outputs": [],
   "source": [
    "plot_rawdata(data.loc['2017-09-01 00:00:00':'2017-11-30 23:45:00',:])\n",
    "fpath = f'{figdir}hoge tilweg - periode september - november 2017.jpg'\n",
    "fig.savefig(fpath,dpi=300,bbox_inches='tight')"
   ]
  },
  {
   "cell_type": "markdown",
   "metadata": {},
   "source": [
    "De metingen in beide perioden worden op NaN gezet, zodat ze niet meedoen in de verschilanalyse:"
   ]
  },
  {
   "cell_type": "code",
   "execution_count": 16,
   "metadata": {},
   "outputs": [],
   "source": [
    "# set values to NaN\n",
    "data.loc['2016-05-16 00:00:00':'2016-10-14 23:45:00',:]=np.nan\n",
    "data.loc['2017-09-16 00:00:00':'2017-10-31 23:45:00',:]=np.nan\n",
    "fig,ax = plot_rawdata(data)\n",
    "fpath = f'{figdir}Hoge Tilweg - aangepaste kwartierwaarden.jpg'\n",
    "fig.savefig(fpath,dpi=300,bbox_inches='tight')"
   ]
  },
  {
   "cell_type": "markdown",
   "metadata": {},
   "source": [
    "## Visuele beoordeling debieten  \n",
    "\n",
    "Onderstaande figuur toont de debieten van Hoge Tilweg als functie van het waterpeil. Daaruit blijkt dat de reeks negatieve debieten omvat. De volgende grafiek toont een korte periode waarin negatieve debieten optreden. Er is steeds sprake van een kortdurende periode waarin het debiet negatief wordt. Het is onduidelijk of het water op dat moment echt stroomopwaarts stroomt, of dat er sprake is van een artefact van het meetproces.  "
   ]
  },
  {
   "cell_type": "code",
   "execution_count": 17,
   "metadata": {},
   "outputs": [],
   "source": [
    "def plot_Qh(data):\n",
    "    \"\"\"Plot water level versus discharge\"\"\"\n",
    "    fig, ax = plt.subplots(nrows=1, ncols=1)\n",
    "    fig.set_size_inches(8,6) # w,h\n",
    "\n",
    "    x = data['htwnap'].values\n",
    "    y = data['htwm3s'].values\n",
    "\n",
    "    ax.scatter(x,y,color='#8b0000',s=4)\n",
    "    ax.set_xlabel('waterpeil mNAP',fontsize=14)\n",
    "    ax.set_ylabel('debiet m3/s',fontsize=14)\n",
    "    \n",
    "    fig.tight_layout(pad=2.0)\n",
    "\n",
    "    return fig,ax\n",
    "\n",
    "fig,ax = plot_Qh(data)\n",
    "fpath = f'{figdir}Hoge Tilweg - verband tussen waterpeil en debiet.jpg'\n",
    "fig.savefig(fpath,dpi=300,bbox_inches='tight')"
   ]
  },
  {
   "cell_type": "code",
   "execution_count": 18,
   "metadata": {},
   "outputs": [],
   "source": [
    "# korte periode met negatieve debieten\n",
    "plot_rawdata(data.loc['2015-06-13 00:00:00':'2015-06-17 23:45:00',:])\n",
    "\n",
    "fpath = f'{figdir}Hoge Tilweg - periode met negatieve debieten.jpg'\n",
    "fig.savefig(fpath,dpi=300,bbox_inches='tight')"
   ]
  },
  {
   "cell_type": "markdown",
   "metadata": {},
   "source": [
    "## Frequentieverdeling debieten  \n",
    "\n",
    "Onderstaande figuur toont de frequentieverdeling van metingen van Hoge Tilweg:\n",
    "- links : empirische frequentieverdeling van kwartierwaarden van debieten \n",
    "- midden: cumulatieve fruentieverdeling debieten\n",
    "- rechts: frequentieverdeling van de logaritme van debieten en een fit van de normale verdeling op de log-getransformeerde debieten\n",
    "\n",
    "De rechtergrafiek grafiek laat zien dat de berekende debieten van Hoge Tilweg min of meer een lognormale verdeling volgen met een gemiddelde van 0,8 m3/s en een standaardafwijking van 2,5 m3/s.  \n",
    "Het berekende debiet ligt 90% van de tijd beneden 2,5 m3/s, het hoogste berekende debiet is 15 m3/s."
   ]
  },
  {
   "cell_type": "code",
   "execution_count": 19,
   "metadata": {},
   "outputs": [],
   "source": [
    "data['logQm3s']=data['htwm3s'].apply(lambda x:np.log10(x) if not np.isnan(x) else x)"
   ]
  },
  {
   "cell_type": "code",
   "execution_count": 20,
   "metadata": {},
   "outputs": [],
   "source": [
    "# drie grafieken van de frequentieverdeling van debieten van Hoge Tilweg\n",
    "vals = data['htwm3s'].dropna().values\n",
    "logvals = data['logQm3s'].dropna().values\n",
    "\n",
    "fig, ax = plt.subplots(nrows=1, ncols=3)\n",
    "fig.set_size_inches(12,4) # w,h\n",
    "fig.tight_layout()\n",
    "\n",
    "# frequentieverdeling\n",
    "m, bins, patches = ax[0].hist(vals, 40, density=1, alpha=0.95)\n",
    "ax[0].set_title(label='frequentieverdeling debiet')\n",
    "ax[0].set_ylabel('relatieve frequentie')\n",
    "ax[0].set_xlabel('debiet (m3/s)')\n",
    "ax[0].set_ylim(0,0.8)\n",
    "\n",
    "# cumulatieve frequentieverdeling\n",
    "m, bins, patches = ax[1].hist(vals, 20, density=1, alpha=0.95, cumulative=True)\n",
    "ax[1].set_title(label='cumulatieve frequentieverdeling debiet', fontsize=12)\n",
    "ax[1].set_xlabel('debiet (m3/s)')\n",
    "ax[1].set_ylim(0,1.1)\n",
    "\n",
    "# lognormale verdeling\n",
    "m, bins, patches = ax[2].hist(logvals, 20, density=1, alpha=0.95)\n",
    "\n",
    "mu, sigma = scipy.stats.norm.fit(logvals)\n",
    "best_fit_line = scipy.stats.norm.pdf(bins, mu, sigma)\n",
    "ax[2].plot(bins, best_fit_line)\n",
    "ax[2].set_ylim(0,1.2)\n",
    "ax[2].set_xticks([-2,-1,0,1,2])\n",
    "ax[2].set_xticklabels(['0,01','0.1','1.0','10','100'])\n",
    "\n",
    "ax[2].set_title(label='frequentieverdeling 10log debiet')\n",
    "ax[2].set_xlabel('debiet (m3/s)')\n",
    "\n",
    "fpath = f'{figdir}Hoge Tilweg - empirische frequentieverdeling debiet.jpg'\n",
    "fig.savefig(fpath,dpi=300,bbox_inches='tight')"
   ]
  },
  {
   "cell_type": "markdown",
   "metadata": {},
   "source": [
    "## Vergelijking van waterstanden Wemerpolder en Hoge Tilweg  \n",
    "\n",
    "Voor de vergelijking van de gemeten waterpeilen bij gemaal Wemerpolder met Hoge Tilweg kijken we naar de kwartierwaarden op hetzelfde moment. Eerst plotten we de tijdreeksen van beide meetpunten onder elkaar en daarna een grafiek waarin de metingen van beide meetpunten in hetzelfde kwartier tegen elkaar worden uitgezet."
   ]
  },
  {
   "cell_type": "code",
   "execution_count": 21,
   "metadata": {},
   "outputs": [
    {
     "data": {
      "text/html": [
       "<div>\n",
       "<style scoped>\n",
       "    .dataframe tbody tr th:only-of-type {\n",
       "        vertical-align: middle;\n",
       "    }\n",
       "\n",
       "    .dataframe tbody tr th {\n",
       "        vertical-align: top;\n",
       "    }\n",
       "\n",
       "    .dataframe thead th {\n",
       "        text-align: right;\n",
       "    }\n",
       "</style>\n",
       "<table border=\"1\" class=\"dataframe\">\n",
       "  <thead>\n",
       "    <tr style=\"text-align: right;\">\n",
       "      <th></th>\n",
       "      <th>wmpnap</th>\n",
       "      <th>htwnap</th>\n",
       "      <th>delta_htw</th>\n",
       "    </tr>\n",
       "    <tr>\n",
       "      <th>datumtijd</th>\n",
       "      <th></th>\n",
       "      <th></th>\n",
       "      <th></th>\n",
       "    </tr>\n",
       "  </thead>\n",
       "  <tbody>\n",
       "    <tr>\n",
       "      <th>2014-08-01 10:30:00</th>\n",
       "      <td>-0.86</td>\n",
       "      <td>-0.86</td>\n",
       "      <td>0.00</td>\n",
       "    </tr>\n",
       "    <tr>\n",
       "      <th>2014-08-01 10:45:00</th>\n",
       "      <td>-0.87</td>\n",
       "      <td>-0.86</td>\n",
       "      <td>0.01</td>\n",
       "    </tr>\n",
       "    <tr>\n",
       "      <th>2014-08-01 11:00:00</th>\n",
       "      <td>-0.87</td>\n",
       "      <td>-0.86</td>\n",
       "      <td>0.01</td>\n",
       "    </tr>\n",
       "    <tr>\n",
       "      <th>2014-08-01 11:30:00</th>\n",
       "      <td>-0.86</td>\n",
       "      <td>-0.86</td>\n",
       "      <td>0.00</td>\n",
       "    </tr>\n",
       "    <tr>\n",
       "      <th>2014-08-01 11:45:00</th>\n",
       "      <td>-0.87</td>\n",
       "      <td>-0.86</td>\n",
       "      <td>0.01</td>\n",
       "    </tr>\n",
       "    <tr>\n",
       "      <th>...</th>\n",
       "      <td>...</td>\n",
       "      <td>...</td>\n",
       "      <td>...</td>\n",
       "    </tr>\n",
       "    <tr>\n",
       "      <th>2017-12-30 09:45:00</th>\n",
       "      <td>-0.81</td>\n",
       "      <td>-0.75</td>\n",
       "      <td>0.06</td>\n",
       "    </tr>\n",
       "    <tr>\n",
       "      <th>2017-12-30 10:00:00</th>\n",
       "      <td>-0.79</td>\n",
       "      <td>-0.75</td>\n",
       "      <td>0.04</td>\n",
       "    </tr>\n",
       "    <tr>\n",
       "      <th>2017-12-30 10:15:00</th>\n",
       "      <td>-0.78</td>\n",
       "      <td>-0.75</td>\n",
       "      <td>0.03</td>\n",
       "    </tr>\n",
       "    <tr>\n",
       "      <th>2017-12-30 10:30:00</th>\n",
       "      <td>-0.79</td>\n",
       "      <td>-0.75</td>\n",
       "      <td>0.04</td>\n",
       "    </tr>\n",
       "    <tr>\n",
       "      <th>2017-12-30 10:45:00</th>\n",
       "      <td>-0.79</td>\n",
       "      <td>-0.75</td>\n",
       "      <td>0.04</td>\n",
       "    </tr>\n",
       "  </tbody>\n",
       "</table>\n",
       "<p>87727 rows × 3 columns</p>\n",
       "</div>"
      ],
      "text/plain": [
       "                     wmpnap  htwnap  delta_htw\n",
       "datumtijd                                     \n",
       "2014-08-01 10:30:00   -0.86   -0.86       0.00\n",
       "2014-08-01 10:45:00   -0.87   -0.86       0.01\n",
       "2014-08-01 11:00:00   -0.87   -0.86       0.01\n",
       "2014-08-01 11:30:00   -0.86   -0.86       0.00\n",
       "2014-08-01 11:45:00   -0.87   -0.86       0.01\n",
       "...                     ...     ...        ...\n",
       "2017-12-30 09:45:00   -0.81   -0.75       0.06\n",
       "2017-12-30 10:00:00   -0.79   -0.75       0.04\n",
       "2017-12-30 10:15:00   -0.78   -0.75       0.03\n",
       "2017-12-30 10:30:00   -0.79   -0.75       0.04\n",
       "2017-12-30 10:45:00   -0.79   -0.75       0.04\n",
       "\n",
       "[87727 rows x 3 columns]"
      ]
     },
     "execution_count": 21,
     "metadata": {},
     "output_type": "execute_result"
    }
   ],
   "source": [
    "# samenvoegen kwartierwaarden Hoge Tilweg en Wemperpolder tot één tabel\n",
    "levels = pd.merge(wmpnap,data['htwnap'],left_index=True,right_index=True,how='inner')\n",
    "levels['delta_htw'] = levels['htwnap']-levels['wmpnap']\n",
    "levels"
   ]
  },
  {
   "cell_type": "code",
   "execution_count": 22,
   "metadata": {},
   "outputs": [],
   "source": [
    "def plot_compare(wp):\n",
    "    \"\"\"Plot timegraph of two water level series\"\"\"\n",
    "    fig, ax = plt.subplots(nrows=2, ncols=1)\n",
    "    fig.set_size_inches(8,4) # w,h\n",
    "\n",
    "    x = wp.index.values\n",
    "    y = wp['wmpnap'].values\n",
    "    ax[0].plot(x,y,color='#8b0000')\n",
    "    ax[0].set_title('Wemerpolder')\n",
    "\n",
    "    y = wp['htwnap'].values\n",
    "    ax[1].plot(x,y,color='#8b0000')\n",
    "    ax[1].set_title(label='Hoge Tilweg')\n",
    "\n",
    "    fig.tight_layout(pad=2.0)\n",
    "\n",
    "    return fig,ax\n",
    "\n",
    "fig,ax = plot_compare(levels)\n",
    "fpath = f'{figdir}tijdreeks waterpeilen kwartierwaarden.jpg'\n",
    "fig.savefig(fpath,dpi=300,bbox_inches='tight')"
   ]
  },
  {
   "cell_type": "code",
   "execution_count": 23,
   "metadata": {},
   "outputs": [],
   "source": [
    "fig, ax = plt.subplots(nrows=1, ncols=1)\n",
    "fig.set_size_inches(8,5) # w,h\n",
    "fig.tight_layout(pad=2.0)\n",
    "\n",
    "ax.scatter(levels['wmpnap'],levels['htwnap'],s=4.,c='#8b0000') #, markersize=6, color=\"blue\")\n",
    "ax.set_xlabel('wemerpolder',fontsize=12.)\n",
    "ax.set_ylabel('hoge tilweg',fontsize=12.)\n",
    "\n",
    "min = -1.2\n",
    "max = -0.4\n",
    "ax.plot([min,max], [min,max], color = '#726f77')\n",
    "ax.set_xlim(min,max)\n",
    "ax.set_ylim(min,max)\n",
    "\n",
    "fpath = f'{figdir}scatterplot kwartierwaarden wemerpolder en hoge tilweg.jpg'\n",
    "fig.savefig(fpath,dpi=300,bbox_inches='tight')"
   ]
  },
  {
   "cell_type": "markdown",
   "metadata": {},
   "source": [
    "Bovenstaande grafiek laat zien dat er een duidelijk rechtlijnig verband is tussen de gemeten waterpeilen van beide meetpunten. In de grafiek liggen vele punten op elkaar, de grafiek toont het totale bereik van de afwijkingen, zonder dat meteen zichtbaar wordt waar het zwaartepunt van de datapunten ligt. \n",
    "\n",
    "De figuur hieronder toont een frequentieverdeling van de verschillen en een best-fit van de normale verdeling."
   ]
  },
  {
   "cell_type": "code",
   "execution_count": 24,
   "metadata": {},
   "outputs": [
    {
     "data": {
      "text/plain": [
       "count    83731.000000\n",
       "mean         0.020862\n",
       "std          0.018096\n",
       "min         -0.050000\n",
       "25%          0.010000\n",
       "50%          0.020000\n",
       "75%          0.030000\n",
       "max          0.270000\n",
       "Name: delta_htw, dtype: float64"
      ]
     },
     "execution_count": 24,
     "metadata": {},
     "output_type": "execute_result"
    }
   ],
   "source": [
    "levels['delta_htw'].describe()"
   ]
  },
  {
   "cell_type": "code",
   "execution_count": 26,
   "metadata": {},
   "outputs": [],
   "source": [
    "mydata = levels['delta_htw'].dropna().values\n",
    "\n",
    "# fig\n",
    "fig, ax = plt.subplots(nrows=1, ncols=1)\n",
    "fig.set_size_inches(8,4) # w,h\n",
    "fig.tight_layout()\n",
    "\n",
    "# frequentieverdeling\n",
    "mybins = np.arange(-0.05,0.30,0.01)\n",
    "m, bins, patches = ax.hist(mydata, bins=mybins, density=1, alpha=0.8)\n",
    "ax.set_ylabel('relatieve frequentie (%)',fontsize=14)\n",
    "ax.set_xlabel('verschil waterpeil hoge tilweg met wemerpolder (m)',fontsize=14)\n",
    "\n",
    "mu, sigma = scipy.stats.norm.fit(mydata)\n",
    "best_fit_line = scipy.stats.norm.pdf(mybins, mu, sigma)\n",
    "ax.plot(bins, best_fit_line, color='#8b0000', lw=2.)\n",
    "ax.set_xlim(-0.10,0.20)\n",
    "\n",
    "fpath = f'{figdir}histogram verschillen waterpeil hoge tilweg met wemerpolder.jpg'\n",
    "fig.savefig(fpath,dpi=300,bbox_inches='tight')"
   ]
  },
  {
   "cell_type": "markdown",
   "metadata": {},
   "source": [
    "## Conclusies\n",
    "\n",
    "- Er is een duidelijk rechtlijnig verband tussen de waterpeilen van Wemerpolder en Hoge Tilweg.  \n",
    "- De waterstanden van Hoge Tilweg liggen tussen 5 cm beneden en 27 cm boven de waterpeilen bij Wemerpolder.\n",
    "- Gemiddeld ligt het niveau van Hoge Tilweg 2 cm hoger dan Wemerpolder met een 95%-betrouwbaarheidsinterval tussen -1,5 en +5,7 cm (onder de veronderstelling dat de verschillen normaal verdeeld zijn). Dit zijn afwijkingen die naar verwachting binnen de meetonzekereid van beide meetpunten liggen.  \n",
    "\n",
    "Vergelijking van de waterpeilen van Wemerpolder met Hoge Tilweg bevestigt de betrouwbaarheid van de gemeten waterpeilen die zijn gebruikt voor de frequentieanalyse.  \n",
    "\n"
   ]
  }
 ],
 "metadata": {
  "kernelspec": {
   "display_name": "Python 3",
   "language": "python",
   "name": "python3"
  },
  "language_info": {
   "codemirror_mode": {
    "name": "ipython",
    "version": 3
   },
   "file_extension": ".py",
   "mimetype": "text/x-python",
   "name": "python",
   "nbconvert_exporter": "python",
   "pygments_lexer": "ipython3",
   "version": "3.7.11"
  }
 },
 "nbformat": 4,
 "nbformat_minor": 4
}
