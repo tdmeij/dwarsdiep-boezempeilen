{
 "cells": [
  {
   "cell_type": "markdown",
   "metadata": {},
   "source": [
    "# Dagwaarden van gemeten waterpeilen Dwarsdiep  \n",
    "\n",
    "Waterschap Noorderzijvest heeft een Excelbestand aangeleverd met gemeten waterstanden in het Dwarsdiep. De metingen zijn afkomstig van de gemalen Oude Riet en Wemerpolder die dicht bij elkaar staan en water opmalen naar het Dwarsdiep. Dit notebook geeft een beschrijving van de data en berekent dagwaarden voor verdere bewerkingen.  \n"
   ]
  },
  {
   "cell_type": "code",
   "execution_count": 21,
   "metadata": {},
   "outputs": [],
   "source": [
    "from pandas import Series, DataFrame\n",
    "import pandas as pd\n",
    "import numpy as np\n",
    "import matplotlib.pyplot as plt\n",
    "import seaborn as sns\n",
    "import scipy\n",
    "sns.set_style(\"whitegrid\")"
   ]
  },
  {
   "cell_type": "markdown",
   "metadata": {},
   "source": [
    "## Inlezen van de meetgegevens"
   ]
  },
  {
   "cell_type": "code",
   "execution_count": 2,
   "metadata": {},
   "outputs": [
    {
     "data": {
      "text/html": [
       "<div>\n",
       "<style scoped>\n",
       "    .dataframe tbody tr th:only-of-type {\n",
       "        vertical-align: middle;\n",
       "    }\n",
       "\n",
       "    .dataframe tbody tr th {\n",
       "        vertical-align: top;\n",
       "    }\n",
       "\n",
       "    .dataframe thead th {\n",
       "        text-align: right;\n",
       "    }\n",
       "</style>\n",
       "<table border=\"1\" class=\"dataframe\">\n",
       "  <thead>\n",
       "    <tr style=\"text-align: right;\">\n",
       "      <th></th>\n",
       "      <th>wmpnap</th>\n",
       "      <th>odrnap</th>\n",
       "    </tr>\n",
       "    <tr>\n",
       "      <th>datumtijd</th>\n",
       "      <th></th>\n",
       "      <th></th>\n",
       "    </tr>\n",
       "  </thead>\n",
       "  <tbody>\n",
       "    <tr>\n",
       "      <th>2012-05-01 17:15:00</th>\n",
       "      <td>-0.82</td>\n",
       "      <td>-0.85</td>\n",
       "    </tr>\n",
       "    <tr>\n",
       "      <th>2012-05-01 17:30:00</th>\n",
       "      <td>-0.83</td>\n",
       "      <td>-0.86</td>\n",
       "    </tr>\n",
       "    <tr>\n",
       "      <th>2012-05-01 17:45:00</th>\n",
       "      <td>-0.82</td>\n",
       "      <td>-0.85</td>\n",
       "    </tr>\n",
       "    <tr>\n",
       "      <th>2012-05-01 18:00:00</th>\n",
       "      <td>-0.82</td>\n",
       "      <td>-0.85</td>\n",
       "    </tr>\n",
       "    <tr>\n",
       "      <th>2012-05-01 18:15:00</th>\n",
       "      <td>-0.83</td>\n",
       "      <td>-0.86</td>\n",
       "    </tr>\n",
       "    <tr>\n",
       "      <th>2012-05-01 18:30:00</th>\n",
       "      <td>-0.83</td>\n",
       "      <td>-0.86</td>\n",
       "    </tr>\n",
       "    <tr>\n",
       "      <th>2012-05-01 18:45:00</th>\n",
       "      <td>-0.82</td>\n",
       "      <td>-0.85</td>\n",
       "    </tr>\n",
       "    <tr>\n",
       "      <th>2012-05-01 19:00:00</th>\n",
       "      <td>-0.83</td>\n",
       "      <td>-0.86</td>\n",
       "    </tr>\n",
       "    <tr>\n",
       "      <th>2012-05-01 19:15:00</th>\n",
       "      <td>-0.83</td>\n",
       "      <td>-0.86</td>\n",
       "    </tr>\n",
       "  </tbody>\n",
       "</table>\n",
       "</div>"
      ],
      "text/plain": [
       "                     wmpnap  odrnap\n",
       "datumtijd                          \n",
       "2012-05-01 17:15:00   -0.82   -0.85\n",
       "2012-05-01 17:30:00   -0.83   -0.86\n",
       "2012-05-01 17:45:00   -0.82   -0.85\n",
       "2012-05-01 18:00:00   -0.82   -0.85\n",
       "2012-05-01 18:15:00   -0.83   -0.86\n",
       "2012-05-01 18:30:00   -0.83   -0.86\n",
       "2012-05-01 18:45:00   -0.82   -0.85\n",
       "2012-05-01 19:00:00   -0.83   -0.86\n",
       "2012-05-01 19:15:00   -0.83   -0.86"
      ]
     },
     "execution_count": 2,
     "metadata": {},
     "output_type": "execute_result"
    }
   ],
   "source": [
    "fpath = r'..\\01_source\\210423_data gemalen dwarsdiep.xlsx'\n",
    "data = pd.read_excel(fpath)\n",
    "\n",
    "colnames = {'Datumtijd':'datumtijd',\n",
    "    'Waterstand benedenstrooms Wemerpolder [m NAP]':'wmpnap',\n",
    "    'Waterstand benedenstrooms Oude Riet [m NAP]':'odrnap'}\n",
    "data = data.rename(columns=colnames)\n",
    "data = data.set_index(keys='datumtijd',drop=True)\n",
    "data[:9]"
   ]
  },
  {
   "cell_type": "markdown",
   "metadata": {},
   "source": [
    "Uit bovenstaand overzict van de eerste 9 metingen blijkt, dat de dataset kwartierwaarden bevat van de waterstand, beginnend op 1 mei 2012 om 17:15 uur.  \n",
    "\n",
    "Onderstaande tabel geeft beschrijvende statistieken van beide meetreeksen:  \n",
    "- De mediaan van beide reeksen is -0,88 mNAP. Dat betekent dat de waterstand de helft van de tijd lager is dan -0,88 m NAP en de andere helft van de tijd hoger.  \n",
    "- De gemeten waarden liggen tussen -1,13 m NAP en -0,39 mNAP voor gemaal Wemerpolder en tussen -1,94 mNAP en 0 mNAP voor gemaal Oude Riet. De maximum waarde van 0 mNAP voor Oude Riet lijkt verdacht. Zijn dit wellicht missing values die als 0 zijn gecodeerd?"
   ]
  },
  {
   "cell_type": "code",
   "execution_count": 3,
   "metadata": {},
   "outputs": [
    {
     "data": {
      "text/html": [
       "<div>\n",
       "<style scoped>\n",
       "    .dataframe tbody tr th:only-of-type {\n",
       "        vertical-align: middle;\n",
       "    }\n",
       "\n",
       "    .dataframe tbody tr th {\n",
       "        vertical-align: top;\n",
       "    }\n",
       "\n",
       "    .dataframe thead th {\n",
       "        text-align: right;\n",
       "    }\n",
       "</style>\n",
       "<table border=\"1\" class=\"dataframe\">\n",
       "  <thead>\n",
       "    <tr style=\"text-align: right;\">\n",
       "      <th></th>\n",
       "      <th>wmpnap</th>\n",
       "      <th>odrnap</th>\n",
       "    </tr>\n",
       "  </thead>\n",
       "  <tbody>\n",
       "    <tr>\n",
       "      <th>count</th>\n",
       "      <td>311937.000000</td>\n",
       "      <td>305787.000000</td>\n",
       "    </tr>\n",
       "    <tr>\n",
       "      <th>mean</th>\n",
       "      <td>-0.873479</td>\n",
       "      <td>-0.888741</td>\n",
       "    </tr>\n",
       "    <tr>\n",
       "      <th>std</th>\n",
       "      <td>0.056214</td>\n",
       "      <td>0.137867</td>\n",
       "    </tr>\n",
       "    <tr>\n",
       "      <th>min</th>\n",
       "      <td>-1.130000</td>\n",
       "      <td>-1.940000</td>\n",
       "    </tr>\n",
       "    <tr>\n",
       "      <th>25%</th>\n",
       "      <td>-0.910000</td>\n",
       "      <td>-0.910000</td>\n",
       "    </tr>\n",
       "    <tr>\n",
       "      <th>50%</th>\n",
       "      <td>-0.880000</td>\n",
       "      <td>-0.880000</td>\n",
       "    </tr>\n",
       "    <tr>\n",
       "      <th>75%</th>\n",
       "      <td>-0.850000</td>\n",
       "      <td>-0.850000</td>\n",
       "    </tr>\n",
       "    <tr>\n",
       "      <th>max</th>\n",
       "      <td>-0.390000</td>\n",
       "      <td>0.000000</td>\n",
       "    </tr>\n",
       "  </tbody>\n",
       "</table>\n",
       "</div>"
      ],
      "text/plain": [
       "              wmpnap         odrnap\n",
       "count  311937.000000  305787.000000\n",
       "mean       -0.873479      -0.888741\n",
       "std         0.056214       0.137867\n",
       "min        -1.130000      -1.940000\n",
       "25%        -0.910000      -0.910000\n",
       "50%        -0.880000      -0.880000\n",
       "75%        -0.850000      -0.850000\n",
       "max        -0.390000       0.000000"
      ]
     },
     "execution_count": 3,
     "metadata": {},
     "output_type": "execute_result"
    }
   ],
   "source": [
    "dstat = data.describe()\n",
    "fpath = r'..\\02_data\\statistieken kwartierwaarden.xlsx'\n",
    "dstat.to_excel(fpath)\n",
    "dstat"
   ]
  },
  {
   "cell_type": "markdown",
   "metadata": {},
   "source": [
    "## Grafieken van de metingen"
   ]
  },
  {
   "cell_type": "markdown",
   "metadata": {},
   "source": [
    "Om een eerste indruk te krijgen van de metingen worden de ruwe data geplot (NB: de schaalverdeling op de y-assen van beide grafieken is niet gelijk):"
   ]
  },
  {
   "cell_type": "code",
   "execution_count": 4,
   "metadata": {},
   "outputs": [
    {
     "data": {
      "image/png": "[encoded data removed]",
      "text/plain": [
       "<Figure size 576x288 with 2 Axes>"
      ]
     },
     "metadata": {},
     "output_type": "display_data"
    }
   ],
   "source": [
    "def plot_rawdata(data):\n",
    "    \"\"\"Plot timegraph of raw measurements\"\"\"\n",
    "    fig, ax = plt.subplots(nrows=2, ncols=1)\n",
    "    fig.set_size_inches(8,4) # w,h\n",
    "\n",
    "    x = data.index.values\n",
    "    y = data['wmpnap'].values\n",
    "    ax[0].plot(x,y,color='#8b0000')\n",
    "    ax[0].set_title('Wemerpolder')\n",
    "\n",
    "    y = data['odrnap'].values\n",
    "    ax[1].plot(x,y,color='#8b0000')\n",
    "    ax[1].set_title(label='Oude Riet')\n",
    "\n",
    "    fig.tight_layout(pad=2.0)\n",
    "\n",
    "    return fig,ax\n",
    "\n",
    "fig,ax = plot_rawdata(data)\n",
    "fpath = r'..\\03_result\\timeplot_ruwe_uurwaarden.jpg'\n",
    "fig.savefig(fpath,dpi=300,bbox_inches='tight')"
   ]
  },
  {
   "cell_type": "markdown",
   "metadata": {},
   "source": [
    "## Beoordeling betrouwbaarheid metingen"
   ]
  },
  {
   "cell_type": "markdown",
   "metadata": {},
   "source": [
    "Het Dwarsdiep is onderdeel van de Electraboezem, het stelsel van waterlopen dat vrij afwatert richting Lauwersoog. Het streefpeil van de Electraboezem is -0,93 m NAP. Ver uitzakkende peilen zijn niet te verwachten, tijdelijk oplopende peilen in de winter wel. Uit de grafieken blijkt dat de metingen van gemaal Wemerpolder op het oog betrouwbaar zijn, op incidentele uitschieters naar beneden na. De peilen van Oude Riet bevatten forse uitschieters, zowel naar boven als naar beneden. We onderzoeken wat voor soort waarnemingen dit zijn door de extreem hoge waarden (hoger dan -0,1 mNAP) en extreem lage waarden (lager dan -1,10 mNAP) te bekijken:"
   ]
  },
  {
   "cell_type": "code",
   "execution_count": 5,
   "metadata": {},
   "outputs": [
    {
     "data": {
      "text/html": [
       "<div>\n",
       "<style scoped>\n",
       "    .dataframe tbody tr th:only-of-type {\n",
       "        vertical-align: middle;\n",
       "    }\n",
       "\n",
       "    .dataframe tbody tr th {\n",
       "        vertical-align: top;\n",
       "    }\n",
       "\n",
       "    .dataframe thead th {\n",
       "        text-align: right;\n",
       "    }\n",
       "</style>\n",
       "<table border=\"1\" class=\"dataframe\">\n",
       "  <thead>\n",
       "    <tr style=\"text-align: right;\">\n",
       "      <th></th>\n",
       "      <th>wmpnap</th>\n",
       "      <th>odrnap</th>\n",
       "    </tr>\n",
       "    <tr>\n",
       "      <th>datumtijd</th>\n",
       "      <th></th>\n",
       "      <th></th>\n",
       "    </tr>\n",
       "  </thead>\n",
       "  <tbody>\n",
       "    <tr>\n",
       "      <th>2013-03-14 02:15:00</th>\n",
       "      <td>NaN</td>\n",
       "      <td>0.00</td>\n",
       "    </tr>\n",
       "    <tr>\n",
       "      <th>2013-03-14 02:30:00</th>\n",
       "      <td>NaN</td>\n",
       "      <td>0.00</td>\n",
       "    </tr>\n",
       "    <tr>\n",
       "      <th>2013-03-14 02:45:00</th>\n",
       "      <td>NaN</td>\n",
       "      <td>0.00</td>\n",
       "    </tr>\n",
       "    <tr>\n",
       "      <th>2013-03-14 03:00:00</th>\n",
       "      <td>NaN</td>\n",
       "      <td>0.00</td>\n",
       "    </tr>\n",
       "    <tr>\n",
       "      <th>2013-03-14 03:15:00</th>\n",
       "      <td>NaN</td>\n",
       "      <td>0.00</td>\n",
       "    </tr>\n",
       "    <tr>\n",
       "      <th>2013-03-14 03:30:00</th>\n",
       "      <td>NaN</td>\n",
       "      <td>0.00</td>\n",
       "    </tr>\n",
       "    <tr>\n",
       "      <th>2013-03-14 03:45:00</th>\n",
       "      <td>NaN</td>\n",
       "      <td>0.00</td>\n",
       "    </tr>\n",
       "    <tr>\n",
       "      <th>2013-03-14 04:00:00</th>\n",
       "      <td>NaN</td>\n",
       "      <td>0.00</td>\n",
       "    </tr>\n",
       "    <tr>\n",
       "      <th>2013-03-14 04:15:00</th>\n",
       "      <td>NaN</td>\n",
       "      <td>0.00</td>\n",
       "    </tr>\n",
       "    <tr>\n",
       "      <th>2013-03-14 04:30:00</th>\n",
       "      <td>NaN</td>\n",
       "      <td>0.00</td>\n",
       "    </tr>\n",
       "    <tr>\n",
       "      <th>2013-03-14 04:45:00</th>\n",
       "      <td>NaN</td>\n",
       "      <td>0.00</td>\n",
       "    </tr>\n",
       "    <tr>\n",
       "      <th>2013-03-31 03:15:00</th>\n",
       "      <td>-0.87</td>\n",
       "      <td>0.00</td>\n",
       "    </tr>\n",
       "    <tr>\n",
       "      <th>2013-03-31 03:30:00</th>\n",
       "      <td>-0.87</td>\n",
       "      <td>0.00</td>\n",
       "    </tr>\n",
       "    <tr>\n",
       "      <th>2014-02-09 21:45:00</th>\n",
       "      <td>-0.91</td>\n",
       "      <td>0.00</td>\n",
       "    </tr>\n",
       "    <tr>\n",
       "      <th>2014-09-15 15:00:00</th>\n",
       "      <td>-0.90</td>\n",
       "      <td>0.00</td>\n",
       "    </tr>\n",
       "    <tr>\n",
       "      <th>2014-11-05 09:00:00</th>\n",
       "      <td>-0.90</td>\n",
       "      <td>0.00</td>\n",
       "    </tr>\n",
       "    <tr>\n",
       "      <th>2014-11-30 19:30:00</th>\n",
       "      <td>-0.90</td>\n",
       "      <td>0.00</td>\n",
       "    </tr>\n",
       "    <tr>\n",
       "      <th>2015-01-13 10:30:00</th>\n",
       "      <td>-0.61</td>\n",
       "      <td>0.00</td>\n",
       "    </tr>\n",
       "    <tr>\n",
       "      <th>2015-02-07 12:00:00</th>\n",
       "      <td>-0.93</td>\n",
       "      <td>0.00</td>\n",
       "    </tr>\n",
       "    <tr>\n",
       "      <th>2015-02-13 06:00:00</th>\n",
       "      <td>-0.92</td>\n",
       "      <td>0.00</td>\n",
       "    </tr>\n",
       "    <tr>\n",
       "      <th>2015-03-29 03:45:00</th>\n",
       "      <td>-0.96</td>\n",
       "      <td>-0.16</td>\n",
       "    </tr>\n",
       "    <tr>\n",
       "      <th>2015-03-29 04:00:00</th>\n",
       "      <td>-0.96</td>\n",
       "      <td>0.00</td>\n",
       "    </tr>\n",
       "    <tr>\n",
       "      <th>2015-03-29 04:15:00</th>\n",
       "      <td>-0.97</td>\n",
       "      <td>0.00</td>\n",
       "    </tr>\n",
       "    <tr>\n",
       "      <th>2015-03-29 04:30:00</th>\n",
       "      <td>-0.97</td>\n",
       "      <td>0.00</td>\n",
       "    </tr>\n",
       "    <tr>\n",
       "      <th>2015-03-29 04:45:00</th>\n",
       "      <td>-0.97</td>\n",
       "      <td>0.00</td>\n",
       "    </tr>\n",
       "    <tr>\n",
       "      <th>2015-04-30 13:30:00</th>\n",
       "      <td>-0.90</td>\n",
       "      <td>-0.18</td>\n",
       "    </tr>\n",
       "    <tr>\n",
       "      <th>2015-05-07 12:00:00</th>\n",
       "      <td>-0.91</td>\n",
       "      <td>0.00</td>\n",
       "    </tr>\n",
       "    <tr>\n",
       "      <th>2015-05-24 21:00:00</th>\n",
       "      <td>-0.87</td>\n",
       "      <td>0.00</td>\n",
       "    </tr>\n",
       "    <tr>\n",
       "      <th>2015-07-04 10:30:00</th>\n",
       "      <td>-0.89</td>\n",
       "      <td>0.00</td>\n",
       "    </tr>\n",
       "    <tr>\n",
       "      <th>2015-07-15 07:30:00</th>\n",
       "      <td>-0.87</td>\n",
       "      <td>0.00</td>\n",
       "    </tr>\n",
       "    <tr>\n",
       "      <th>2015-07-16 13:30:00</th>\n",
       "      <td>-0.85</td>\n",
       "      <td>0.00</td>\n",
       "    </tr>\n",
       "    <tr>\n",
       "      <th>2015-07-19 22:30:00</th>\n",
       "      <td>-0.85</td>\n",
       "      <td>0.00</td>\n",
       "    </tr>\n",
       "    <tr>\n",
       "      <th>2015-08-14 18:00:00</th>\n",
       "      <td>-0.86</td>\n",
       "      <td>0.00</td>\n",
       "    </tr>\n",
       "    <tr>\n",
       "      <th>2015-08-15 10:30:00</th>\n",
       "      <td>-0.87</td>\n",
       "      <td>0.00</td>\n",
       "    </tr>\n",
       "    <tr>\n",
       "      <th>2015-08-20 18:00:00</th>\n",
       "      <td>-0.93</td>\n",
       "      <td>0.00</td>\n",
       "    </tr>\n",
       "    <tr>\n",
       "      <th>2015-08-30 09:00:00</th>\n",
       "      <td>-0.89</td>\n",
       "      <td>0.00</td>\n",
       "    </tr>\n",
       "    <tr>\n",
       "      <th>2015-09-15 18:00:00</th>\n",
       "      <td>-0.92</td>\n",
       "      <td>0.00</td>\n",
       "    </tr>\n",
       "    <tr>\n",
       "      <th>2016-12-24 10:45:00</th>\n",
       "      <td>-0.84</td>\n",
       "      <td>0.00</td>\n",
       "    </tr>\n",
       "    <tr>\n",
       "      <th>2017-03-26 03:15:00</th>\n",
       "      <td>-0.91</td>\n",
       "      <td>0.00</td>\n",
       "    </tr>\n",
       "    <tr>\n",
       "      <th>2018-03-25 01:30:00</th>\n",
       "      <td>-0.98</td>\n",
       "      <td>0.00</td>\n",
       "    </tr>\n",
       "    <tr>\n",
       "      <th>2018-03-25 01:45:00</th>\n",
       "      <td>-0.98</td>\n",
       "      <td>0.00</td>\n",
       "    </tr>\n",
       "    <tr>\n",
       "      <th>2018-03-25 03:00:00</th>\n",
       "      <td>-0.98</td>\n",
       "      <td>0.00</td>\n",
       "    </tr>\n",
       "    <tr>\n",
       "      <th>2018-03-25 03:15:00</th>\n",
       "      <td>-0.98</td>\n",
       "      <td>0.00</td>\n",
       "    </tr>\n",
       "    <tr>\n",
       "      <th>2018-07-20 10:15:00</th>\n",
       "      <td>-0.81</td>\n",
       "      <td>0.00</td>\n",
       "    </tr>\n",
       "    <tr>\n",
       "      <th>2018-11-08 08:00:00</th>\n",
       "      <td>-0.87</td>\n",
       "      <td>0.00</td>\n",
       "    </tr>\n",
       "    <tr>\n",
       "      <th>2018-11-10 23:15:00</th>\n",
       "      <td>-0.95</td>\n",
       "      <td>0.00</td>\n",
       "    </tr>\n",
       "    <tr>\n",
       "      <th>2019-02-02 01:00:00</th>\n",
       "      <td>-0.96</td>\n",
       "      <td>0.00</td>\n",
       "    </tr>\n",
       "    <tr>\n",
       "      <th>2019-02-06 00:30:00</th>\n",
       "      <td>-0.95</td>\n",
       "      <td>0.00</td>\n",
       "    </tr>\n",
       "    <tr>\n",
       "      <th>2019-03-20 00:30:00</th>\n",
       "      <td>-0.91</td>\n",
       "      <td>0.00</td>\n",
       "    </tr>\n",
       "    <tr>\n",
       "      <th>2019-03-31 03:15:00</th>\n",
       "      <td>-0.85</td>\n",
       "      <td>0.00</td>\n",
       "    </tr>\n",
       "    <tr>\n",
       "      <th>2019-03-31 03:30:00</th>\n",
       "      <td>-0.84</td>\n",
       "      <td>0.00</td>\n",
       "    </tr>\n",
       "    <tr>\n",
       "      <th>2019-03-31 03:45:00</th>\n",
       "      <td>-0.84</td>\n",
       "      <td>0.00</td>\n",
       "    </tr>\n",
       "    <tr>\n",
       "      <th>2019-03-31 04:00:00</th>\n",
       "      <td>-0.84</td>\n",
       "      <td>0.00</td>\n",
       "    </tr>\n",
       "    <tr>\n",
       "      <th>2020-03-30 07:30:00</th>\n",
       "      <td>-0.93</td>\n",
       "      <td>0.00</td>\n",
       "    </tr>\n",
       "    <tr>\n",
       "      <th>2020-03-30 07:45:00</th>\n",
       "      <td>-0.93</td>\n",
       "      <td>0.00</td>\n",
       "    </tr>\n",
       "    <tr>\n",
       "      <th>2020-03-30 08:00:00</th>\n",
       "      <td>-0.93</td>\n",
       "      <td>0.00</td>\n",
       "    </tr>\n",
       "    <tr>\n",
       "      <th>2020-03-30 08:15:00</th>\n",
       "      <td>-0.93</td>\n",
       "      <td>0.00</td>\n",
       "    </tr>\n",
       "  </tbody>\n",
       "</table>\n",
       "</div>"
      ],
      "text/plain": [
       "                     wmpnap  odrnap\n",
       "datumtijd                          \n",
       "2013-03-14 02:15:00     NaN    0.00\n",
       "2013-03-14 02:30:00     NaN    0.00\n",
       "2013-03-14 02:45:00     NaN    0.00\n",
       "2013-03-14 03:00:00     NaN    0.00\n",
       "2013-03-14 03:15:00     NaN    0.00\n",
       "2013-03-14 03:30:00     NaN    0.00\n",
       "2013-03-14 03:45:00     NaN    0.00\n",
       "2013-03-14 04:00:00     NaN    0.00\n",
       "2013-03-14 04:15:00     NaN    0.00\n",
       "2013-03-14 04:30:00     NaN    0.00\n",
       "2013-03-14 04:45:00     NaN    0.00\n",
       "2013-03-31 03:15:00   -0.87    0.00\n",
       "2013-03-31 03:30:00   -0.87    0.00\n",
       "2014-02-09 21:45:00   -0.91    0.00\n",
       "2014-09-15 15:00:00   -0.90    0.00\n",
       "2014-11-05 09:00:00   -0.90    0.00\n",
       "2014-11-30 19:30:00   -0.90    0.00\n",
       "2015-01-13 10:30:00   -0.61    0.00\n",
       "2015-02-07 12:00:00   -0.93    0.00\n",
       "2015-02-13 06:00:00   -0.92    0.00\n",
       "2015-03-29 03:45:00   -0.96   -0.16\n",
       "2015-03-29 04:00:00   -0.96    0.00\n",
       "2015-03-29 04:15:00   -0.97    0.00\n",
       "2015-03-29 04:30:00   -0.97    0.00\n",
       "2015-03-29 04:45:00   -0.97    0.00\n",
       "2015-04-30 13:30:00   -0.90   -0.18\n",
       "2015-05-07 12:00:00   -0.91    0.00\n",
       "2015-05-24 21:00:00   -0.87    0.00\n",
       "2015-07-04 10:30:00   -0.89    0.00\n",
       "2015-07-15 07:30:00   -0.87    0.00\n",
       "2015-07-16 13:30:00   -0.85    0.00\n",
       "2015-07-19 22:30:00   -0.85    0.00\n",
       "2015-08-14 18:00:00   -0.86    0.00\n",
       "2015-08-15 10:30:00   -0.87    0.00\n",
       "2015-08-20 18:00:00   -0.93    0.00\n",
       "2015-08-30 09:00:00   -0.89    0.00\n",
       "2015-09-15 18:00:00   -0.92    0.00\n",
       "2016-12-24 10:45:00   -0.84    0.00\n",
       "2017-03-26 03:15:00   -0.91    0.00\n",
       "2018-03-25 01:30:00   -0.98    0.00\n",
       "2018-03-25 01:45:00   -0.98    0.00\n",
       "2018-03-25 03:00:00   -0.98    0.00\n",
       "2018-03-25 03:15:00   -0.98    0.00\n",
       "2018-07-20 10:15:00   -0.81    0.00\n",
       "2018-11-08 08:00:00   -0.87    0.00\n",
       "2018-11-10 23:15:00   -0.95    0.00\n",
       "2019-02-02 01:00:00   -0.96    0.00\n",
       "2019-02-06 00:30:00   -0.95    0.00\n",
       "2019-03-20 00:30:00   -0.91    0.00\n",
       "2019-03-31 03:15:00   -0.85    0.00\n",
       "2019-03-31 03:30:00   -0.84    0.00\n",
       "2019-03-31 03:45:00   -0.84    0.00\n",
       "2019-03-31 04:00:00   -0.84    0.00\n",
       "2020-03-30 07:30:00   -0.93    0.00\n",
       "2020-03-30 07:45:00   -0.93    0.00\n",
       "2020-03-30 08:00:00   -0.93    0.00\n",
       "2020-03-30 08:15:00   -0.93    0.00"
      ]
     },
     "execution_count": 5,
     "metadata": {},
     "output_type": "execute_result"
    }
   ],
   "source": [
    "mask_upper = data['odrnap']>-0.3\n",
    "data[mask_upper]"
   ]
  },
  {
   "cell_type": "code",
   "execution_count": 6,
   "metadata": {},
   "outputs": [
    {
     "data": {
      "text/html": [
       "<div>\n",
       "<style scoped>\n",
       "    .dataframe tbody tr th:only-of-type {\n",
       "        vertical-align: middle;\n",
       "    }\n",
       "\n",
       "    .dataframe tbody tr th {\n",
       "        vertical-align: top;\n",
       "    }\n",
       "\n",
       "    .dataframe thead th {\n",
       "        text-align: right;\n",
       "    }\n",
       "</style>\n",
       "<table border=\"1\" class=\"dataframe\">\n",
       "  <thead>\n",
       "    <tr style=\"text-align: right;\">\n",
       "      <th></th>\n",
       "      <th>wmpnap</th>\n",
       "      <th>odrnap</th>\n",
       "    </tr>\n",
       "    <tr>\n",
       "      <th>datumtijd</th>\n",
       "      <th></th>\n",
       "      <th></th>\n",
       "    </tr>\n",
       "  </thead>\n",
       "  <tbody>\n",
       "    <tr>\n",
       "      <th>2013-03-14 00:45:00</th>\n",
       "      <td>NaN</td>\n",
       "      <td>-1.94</td>\n",
       "    </tr>\n",
       "    <tr>\n",
       "      <th>2013-03-14 01:00:00</th>\n",
       "      <td>NaN</td>\n",
       "      <td>-1.94</td>\n",
       "    </tr>\n",
       "    <tr>\n",
       "      <th>2013-03-14 01:15:00</th>\n",
       "      <td>NaN</td>\n",
       "      <td>-1.94</td>\n",
       "    </tr>\n",
       "    <tr>\n",
       "      <th>2013-03-14 01:30:00</th>\n",
       "      <td>NaN</td>\n",
       "      <td>-1.94</td>\n",
       "    </tr>\n",
       "    <tr>\n",
       "      <th>2013-03-14 01:45:00</th>\n",
       "      <td>NaN</td>\n",
       "      <td>-1.94</td>\n",
       "    </tr>\n",
       "    <tr>\n",
       "      <th>...</th>\n",
       "      <td>...</td>\n",
       "      <td>...</td>\n",
       "    </tr>\n",
       "    <tr>\n",
       "      <th>2019-01-01 04:45:00</th>\n",
       "      <td>-0.92</td>\n",
       "      <td>-1.56</td>\n",
       "    </tr>\n",
       "    <tr>\n",
       "      <th>2019-01-01 05:15:00</th>\n",
       "      <td>-0.92</td>\n",
       "      <td>-1.54</td>\n",
       "    </tr>\n",
       "    <tr>\n",
       "      <th>2019-01-01 05:30:00</th>\n",
       "      <td>-0.92</td>\n",
       "      <td>-1.54</td>\n",
       "    </tr>\n",
       "    <tr>\n",
       "      <th>2019-01-01 05:45:00</th>\n",
       "      <td>-0.92</td>\n",
       "      <td>-1.53</td>\n",
       "    </tr>\n",
       "    <tr>\n",
       "      <th>2019-06-18 08:30:00</th>\n",
       "      <td>-0.92</td>\n",
       "      <td>-1.74</td>\n",
       "    </tr>\n",
       "  </tbody>\n",
       "</table>\n",
       "<p>4274 rows × 2 columns</p>\n",
       "</div>"
      ],
      "text/plain": [
       "                     wmpnap  odrnap\n",
       "datumtijd                          \n",
       "2013-03-14 00:45:00     NaN   -1.94\n",
       "2013-03-14 01:00:00     NaN   -1.94\n",
       "2013-03-14 01:15:00     NaN   -1.94\n",
       "2013-03-14 01:30:00     NaN   -1.94\n",
       "2013-03-14 01:45:00     NaN   -1.94\n",
       "...                     ...     ...\n",
       "2019-01-01 04:45:00   -0.92   -1.56\n",
       "2019-01-01 05:15:00   -0.92   -1.54\n",
       "2019-01-01 05:30:00   -0.92   -1.54\n",
       "2019-01-01 05:45:00   -0.92   -1.53\n",
       "2019-06-18 08:30:00   -0.92   -1.74\n",
       "\n",
       "[4274 rows x 2 columns]"
      ]
     },
     "execution_count": 6,
     "metadata": {},
     "output_type": "execute_result"
    }
   ],
   "source": [
    "mask_lower = data['odrnap']<-1.20\n",
    "data[mask_lower]"
   ]
  },
  {
   "cell_type": "markdown",
   "metadata": {},
   "source": [
    "Waarschijnlijk zijn de waarden van 0 m NAP voor Oude Riet fout gecodeerde missing values. Het gaat om 55 metingen verspreid over de dataset. \n",
    "\n",
    "De meetwaarden lager dan -1,20 m NAP zijn wel echte \"gemeten\" waarden, maar deze waterpeilen komen in werkelijkheid niet voor. Er lijkt sprake van meetfouten. De gemeten peilen van Oude Riet worden verder niet gebruikt, omdat zonder kennis van het meetpunt en de wijze waarop fouten kunnen ontstaan niet duidelijk is hoe correctie verantwoord kan plaatsvinden.  \n",
    "\n",
    "Hieronder een grafiek van de metingen van beide gemalen, waarbij waarden kleiner dan -1,20 m NAP en groter dan -0,30 m NAP van Oude Riet zijn vervangen door missing values. "
   ]
  },
  {
   "cell_type": "code",
   "execution_count": 7,
   "metadata": {},
   "outputs": [],
   "source": [
    "datacor = data.copy()\n",
    "datacor['odrnap'] = datacor['odrnap'].where(~mask_upper,other=np.nan)\n",
    "datacor['odrnap'] = datacor['odrnap'].where(~mask_lower,other=np.nan)"
   ]
  },
  {
   "cell_type": "code",
   "execution_count": 8,
   "metadata": {},
   "outputs": [
    {
     "data": {
      "image/png": "[encoded data removed]",
      "text/plain": [
       "<Figure size 576x288 with 2 Axes>"
      ]
     },
     "metadata": {},
     "output_type": "display_data"
    }
   ],
   "source": [
    "fig,ax = plot_rawdata(datacor)\n",
    "fpath = r'..\\03_result\\timeplot_gecorrigeerde_uurwaarden.jpg'\n",
    "fig.savefig(fpath,dpi=300,bbox_inches='tight')"
   ]
  },
  {
   "cell_type": "code",
   "execution_count": null,
   "metadata": {},
   "outputs": [],
   "source": []
  },
  {
   "cell_type": "markdown",
   "metadata": {},
   "source": [
    "## Dagwaarden Wemerpolder  \n",
    " \n",
    "De metingen van het waterpeil op het Dwarsdiep geven inzicht in de kans op inundaties wanneer de kades langs het Dwarsdiep worden verwijderd. Een frequentieverdeling van dagwaarden van de waterstand op de boezem is in combinatie met een maaveldshoogtekaart te vertalen naar inundatiekaarten. Om die analyse te kunnen doen berekenen we dagwaarden van het boezempeil uit de gemeten kwartierwaarden.  \n",
    "\n",
    "Hoe kunnen de gemeten kwartierwaarden het beste worden vertaald naar een dagwaarde? Onderstaande tanel toont het gemiddelde, de mediaan, het minimum en het maximum van de kwartierwaarden op een dag voor alle beschikbare dagen (alleen de eerste 5 rijen worden getoond):"
   ]
  },
  {
   "cell_type": "code",
   "execution_count": 9,
   "metadata": {},
   "outputs": [
    {
     "data": {
      "text/html": [
       "<div>\n",
       "<style scoped>\n",
       "    .dataframe tbody tr th:only-of-type {\n",
       "        vertical-align: middle;\n",
       "    }\n",
       "\n",
       "    .dataframe tbody tr th {\n",
       "        vertical-align: top;\n",
       "    }\n",
       "\n",
       "    .dataframe thead th {\n",
       "        text-align: right;\n",
       "    }\n",
       "</style>\n",
       "<table border=\"1\" class=\"dataframe\">\n",
       "  <thead>\n",
       "    <tr style=\"text-align: right;\">\n",
       "      <th></th>\n",
       "      <th>mean</th>\n",
       "      <th>median</th>\n",
       "      <th>min</th>\n",
       "      <th>max</th>\n",
       "      <th>range</th>\n",
       "    </tr>\n",
       "    <tr>\n",
       "      <th>datumtijd</th>\n",
       "      <th></th>\n",
       "      <th></th>\n",
       "      <th></th>\n",
       "      <th></th>\n",
       "      <th></th>\n",
       "    </tr>\n",
       "  </thead>\n",
       "  <tbody>\n",
       "    <tr>\n",
       "      <th>2012-05-01</th>\n",
       "      <td>-0.822963</td>\n",
       "      <td>-0.82</td>\n",
       "      <td>-0.83</td>\n",
       "      <td>-0.81</td>\n",
       "      <td>0.02</td>\n",
       "    </tr>\n",
       "    <tr>\n",
       "      <th>2012-05-02</th>\n",
       "      <td>-0.810104</td>\n",
       "      <td>-0.81</td>\n",
       "      <td>-0.83</td>\n",
       "      <td>-0.79</td>\n",
       "      <td>0.04</td>\n",
       "    </tr>\n",
       "    <tr>\n",
       "      <th>2012-05-03</th>\n",
       "      <td>-0.821458</td>\n",
       "      <td>-0.82</td>\n",
       "      <td>-0.84</td>\n",
       "      <td>-0.81</td>\n",
       "      <td>0.03</td>\n",
       "    </tr>\n",
       "    <tr>\n",
       "      <th>2012-05-04</th>\n",
       "      <td>-0.824271</td>\n",
       "      <td>-0.83</td>\n",
       "      <td>-0.84</td>\n",
       "      <td>-0.80</td>\n",
       "      <td>0.04</td>\n",
       "    </tr>\n",
       "    <tr>\n",
       "      <th>2012-05-05</th>\n",
       "      <td>-0.812187</td>\n",
       "      <td>-0.81</td>\n",
       "      <td>-0.83</td>\n",
       "      <td>-0.79</td>\n",
       "      <td>0.04</td>\n",
       "    </tr>\n",
       "  </tbody>\n",
       "</table>\n",
       "</div>"
      ],
      "text/plain": [
       "                mean  median   min   max  range\n",
       "datumtijd                                      \n",
       "2012-05-01 -0.822963   -0.82 -0.83 -0.81   0.02\n",
       "2012-05-02 -0.810104   -0.81 -0.83 -0.79   0.04\n",
       "2012-05-03 -0.821458   -0.82 -0.84 -0.81   0.03\n",
       "2012-05-04 -0.824271   -0.83 -0.84 -0.80   0.04\n",
       "2012-05-05 -0.812187   -0.81 -0.83 -0.79   0.04"
      ]
     },
     "execution_count": 9,
     "metadata": {},
     "output_type": "execute_result"
    }
   ],
   "source": [
    "daystats = data['wmpnap'].groupby(pd.Grouper(freq='D')).agg(['mean', 'median', 'min', 'max'])\n",
    "daystats['range'] = daystats['max']-daystats['min']\n",
    "daystats[:5]"
   ]
  },
  {
   "cell_type": "markdown",
   "metadata": {},
   "source": [
    "De variatie van kwartierwaarden op een dag voor de hele dataset owrdt samengevat in onderstaande grafiek:"
   ]
  },
  {
   "cell_type": "code",
   "execution_count": 10,
   "metadata": {},
   "outputs": [
    {
     "data": {
      "image/png": "[encoded data removed]",
      "text/plain": [
       "<Figure size 432x288 with 1 Axes>"
      ]
     },
     "metadata": {},
     "output_type": "display_data"
    }
   ],
   "source": [
    "ax = sns.histplot(data=daystats, x=\"range\",binwidth=0.05,stat='probability')\n",
    "fig = ax.get_figure()\n",
    "fig.savefig(r'..\\03_result\\range kwartierwaarden op dagbasis.jpg',dpi=300)"
   ]
  },
  {
   "cell_type": "markdown",
   "metadata": {},
   "source": [
    "Bovenstaande frequentieverdeling van maximale waterstandsverschillen op dagbasis laat zien, dat maximale verschillen tot 20 cm op een dag voorkomen, maar dat 85% van de dagvariaties binnen 10 cm blijft.  \n",
    "\n",
    "Een redelijke schatter voor de \"gemiddelde\" dagwaarde van de waterstand zou de mediaan van de 96 kwartierwaarden op een dag kunnen zijn.  \n",
    "Omdat we voor een ecologische beoordeling rekening willen houden met kortdurende zomerinundaties, berekenen we ook de waterstand die minumaal vier uur wordt overschreden. Deze waterstand wordt berekeknd uit 85e percentiel van de kwartierwaarden.  "
   ]
  },
  {
   "cell_type": "code",
   "execution_count": 11,
   "metadata": {},
   "outputs": [
    {
     "data": {
      "text/plain": [
       "0.8333333333333334"
      ]
     },
     "execution_count": 11,
     "metadata": {},
     "output_type": "execute_result"
    }
   ],
   "source": [
    "# 85e percentiel wordt 4 uur overschreden\n",
    "1-(4*4)/(24*4)"
   ]
  },
  {
   "cell_type": "code",
   "execution_count": 12,
   "metadata": {},
   "outputs": [
    {
     "data": {
      "text/html": [
       "<div>\n",
       "<style scoped>\n",
       "    .dataframe tbody tr th:only-of-type {\n",
       "        vertical-align: middle;\n",
       "    }\n",
       "\n",
       "    .dataframe tbody tr th {\n",
       "        vertical-align: top;\n",
       "    }\n",
       "\n",
       "    .dataframe thead th {\n",
       "        text-align: right;\n",
       "    }\n",
       "</style>\n",
       "<table border=\"1\" class=\"dataframe\">\n",
       "  <thead>\n",
       "    <tr style=\"text-align: right;\">\n",
       "      <th></th>\n",
       "      <th>mean</th>\n",
       "      <th>median</th>\n",
       "      <th>min</th>\n",
       "      <th>max</th>\n",
       "      <th>q85</th>\n",
       "      <th>range</th>\n",
       "    </tr>\n",
       "    <tr>\n",
       "      <th>datumtijd</th>\n",
       "      <th></th>\n",
       "      <th></th>\n",
       "      <th></th>\n",
       "      <th></th>\n",
       "      <th></th>\n",
       "      <th></th>\n",
       "    </tr>\n",
       "  </thead>\n",
       "  <tbody>\n",
       "    <tr>\n",
       "      <th>2012-05-01</th>\n",
       "      <td>-0.822963</td>\n",
       "      <td>-0.82</td>\n",
       "      <td>-0.83</td>\n",
       "      <td>-0.81</td>\n",
       "      <td>-0.82</td>\n",
       "      <td>0.02</td>\n",
       "    </tr>\n",
       "    <tr>\n",
       "      <th>2012-05-02</th>\n",
       "      <td>-0.810104</td>\n",
       "      <td>-0.81</td>\n",
       "      <td>-0.83</td>\n",
       "      <td>-0.79</td>\n",
       "      <td>-0.80</td>\n",
       "      <td>0.04</td>\n",
       "    </tr>\n",
       "    <tr>\n",
       "      <th>2012-05-03</th>\n",
       "      <td>-0.821458</td>\n",
       "      <td>-0.82</td>\n",
       "      <td>-0.84</td>\n",
       "      <td>-0.81</td>\n",
       "      <td>-0.82</td>\n",
       "      <td>0.03</td>\n",
       "    </tr>\n",
       "    <tr>\n",
       "      <th>2012-05-04</th>\n",
       "      <td>-0.824271</td>\n",
       "      <td>-0.83</td>\n",
       "      <td>-0.84</td>\n",
       "      <td>-0.80</td>\n",
       "      <td>-0.82</td>\n",
       "      <td>0.04</td>\n",
       "    </tr>\n",
       "    <tr>\n",
       "      <th>2012-05-05</th>\n",
       "      <td>-0.812187</td>\n",
       "      <td>-0.81</td>\n",
       "      <td>-0.83</td>\n",
       "      <td>-0.79</td>\n",
       "      <td>-0.80</td>\n",
       "      <td>0.04</td>\n",
       "    </tr>\n",
       "  </tbody>\n",
       "</table>\n",
       "</div>"
      ],
      "text/plain": [
       "                mean  median   min   max   q85  range\n",
       "datumtijd                                            \n",
       "2012-05-01 -0.822963   -0.82 -0.83 -0.81 -0.82   0.02\n",
       "2012-05-02 -0.810104   -0.81 -0.83 -0.79 -0.80   0.04\n",
       "2012-05-03 -0.821458   -0.82 -0.84 -0.81 -0.82   0.03\n",
       "2012-05-04 -0.824271   -0.83 -0.84 -0.80 -0.82   0.04\n",
       "2012-05-05 -0.812187   -0.81 -0.83 -0.79 -0.80   0.04"
      ]
     },
     "execution_count": 12,
     "metadata": {},
     "output_type": "execute_result"
    }
   ],
   "source": [
    "def q85(x):\n",
    "    return x.quantile(0.85)\n",
    "\n",
    "daystats = data['wmpnap'].groupby(pd.Grouper(freq='D')).agg(['mean', 'median', 'min', 'max', q85])\n",
    "daystats['range'] = daystats['max']-daystats['min']\n",
    "daystats[:5]"
   ]
  },
  {
   "cell_type": "code",
   "execution_count": 13,
   "metadata": {},
   "outputs": [
    {
     "data": {
      "text/plain": [
       "0.8333333333333334"
      ]
     },
     "execution_count": 13,
     "metadata": {},
     "output_type": "execute_result"
    }
   ],
   "source": [
    "1-(4*4)/(24*4)"
   ]
  },
  {
   "cell_type": "code",
   "execution_count": 14,
   "metadata": {},
   "outputs": [],
   "source": [
    "wmp_q85 = data['wmpnap'].groupby(pd.Grouper(freq='D')).quantile(0.85)\n",
    "fpath = r'..\\02_data\\daily values\\wemerpolder_day_q85.csv'\n",
    "wmp_q85.to_csv(fpath)\n",
    "\n",
    "wmp_q50 = data['wmpnap'].groupby(pd.Grouper(freq='D')).median()\n",
    "fpath = r'..\\02_data\\daily values\\wemerpolder_day_median.csv'\n",
    "wmp_q50.to_csv(fpath)"
   ]
  },
  {
   "cell_type": "code",
   "execution_count": 15,
   "metadata": {
    "scrolled": true
   },
   "outputs": [
    {
     "data": {
      "image/png": "[encoded data removed]",
      "text/plain": [
       "<Figure size 576x360 with 3 Axes>"
      ]
     },
     "metadata": {},
     "output_type": "display_data"
    }
   ],
   "source": [
    "fig, ax = plt.subplots(nrows=3, ncols=1)\n",
    "fig.set_size_inches(8,5) # w,h\n",
    "\n",
    "x = data.index.values\n",
    "y = data['wmpnap'].values\n",
    "ax[0].plot(x,y,color='#8b0000')\n",
    "ax[0].set_title('Wemerpolder kwartierwaarden')\n",
    "\n",
    "x = wmp_q50.index.values\n",
    "y = wmp_q50.values\n",
    "ax[1].plot(x,y,color='#8b0000')\n",
    "ax[1].set_title(label='Wemerpolder dagwaarden (mediaan)')\n",
    "\n",
    "x = wmp_q85.index.values\n",
    "y = wmp_q85.values\n",
    "ax[2].plot(x,y,color='#8b0000')\n",
    "ax[2].set_title(label='Wemerpolder dagwaarden (85e percentiel)')\n",
    "\n",
    "fig.tight_layout(pad=1.0)\n",
    "\n",
    "fpath = r'..\\03_result\\timeplot_dagwaarden.jpg'\n",
    "fig.savefig(fpath,dpi=300,bbox_inches='tight')\n"
   ]
  },
  {
   "cell_type": "markdown",
   "metadata": {},
   "source": [
    "## Kansverdeling gemeten waterpeilen"
   ]
  },
  {
   "cell_type": "code",
   "execution_count": 20,
   "metadata": {},
   "outputs": [
    {
     "data": {
      "text/plain": [
       "<AxesSubplot:xlabel='wmpnap', ylabel='Probability'>"
      ]
     },
     "execution_count": 20,
     "metadata": {},
     "output_type": "execute_result"
    },
    {
     "data": {
      "image/png": "[encoded data removed]",
      "text/plain": [
       "<Figure size 576x360 with 2 Axes>"
      ]
     },
     "metadata": {},
     "output_type": "display_data"
    }
   ],
   "source": [
    "fig, ax = plt.subplots(nrows=1, ncols=2)\n",
    "fig.set_size_inches(8,5) # w,h\n",
    "\n",
    "sns.histplot(data=data['wmpnap'],binwidth=0.05, stat=\"probability\", ax=ax[0])\n",
    "sns.histplot(data=wmp_q85,binwidth=0.05, stat=\"probability\", ax=ax[1])\n"
   ]
  },
  {
   "cell_type": "code",
   "execution_count": 25,
   "metadata": {},
   "outputs": [],
   "source": [
    "values = data['wmpnap'].dropna()\n",
    "shape, location, scale = scipy.stats.lognorm.fit(values)\n",
    "mu, sigma = np.log(scale), shape"
   ]
  },
  {
   "cell_type": "code",
   "execution_count": 26,
   "metadata": {},
   "outputs": [
    {
     "data": {
      "text/plain": [
       "(-1.210582921033671, 0.17704609188769943)"
      ]
     },
     "execution_count": 26,
     "metadata": {},
     "output_type": "execute_result"
    }
   ],
   "source": [
    "mu, sigma"
   ]
  },
  {
   "cell_type": "code",
   "execution_count": 36,
   "metadata": {},
   "outputs": [
    {
     "name": "stderr",
     "output_type": "stream",
     "text": [
      "C:\\ProgramData\\Anaconda3\\lib\\site-packages\\seaborn\\distributions.py:2551: FutureWarning: `distplot` is a deprecated function and will be removed in a future version. Please adapt your code to use either `displot` (a figure-level function with similar flexibility) or `histplot` (an axes-level function for histograms).\n",
      "  warnings.warn(msg, FutureWarning)\n"
     ]
    },
    {
     "data": {
      "text/plain": [
       "<AxesSubplot:xlabel='wmpnap'>"
      ]
     },
     "execution_count": 36,
     "metadata": {},
     "output_type": "execute_result"
    },
    {
     "data": {
      "image/png": "[encoded data removed]",
      "text/plain": [
       "<Figure size 576x360 with 2 Axes>"
      ]
     },
     "metadata": {},
     "output_type": "display_data"
    }
   ],
   "source": [
    "fig, ax = plt.subplots(nrows=1, ncols=2)\n",
    "fig.set_size_inches(8,5) # w,h\n",
    "#ax[0].plot(values,scipy.stats.lognorm.pdf(values,scale))\n",
    "\n",
    "sns.distplot(values, kde=False, hist=True, norm_hist=True, fit=scipy.stats.lognorm, ax=ax[0])"
   ]
  },
  {
   "cell_type": "code",
   "execution_count": null,
   "metadata": {},
   "outputs": [],
   "source": []
  }
 ],
 "metadata": {
  "kernelspec": {
   "display_name": "Python 3",
   "language": "python",
   "name": "python3"
  },
  "language_info": {
   "codemirror_mode": {
    "name": "ipython",
    "version": 3
   },
   "file_extension": ".py",
   "mimetype": "text/x-python",
   "name": "python",
   "nbconvert_exporter": "python",
   "pygments_lexer": "ipython3",
   "version": "3.7.9"
  }
 },
 "nbformat": 4,
 "nbformat_minor": 4
}
