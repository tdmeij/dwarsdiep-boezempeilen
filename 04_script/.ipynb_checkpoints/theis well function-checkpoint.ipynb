{
 "cells": [
  {
   "cell_type": "markdown",
   "metadata": {},
   "source": [
    "# Berekening van de grondwaterverlaging met de formule van Theis  \n",
    "\n",
    "De formule van Theis kan worden gebruikt voor het berekenen van de verlaging van het grondwater door een tijdelijke onttrekking in een watervoerende laag. Dit notebook geeft enkele rekenvoorbeelden en bevat een functie om te berekenen op welke afstand een op te geven kritische verlaging s zal optreden.\n",
    "\n",
    "Opmerking: De formule van Theis veronderstelt een constante dikte van het pakket. Dat betekent dat de verlaging relatief klein moet zijn ten opzichte van de dikte van de verzadigde laag.\n"
   ]
  },
  {
   "cell_type": "markdown",
   "metadata": {},
   "source": [
    "## Importeren van libraries en definieren van functies"
   ]
  },
  {
   "cell_type": "code",
   "execution_count": 270,
   "metadata": {},
   "outputs": [],
   "source": [
    "import numpy as np\n",
    "import matplotlib.pyplot as plt\n",
    "import seaborn as sns\n",
    "sns.set_style(\"whitegrid\")\n",
    "from scipy.special import expn as ExpInt\n",
    "from scipy import optimize"
   ]
  },
  {
   "cell_type": "code",
   "execution_count": 271,
   "metadata": {},
   "outputs": [],
   "source": [
    "def Theis(t,r,Q,T,S):\n",
    "    \"\"\"Return drawdown s (m) calculated with Theis\n",
    "    \n",
    "    Parameters\n",
    "    ----------\n",
    "    t : time after start of abstraction (seconds)\n",
    "    r : distance from the well (m)\n",
    "    Q : abstraction (m3/day)\n",
    "    T : transmissivity (m2/day)\n",
    "    S : storage cofficient (-)\n",
    "    \n",
    "    Returns\n",
    "    -------\n",
    "    numpy.matrix, float\n",
    "\n",
    "    Notes\n",
    "    -----\n",
    "    In the returned matrix with drawdown, rows are timesteps t and  \n",
    "    columns are distances r. Indexes are zero-baed. Therefore, the \n",
    "    drawdown for all distances at the third timestep is given by:\n",
    "    s[2,:]\n",
    "\n",
    "    \"\"\"\n",
    "    time,radius = np.meshgrid(t,r)\n",
    "    u2 = S/(4*T)*(radius**2/time)\n",
    "    drawdown = Q/(4*np.pi*T)*ExpInt(1,u2).transpose()\n",
    "\n",
    "    if np.squeeze(drawdown).size==1:\n",
    "        drawdown = drawdown.item(0)\n",
    "\n",
    "    return drawdown"
   ]
  },
  {
   "cell_type": "code",
   "execution_count": 272,
   "metadata": {},
   "outputs": [],
   "source": [
    "def plot_drawdown(t,r,s):\n",
    "    \"\"\"Plot drawdown of groundwater abstraction versus distance for several time steps\n",
    "    \n",
    "    Parameters\n",
    "    ----------\n",
    "    t : numpy array\n",
    "        time steps (days)\n",
    "    r : numpy array\n",
    "        distance to well (m)\n",
    "    s : numpy matrix wih size(t,r)\n",
    "        drawdown (m)\n",
    "    \"\"\"\n",
    "    orange = '#FF9900'\n",
    "    blue   = '#2F64B2'\n",
    "\n",
    "    fig, ax = plt.subplots(nrows=1, ncols=1)\n",
    "    fig.set_size_inches(8,8) # w,h\n",
    "    fig.tight_layout(pad=3.0)\n",
    "\n",
    "    ax.set_ylabel('verlaging (m)')\n",
    "    ax.set_xlabel('afstand tot de put (m)')\n",
    "\n",
    "    # Plot lowring in time\n",
    "    timesteps, distances = s.shape\n",
    "    for ti in range(timesteps):\n",
    "        si = s[ti,:]\n",
    "        label = f'{t[ti]} dagen'\n",
    "        ax.plot(r, -si, color=blue, lw=2.0, label=label)\n",
    "    \n",
    "    filename = \"Theis.png\"\n",
    "    fig.set_size_inches(6.0,4.0)\n",
    "    fig.savefig(filename,dpi=300, facecolor='w', edgecolor='w')\n"
   ]
  },
  {
   "cell_type": "code",
   "execution_count": 273,
   "metadata": {},
   "outputs": [],
   "source": [
    "def theis_findr(s_crit,t,Q,T,S):\n",
    "    \"\"\"Return the distance r for wich the drawdown is s at time t\n",
    "    using Theis well function\n",
    "    \n",
    "    Parameters\n",
    "    ----------\n",
    "    s_crit : number\n",
    "        given drawdown s at time t (common practice is 5 cm)\n",
    "    t : float,array of floats\n",
    "        time at which the drawdown occurs\n",
    "    Q : float\n",
    "        well abstraction(m3/day)\n",
    "    S : float\n",
    "        storage coefficient\n",
    "    \n",
    "    Returns\n",
    "    -------\n",
    "    float or array\n",
    "\n",
    "    \"\"\"\n",
    "\n",
    "    def drawdown(rstart,*par):\n",
    "        s_crit,time,Q,T,S = par\n",
    "        return Theis(time,rstart,Q,T,S)-s_crit\n",
    "\n",
    "    if np.isscalar(t):\n",
    "        t = np.array([t])\n",
    "    s = np.zeros_like(t)\n",
    "\n",
    "    rstart = 100.\n",
    "    for ti,time in enumerate(t):\n",
    "        s[ti] = optimize.fsolve (drawdown,rstart,(s_crit,time,Q,T,S))\n",
    "        \n",
    "    if np.squeeze(s).size==1:\n",
    "        s = s.item(0)\n",
    "\n",
    "    return s"
   ]
  },
  {
   "cell_type": "markdown",
   "metadata": {},
   "source": [
    "## Enkele rekenvoorbeelden\n",
    "\n",
    "### voorbeeld 1  \n",
    "Berekening van de verlaging met enkele simpele cijfers:"
   ]
  },
  {
   "cell_type": "code",
   "execution_count": 286,
   "metadata": {},
   "outputs": [
    {
     "name": "stdout",
     "output_type": "stream",
     "text": [
      "De verlaging van het grondwater op tijdstip t en afstand r is 0.12  meter\n"
     ]
    }
   ],
   "source": [
    "r = 250\n",
    "t = 43\n",
    "Q = 500\n",
    "T = 10.65*63\n",
    "S = 0.15\n",
    "s = Theis(t,r,Q,T,S)\n",
    "print('De verlaging van het grondwater op tijdstip t en afstand r is',np.round(s,2),' meter')"
   ]
  },
  {
   "cell_type": "markdown",
   "metadata": {},
   "source": [
    "### voorbeeld 2  \n",
    "Berekening van de verlaging voor meerdere tijdstippen t en meerdere afstanden r:"
   ]
  },
  {
   "cell_type": "code",
   "execution_count": 290,
   "metadata": {},
   "outputs": [
    {
     "name": "stdout",
     "output_type": "stream",
     "text": [
      "De berekende verlagingen zijn:\n",
      " [[0.76 0.54 0.45 0.24 0.15]\n",
      " [0.83 0.62 0.52 0.31 0.22]\n",
      " [0.91 0.7  0.6  0.39 0.3 ]]\n"
     ]
    }
   ],
   "source": [
    "t = np.array([1,3,10])\n",
    "r = np.array([1,5,10,50,100])\n",
    "Q = 500\n",
    "T=600\n",
    "S=0.015\n",
    "s=Theis(t,r,Q,T,S)\n",
    "print('De berekende verlagingen zijn:\\n',np.round(s,2))"
   ]
  },
  {
   "cell_type": "code",
   "execution_count": 291,
   "metadata": {},
   "outputs": [
    {
     "data": {
      "image/png": "[encoded data removed]",
      "text/plain": [
       "<Figure size 432x288 with 1 Axes>"
      ]
     },
     "metadata": {},
     "output_type": "display_data"
    }
   ],
   "source": [
    "plot_drawdown(t,r,s)"
   ]
  },
  {
   "cell_type": "markdown",
   "metadata": {},
   "source": [
    "### Voorbeeld 3  \n",
    "Berekening van de afstand r waarop de kritische verlaging s = 5 cm wordt bereikt op de tijdstippen t:"
   ]
  },
  {
   "cell_type": "code",
   "execution_count": 294,
   "metadata": {},
   "outputs": [
    {
     "name": "stdout",
     "output_type": "stream",
     "text": [
      "De afstanden r waarop de kritische verlaging s_crit wordt bereikt op de tijdstippen t is:\n",
      " [ 236  410  748 1297]\n"
     ]
    }
   ],
   "source": [
    "s_crit = 0.05\n",
    "t = np.array([1,3,10,30])\n",
    "Q = 500\n",
    "T = 800\n",
    "S = 0.015\n",
    "r = theis_findr(s_crit,t,Q,T,S)\n",
    "print('De afstanden r waarop de kritische verlaging s_crit wordt bereikt op de tijdstippen t is:\\n',r)"
   ]
  },
  {
   "cell_type": "markdown",
   "metadata": {},
   "source": [
    "Controle van de gevonden afstanden (het resultaat is een matrix omdat iedere rij de verlagingen geeft voor alle afstanden r op tijdstip t): "
   ]
  },
  {
   "cell_type": "code",
   "execution_count": 296,
   "metadata": {},
   "outputs": [
    {
     "name": "stdout",
     "output_type": "stream",
     "text": [
      "[[0.05 0.02 0.   0.  ]\n",
      " [0.1  0.05 0.01 0.  ]\n",
      " [0.15 0.1  0.05 0.02]\n",
      " [0.21 0.15 0.1  0.05]]\n"
     ]
    }
   ],
   "source": [
    "s = Theis(t,r,Q,T,S)\n",
    "print(np.round(s,2))"
   ]
  },
  {
   "cell_type": "markdown",
   "metadata": {},
   "source": [
    "## Beantwoording gestelde vragen  \n",
    "Gegegevens:  \n",
    "- Horizontale doorlatendheid: 10,65 m/dag  \n",
    "- Verzadigde dikte watervoerende laag: 63 meter  \n",
    "- Onttrekkingsdebiet: 500 m3/dag  \n",
    "- Duur van de onttrekking: 43 dagen  \n",
    "\n",
    "Gevraagd: \n",
    "1. verlaging na 43 dagen op 250 meter van de put  \n",
    "2. ligging van de 5cm verlagingslijn na 43 dagen\n",
    "\n",
    "De bergingscoefficient is niet gegeven. We veronderstellen een zandige freatische watervoerende laag met een bergingscoefficient van 0.15"
   ]
  },
  {
   "cell_type": "code",
   "execution_count": 297,
   "metadata": {},
   "outputs": [
    {
     "name": "stdout",
     "output_type": "stream",
     "text": [
      "De verlaging na 43 dagen op 250 m is: 0.11936252093608055\n"
     ]
    }
   ],
   "source": [
    "r = 250\n",
    "t = 43\n",
    "Q = 500\n",
    "T = 10.65*63\n",
    "S = 0.15\n",
    "print('De verlaging na 43 dagen op 250 m is:',Theis(t,r,Q,T,S))"
   ]
  },
  {
   "cell_type": "code",
   "execution_count": 298,
   "metadata": {},
   "outputs": [
    {
     "name": "stdout",
     "output_type": "stream",
     "text": [
      "De 5 cm lijn ligt na 43 dagen op: 501 meter\n"
     ]
    }
   ],
   "source": [
    "s_crit=0.05\n",
    "print('De 5 cm lijn ligt na 43 dagen op:',theis_findr(s_crit,t,Q,T,S), 'meter')"
   ]
  },
  {
   "cell_type": "code",
   "execution_count": null,
   "metadata": {},
   "outputs": [],
   "source": []
  }
 ],
 "metadata": {
  "kernelspec": {
   "display_name": "Python 3",
   "language": "python",
   "name": "python3"
  },
  "language_info": {
   "codemirror_mode": {
    "name": "ipython",
    "version": 3
   },
   "file_extension": ".py",
   "mimetype": "text/x-python",
   "name": "python",
   "nbconvert_exporter": "python",
   "pygments_lexer": "ipython3",
   "version": "3.7.9"
  }
 },
 "nbformat": 4,
 "nbformat_minor": 4
}
