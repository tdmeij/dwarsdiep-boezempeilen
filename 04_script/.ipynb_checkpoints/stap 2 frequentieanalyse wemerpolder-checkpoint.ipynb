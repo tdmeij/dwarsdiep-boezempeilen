{
 "cells": [
  {
   "cell_type": "markdown",
   "metadata": {},
   "source": [
    "# Frequentieverdeling van waterstanden op het Dwarsdiep  \n",
    "\n",
    "Voor het inrichten van het NNN en waterberging in het Dwarsdiep is het nodig om inzicht hebben in de frequentievereling van waterpeilen op het Dwarsdiep. Hiermee kan in beeld gebracht worden welke gronden inunderen bij vrije afwatering op het Dwarsdiep.\n",
    "\n",
    "Dit notebook bevat een frequentieanalyse van dagwaarden van de waterstand benedenstrooms van gemaal Wemerpolder. Deze zijn afgeleid uit kwartierwaarden over de periode 2012 - 2021. Zie voor een verantwoording het notebook \"validatie gemeten waterpeilen Dwarsdiep\".\n",
    "\n",
    "Auteur: Thomas de Meij (Staatsbosbeheer)  \n",
    "Datum : 14 juni 2021  "
   ]
  },
  {
   "cell_type": "markdown",
   "metadata": {},
   "source": [
    "## Inlezen dagwaarden waterstand  \n",
    "\n",
    "De dagwaarden van de waterstand worden ingelezen uit een bestand met gevalideerde data dat in een erdere analyse is opgeslagen. Schrikkeldagen worden verwijderd om de analyse te vereenvoudigen. Alleen metingen in de periode 1 oktober 2012 tot en met 31 maart 2021 worden gebruikt."
   ]
  },
  {
   "cell_type": "code",
   "execution_count": 1,
   "metadata": {},
   "outputs": [],
   "source": [
    "from pandas import Series, DataFrame\n",
    "import pandas as pd\n",
    "import numpy as np\n",
    "from scipy import stats\n",
    "import matplotlib.pyplot as plt\n",
    "import seaborn as sns\n",
    "sns.set_style(\"whitegrid\")\n",
    "\n",
    "sourcedir = r'..\\\\02_data\\\\validatie waterpeilen\\\\'\n",
    "datadir = r'..\\\\02_data\\\\frequentieanalyse wemerpolder\\\\'\n",
    "figdir = r'..\\03_result\\frequentieanalyse wemerpolder\\\\'"
   ]
  },
  {
   "cell_type": "code",
   "execution_count": 2,
   "metadata": {},
   "outputs": [
    {
     "data": {
      "text/plain": [
       "2012-10-01   -0.8725\n",
       "2012-10-02   -0.8700\n",
       "2012-10-03   -0.8900\n",
       "2012-10-04   -0.7800\n",
       "2012-10-05   -0.7000\n",
       "               ...  \n",
       "2021-03-27       NaN\n",
       "2021-03-28       NaN\n",
       "2021-03-29       NaN\n",
       "2021-03-30       NaN\n",
       "2021-03-31       NaN\n",
       "Name: wmpnap, Length: 3102, dtype: float64"
      ]
     },
     "execution_count": 2,
     "metadata": {},
     "output_type": "execute_result"
    }
   ],
   "source": [
    "# read daily values from csv\n",
    "fpath = f'{sourcedir}wemerpolder_dagwaarden_q85.csv'\n",
    "wmp = pd.read_csv(fpath,index_col='datumtijd',parse_dates=True,\n",
    "    squeeze=True)\n",
    "\n",
    "# data stops at 25-03-2021. We accept missing values on the last\n",
    "# 6 days of march 2021\n",
    "wmp = wmp.reindex(pd.date_range(start='2012-10-01', end='2021-03-31'))\n",
    "\n",
    "# remove leap days (=schrikkeldagen)\n",
    "wmp = wmp[~((wmp.index.month == 2) & (wmp.index.day == 29))].copy()\n",
    "\n",
    "wmp"
   ]
  },
  {
   "cell_type": "markdown",
   "metadata": {},
   "source": [
    "## Tabellen met waterstanden  \n",
    "\n",
    "Met de meetreeks met dagwaarden van 1 oktober 2012 tot 31 maart 2021 maken we tabellen met waterstanden gesorteerd van hoog naar laag voor alle jaren, uitgesplitst naar zomer en winter. Ook maken we een tabel voor de periode 15 juli - 15 september, de periode waarin hoge waterstanden het maaibeheer in de weg kunnen staan.  Met deze tabellen worden in eenvolgende stap frequenties berekend.   "
   ]
  },
  {
   "cell_type": "code",
   "execution_count": 3,
   "metadata": {},
   "outputs": [
    {
     "name": "stdout",
     "output_type": "stream",
     "text": [
      "       2012    2013    2014  2015    2016    2017    2018    2019    2020\n",
      "day                                                                      \n",
      "1   -0.4600 -0.6000 -0.5000 -0.47 -0.6400 -0.5000 -0.5200 -0.4000 -0.5500\n",
      "2   -0.5125 -0.6700 -0.5425 -0.47 -0.7225 -0.5300 -0.5300 -0.4300 -0.5825\n",
      "3   -0.5400 -0.7300 -0.6300 -0.53 -0.7300 -0.5700 -0.6500 -0.4625 -0.6125\n",
      "4   -0.6200 -0.7325 -0.6600 -0.59 -0.7400 -0.6200 -0.6825 -0.5300 -0.6425\n",
      "5   -0.6300 -0.7325 -0.6800 -0.62 -0.7600 -0.6400 -0.7025 -0.5425 -0.6500\n",
      "..      ...     ...     ...   ...     ...     ...     ...     ...     ...\n",
      "178 -0.9000 -0.9300 -0.9300 -0.93 -0.9500 -0.9800 -0.9500 -0.9400     NaN\n",
      "179 -0.9000 -0.9300 -0.9300 -0.94 -0.9525 -0.9825 -0.9500 -0.9400     NaN\n",
      "180 -0.9000 -0.9300 -0.9300 -0.94 -0.9600 -0.9900 -0.9500 -0.9400     NaN\n",
      "181 -0.9000 -0.9400 -0.9300 -0.94 -0.9600 -0.9900 -0.9500 -0.9500     NaN\n",
      "182 -0.9000 -0.9500 -0.9400 -0.95 -0.9600 -1.0000 -0.9600 -0.9600     NaN\n",
      "\n",
      "[182 rows x 9 columns]\n"
     ]
    }
   ],
   "source": [
    "# select daily water levels in the winter season (october 1st - march 31)\n",
    "winter = {}\n",
    "winteryears = [2012,2013,2014,2015,2016,2017,2018,2019,2020]\n",
    "for year in winteryears:\n",
    "\n",
    "    startdate = f'{year}-10-01'\n",
    "    enddate = f'{year+1}-03-31'\n",
    "    sr = wmp[startdate:enddate].sort_values(ascending=False, \n",
    "        inplace=False)\n",
    "\n",
    "    winter[f'{year}']=sr.values\n",
    "    \n",
    "# create dataframe\n",
    "wtr = DataFrame.from_dict(winter)\n",
    "wtr.index=pd.Index(range(1,183),name='day')\n",
    "print(wtr)"
   ]
  },
  {
   "cell_type": "code",
   "execution_count": 4,
   "metadata": {},
   "outputs": [
    {
     "name": "stdout",
     "output_type": "stream",
     "text": [
      "     2013  2014    2015  2016  2017  2018  2019  2020\n",
      "day                                                  \n",
      "1   -0.77 -0.74 -0.6600 -0.60 -0.81 -0.71 -0.76 -0.76\n",
      "2   -0.78 -0.77 -0.7200 -0.77 -0.82 -0.73 -0.80 -0.76\n",
      "3   -0.78 -0.77 -0.7400 -0.79 -0.83 -0.76 -0.80 -0.78\n",
      "4   -0.79 -0.78 -0.7525 -0.80 -0.83 -0.76 -0.81 -0.78\n",
      "5   -0.80 -0.78 -0.7600 -0.80 -0.83 -0.77 -0.81 -0.78\n",
      "..    ...   ...     ...   ...   ...   ...   ...   ...\n",
      "179 -0.91 -0.90 -0.9200 -0.93 -0.97 -0.92 -0.92 -0.92\n",
      "180 -0.91 -0.91 -0.9200 -0.93 -0.97 -0.93 -0.93 -0.92\n",
      "181 -0.92 -0.91 -0.9200 -0.93 -0.97 -0.93 -0.93 -0.92\n",
      "182 -0.92 -0.91 -0.9225 -0.94 -0.98 -0.94 -0.93 -0.94\n",
      "183 -0.92 -0.93 -0.9400 -0.98 -0.99 -0.96 -0.95 -0.95\n",
      "\n",
      "[183 rows x 8 columns]\n"
     ]
    }
   ],
   "source": [
    "# select daily water levels in the summer (april 1st - october 1st)\n",
    "# apr : sep is 30+31+30+31+31+30\n",
    "summer = {}\n",
    "summeryears = [2013,2014,2015,2016,2017,2018,2019,2020]\n",
    "for year in summeryears:\n",
    "\n",
    "    startdate = f'{year}-04-01'\n",
    "    enddate = f'{year}-09-30'\n",
    "    sr = wmp[startdate:enddate].sort_values(ascending=False, \n",
    "        inplace=False)\n",
    "\n",
    "    summer[f'{year}']=sr.values\n",
    "\n",
    "# create dataframe\n",
    "smr = DataFrame.from_dict(summer)\n",
    "smr.index=pd.Index(range(1,184),name='day')\n",
    "print(smr)"
   ]
  },
  {
   "cell_type": "code",
   "execution_count": 5,
   "metadata": {},
   "outputs": [
    {
     "name": "stdout",
     "output_type": "stream",
     "text": [
      "       2013  2014    2015  2016    2017  2018  2019  2020\n",
      "day                                                      \n",
      "1   -0.8300 -0.79 -0.6600 -0.82 -0.8325 -0.71 -0.81 -0.79\n",
      "2   -0.8300 -0.80 -0.7200 -0.82 -0.8400 -0.73 -0.81 -0.79\n",
      "3   -0.8325 -0.80 -0.7400 -0.83 -0.8400 -0.76 -0.81 -0.80\n",
      "4   -0.8400 -0.80 -0.7525 -0.84 -0.8400 -0.77 -0.82 -0.80\n",
      "5   -0.8400 -0.80 -0.7600 -0.84 -0.8400 -0.77 -0.82 -0.81\n",
      "..      ...   ...     ...   ...     ...   ...   ...   ...\n",
      "59  -0.9000 -0.90 -0.9100 -0.92 -0.9600 -0.90 -0.90 -0.92\n",
      "60  -0.9100 -0.90 -0.9100 -0.92 -0.9700 -0.91 -0.90 -0.92\n",
      "61  -0.9100 -0.91 -0.9200 -0.93 -0.9700 -0.91 -0.90 -0.92\n",
      "62  -0.9200 -0.91 -0.9200 -0.93 -0.9800 -0.92 -0.93 -0.94\n",
      "63  -0.9200 -0.93 -0.9225 -0.93 -0.9900 -0.93 -0.95 -0.95\n",
      "\n",
      "[63 rows x 8 columns]\n"
     ]
    }
   ],
   "source": [
    "# select daily values from mowing period (july 15 - september 15)\n",
    "mowing = {}\n",
    "summeryears = [2013,2014,2015,2016,2017,2018,2019,2020]\n",
    "for year in summeryears:\n",
    "    \n",
    "    startdate = f'{year}-07-15'\n",
    "    enddate = f'{year}-09-15'\n",
    "    sr = wmp[startdate:enddate].sort_values(ascending=False, \n",
    "        inplace=False)\n",
    "\n",
    "    mowing[f'{year}']=sr.values\n",
    "    \n",
    "# create dataframe\n",
    "mow = DataFrame.from_dict(mowing)\n",
    "mow.index=pd.Index(range(1,64),name='day')\n",
    "print(mow)"
   ]
  },
  {
   "cell_type": "code",
   "execution_count": 6,
   "metadata": {},
   "outputs": [],
   "source": [
    "# add column with average to copy of dataframe\n",
    "smravg = smr.sort_index(ascending=True).round(2)\n",
    "wtravg = wtr.sort_index(ascending=True).round(2)\n",
    "mowavg = mow.sort_index(ascending=True).round(2)\n",
    "smravg['avg'] = smravg.mean(axis=1).round(2)\n",
    "wtravg['avg'] = wtravg.mean(axis=1).round(2)\n",
    "mowavg['avg'] = mowavg.mean(axis=1).round(2)\n",
    "\n",
    "# save data to Excel\n",
    "fpath = f'{datadir}wemerpolder - waterstanden van hoog naar laag.xlsx' \n",
    "writer = pd.ExcelWriter(fpath,engine='xlsxwriter')\n",
    "smravg.to_excel(writer,sheet_name='zomer')\n",
    "wtravg.to_excel(writer,sheet_name='winter')\n",
    "mowavg.to_excel(writer,sheet_name='maaiperiode')\n",
    "writer.save()"
   ]
  },
  {
   "cell_type": "markdown",
   "metadata": {},
   "source": [
    "### Maximale waterstanden  \n",
    "\n",
    "Voor het schatten van extreme waarden is het zinvol om voor ieder jaar de maximale waarde te bepalen:"
   ]
  },
  {
   "cell_type": "code",
   "execution_count": 27,
   "metadata": {},
   "outputs": [
    {
     "data": {
      "text/html": [
       "<div>\n",
       "<style scoped>\n",
       "    .dataframe tbody tr th:only-of-type {\n",
       "        vertical-align: middle;\n",
       "    }\n",
       "\n",
       "    .dataframe tbody tr th {\n",
       "        vertical-align: top;\n",
       "    }\n",
       "\n",
       "    .dataframe thead th {\n",
       "        text-align: right;\n",
       "    }\n",
       "</style>\n",
       "<table border=\"1\" class=\"dataframe\">\n",
       "  <thead>\n",
       "    <tr style=\"text-align: right;\">\n",
       "      <th></th>\n",
       "      <th>winter</th>\n",
       "      <th>summer</th>\n",
       "      <th>mowper</th>\n",
       "    </tr>\n",
       "    <tr>\n",
       "      <th>year</th>\n",
       "      <th></th>\n",
       "      <th></th>\n",
       "      <th></th>\n",
       "    </tr>\n",
       "  </thead>\n",
       "  <tbody>\n",
       "    <tr>\n",
       "      <th>2012</th>\n",
       "      <td>-0.46</td>\n",
       "      <td>NaN</td>\n",
       "      <td>NaN</td>\n",
       "    </tr>\n",
       "    <tr>\n",
       "      <th>2013</th>\n",
       "      <td>-0.60</td>\n",
       "      <td>-0.77</td>\n",
       "      <td>-0.8300</td>\n",
       "    </tr>\n",
       "    <tr>\n",
       "      <th>2014</th>\n",
       "      <td>-0.50</td>\n",
       "      <td>-0.74</td>\n",
       "      <td>-0.7900</td>\n",
       "    </tr>\n",
       "    <tr>\n",
       "      <th>2015</th>\n",
       "      <td>-0.47</td>\n",
       "      <td>-0.66</td>\n",
       "      <td>-0.6600</td>\n",
       "    </tr>\n",
       "    <tr>\n",
       "      <th>2016</th>\n",
       "      <td>-0.64</td>\n",
       "      <td>-0.60</td>\n",
       "      <td>-0.8200</td>\n",
       "    </tr>\n",
       "    <tr>\n",
       "      <th>2017</th>\n",
       "      <td>-0.50</td>\n",
       "      <td>-0.81</td>\n",
       "      <td>-0.8325</td>\n",
       "    </tr>\n",
       "    <tr>\n",
       "      <th>2018</th>\n",
       "      <td>-0.52</td>\n",
       "      <td>-0.71</td>\n",
       "      <td>-0.7100</td>\n",
       "    </tr>\n",
       "    <tr>\n",
       "      <th>2019</th>\n",
       "      <td>-0.40</td>\n",
       "      <td>-0.76</td>\n",
       "      <td>-0.8100</td>\n",
       "    </tr>\n",
       "    <tr>\n",
       "      <th>2020</th>\n",
       "      <td>-0.55</td>\n",
       "      <td>-0.76</td>\n",
       "      <td>-0.7900</td>\n",
       "    </tr>\n",
       "  </tbody>\n",
       "</table>\n",
       "</div>"
      ],
      "text/plain": [
       "      winter  summer  mowper\n",
       "year                        \n",
       "2012   -0.46     NaN     NaN\n",
       "2013   -0.60   -0.77 -0.8300\n",
       "2014   -0.50   -0.74 -0.7900\n",
       "2015   -0.47   -0.66 -0.6600\n",
       "2016   -0.64   -0.60 -0.8200\n",
       "2017   -0.50   -0.81 -0.8325\n",
       "2018   -0.52   -0.71 -0.7100\n",
       "2019   -0.40   -0.76 -0.8100\n",
       "2020   -0.55   -0.76 -0.7900"
      ]
     },
     "execution_count": 27,
     "metadata": {},
     "output_type": "execute_result"
    }
   ],
   "source": [
    "wtrmax = wtr.max(axis=0)\n",
    "smrmax = smr.max(axis=0)\n",
    "mowmax = mow.max(axis=0)\n",
    "dfmax = pd.concat([wtrmax,smrmax,mowmax],axis=1,keys=['winter','summer','mowper'])\n",
    "dfmax.index.name='year'\n",
    "dfmax"
   ]
  },
  {
   "cell_type": "code",
   "execution_count": 31,
   "metadata": {},
   "outputs": [],
   "source": [
    "fpath = f'{datadir}wemerpolder-jaarmaxima.csv'\n",
    "dfmax.to_csv(fpath,index=True)\n",
    "fpath = f'{datadir}wemerpolder-zomermaxima.csv'\n",
    "smrmax.to_csv(fpath,index=True,header=False)"
   ]
  },
  {
   "cell_type": "markdown",
   "metadata": {},
   "source": [
    "## Grafieken met frequentieverdelingen  \n",
    "\n",
    "Met de drie tabellen met gesorteerde dagwaarden voor zomer, winter en het maaiseizoen makenwe grafieken van de cumulatieve frequentieverdeling van waterstanden op het Dwarsdiep."
   ]
  },
  {
   "cell_type": "code",
   "execution_count": 7,
   "metadata": {},
   "outputs": [],
   "source": [
    "fig, ax = plt.subplots(nrows=2, ncols=1)\n",
    "fig.set_size_inches(11,6) # w,h\n",
    "\n",
    "for year in wtr:\n",
    "    ax[0].plot(wtr[year],color='#8b0000')\n",
    "\n",
    "ax[0].set_title('Wemerpolder winter',fontsize=14)\n",
    "ax[0].set_xlim(0,180)\n",
    "ax[0].set_ylim(-1.00,-0.40)\n",
    "ax[0].grid(b=True, which='both', axis='both',)\n",
    "ax[0].set_ylabel('waterstand mNAP')\n",
    "\n",
    "for year in smr:\n",
    "\n",
    "    ax[1].plot(smr[year],color='#8b0000')\n",
    "    ax[1].set_title('Wemerpolder zomer',fontsize=14)\n",
    "    ax[1].set_xlim(0,180)\n",
    "    ax[1].set_ylim(-1.00,-0.40)\n",
    "    ax[1].grid(b=True, which='both', axis='both',)\n",
    "    ax[1].set_ylabel('waterstand mNAP')\n",
    "    ax[1].set_xlabel('aantal dagen')\n",
    "\n",
    "fig.tight_layout(pad=2.0)\n",
    "fpath = f'{figdir}wemerpolder dagwaarden_frequenties.jpg'\n",
    "fig.savefig(fpath,dpi=300,bbox_inches='tight')\n"
   ]
  },
  {
   "cell_type": "markdown",
   "metadata": {},
   "source": [
    "## Waterstanden met lage frequenties\n",
    "\n",
    "Bovenstaande grafieken laten zien dat het boezempeil door het jaar heen erg stabiel is (zowel het zomergemiddelde als het wintergemiddelde is -0,85 m NAP). Om iets te zeggen over de kans op inundaties kijken we wat meer in detail naar de  hoogste waterstanden. In de grafieken worden steeds de jaren met de hoogste (donkerblauw) en laagste (lichtblauw) waterstanden apart aangegegeven."
   ]
  },
  {
   "cell_type": "code",
   "execution_count": 8,
   "metadata": {},
   "outputs": [],
   "source": [
    "fig, ax = plt.subplots(nrows=2, ncols=1)\n",
    "fig.set_size_inches(11,7) # w,h\n",
    "fig.tight_layout(pad=3.0)\n",
    "\n",
    "maxday = 10\n",
    "minday = 1\n",
    "\n",
    "for year in wtr:\n",
    "    ax[0].plot(wtr[year],color='#777777')\n",
    "\n",
    "ax[0].plot(wtr['2019'],color='#0000ff',label='2019') # highest\n",
    "ax[0].plot(wtr['2016'],color='#5bc0de',label='2016') # lowest\n",
    "\n",
    "ax[0].set_title('Wemerpolder winter',fontsize=14)\n",
    "ax[0].set_xlim(minday,maxday)\n",
    "ax[0].set_ylim(-0.9,-0.30)\n",
    "ax[0].grid(b=True, which='both', axis='both',)\n",
    "ax[0].set_ylabel('waterstand dwarsdiep mNAP')\n",
    "ax[0].legend(loc=\"upper right\")\n",
    "\n",
    "for year in smr:\n",
    "    ax[1].plot(smr[year],color='#777777')\n",
    "\n",
    "ax[1].plot(smr['2015'],color='#0000ff',label='2015') # highest\n",
    "ax[1].plot(smr['2017'],color='#5bc0de',label='2017') # lowest\n",
    "\n",
    "ax[1].set_title('Wemerpolder zomer',fontsize=14)\n",
    "ax[1].set_xlim(minday,maxday)\n",
    "ax[1].set_ylim(-0.9,-0.30)\n",
    "ax[1].grid(b=True, which='both', axis='both',)\n",
    "ax[1].set_ylabel('waterstand dwarsdiep mNAP')\n",
    "ax[1].set_xlabel('aantal dagen')\n",
    "ax[1].legend(loc=\"upper right\")\n",
    "\n",
    "fpath = f'{figdir}wemerpolder - hoge waterstanden winter en zomer.jpg'\n",
    "fig.savefig(fpath,dpi=300,bbox_inches='tight')\n"
   ]
  },
  {
   "cell_type": "code",
   "execution_count": 9,
   "metadata": {},
   "outputs": [],
   "source": [
    "fig, ax = plt.subplots(nrows=1, ncols=1)\n",
    "fig.set_size_inches(11,5) # w,h\n",
    "fig.tight_layout(pad=2.0)\n",
    "\n",
    "for year in mow:\n",
    "\n",
    "    if year=='2015':\n",
    "        ax.plot(mow[year],color='#0000ff',label=year)\n",
    "    elif year=='2018':\n",
    "        ax.plot(mow[year],color='#ffa500',label=year)\n",
    "    elif year=='2017':\n",
    "        ax.plot(mow[year],color='#5bc0de',label=year)\n",
    "    else:\n",
    "        ax.plot(mow[year],color='#777777',label=year)\n",
    "\n",
    "    ax.set_title('Waterpeilen Wemerpolder 15 juli - 15 september',fontsize=14)\n",
    "    ax.set_xlim(0,60)\n",
    "    ax.set_ylim(-1.00,-0.60)\n",
    "    ax.grid(b=True, which='both', axis='both',)\n",
    "    ax.set_ylabel('waterstand dwarsdiep mNAP')\n",
    "    ax.set_xlabel('aantal dagen')\n",
    "    ax.legend(loc=\"upper right\")\n",
    "\n",
    "fpath = f'{figdir}wemerpolder - hoge waterstanden maaiperiode.jpg'\n",
    "fig.savefig(fpath,dpi=300,bbox_inches='tight')"
   ]
  },
  {
   "cell_type": "markdown",
   "metadata": {},
   "source": [
    "## Waterstanden in de maaiperiode  \n",
    "\n",
    "Hoge waterstanden in de zomer maken percelen moeilijk toegankelijk voor maaibeheer. Daarom kijken we specifiek naar deze periode. Eerst een beeld van de cumulatieve frequentieverdeling en vervolgens een grafiek met het verloop vanhet boezempeil in verschillende jaren."
   ]
  },
  {
   "cell_type": "code",
   "execution_count": 10,
   "metadata": {},
   "outputs": [],
   "source": [
    "fig, ax = plt.subplots(nrows=1, ncols=1)\n",
    "fig.set_size_inches(11,4) # w,h\n",
    "fig.tight_layout(pad=2.0)\n",
    "\n",
    "years = [2015,2017,2018]\n",
    "colors = ['#0000ff','#5bc0de','#ffa500']\n",
    "\n",
    "for i,year in enumerate(years):\n",
    "    waterlevels = wmp[f'{year}-07-01':f'{year}-09-15'].values\n",
    "    ax.plot(waterlevels,color=colors[i],label=f'{year}')\n",
    "    \n",
    "    ax.set_xticks([0,14,30,45,61,76])\n",
    "    ax.set_xticklabels(['1 juli','15 juli','1 augustus','15 augustus','1 september','15 september'])\n",
    "    ax.set_title('Benedenstand gemaal Wemerpolder 1 juli - 15 september',fontsize=14)\n",
    "    ax.set_xlim(0,76)\n",
    "    ax.set_ylim(-1.00,-0.65)\n",
    "    ax.grid(b=True, which='both', axis='both',)\n",
    "    ax.set_ylabel('waterstand dwarsdiep mNAP')\n",
    "    ax.legend(loc=\"upper right\")\n",
    "\n",
    "fpath = f'{figdir}wemerpolder - waterstanden zomer 2018.jpg'\n",
    "fig.savefig(fpath,dpi=300,bbox_inches='tight')"
   ]
  },
  {
   "cell_type": "markdown",
   "metadata": {},
   "source": [
    "## Opslaan statistieken  \n",
    "\n",
    "Als naslag worden tabellen opgeslagen met statistieken van de data."
   ]
  },
  {
   "cell_type": "code",
   "execution_count": 11,
   "metadata": {},
   "outputs": [],
   "source": [
    "fpath = f'{datadir}wemerpolder - statistieken waterstanden.xlsx'\n",
    "writer = pd.ExcelWriter(fpath,engine='xlsxwriter')\n",
    "\n",
    "smrstat = smr.describe()\n",
    "smrstat['mean'] = smrstat.mean(numeric_only=True, axis=1)\n",
    "smrstat.to_excel(writer,sheet_name='zomer')\n",
    "\n",
    "wtrstat = wtr.describe()\n",
    "wtrstat['mean'] = wtrstat.mean(numeric_only=True, axis=1)\n",
    "wtrstat.to_excel(writer,sheet_name='winter')\n",
    "\n",
    "mowstat = mow.describe()\n",
    "mowstat['mean'] = mowstat.mean(numeric_only=True, axis=1)\n",
    "mowstat.to_excel(writer,sheet_name='maaiperiode')\n",
    "\n",
    "writer.save()"
   ]
  },
  {
   "cell_type": "markdown",
   "metadata": {},
   "source": [
    "## Vergelijking met analyse Prolander  \n",
    "\n",
    "Ter onderbouwing van het inrichtingsplan heeft Prolander eerder al een vergelijkbare frequentieanalyse uitgevoerd van de waterpeilen bij Wemerpolder en daarmee inundatiekaarten gemaakt (Memo \"Besluitvorming inrichtingsvorm polders Oude Riet en Wemerpolder\", Eric Blom 16-04-2021). De frequentieanalyse door Prolander is gebaseerd op kwartierwaarden in de periode 1 april - 1 november. \n",
    "\n",
    "Om een beeld te krijgen van de mate van overeenkomst tussen de frequentieanalyse van dagwaarden voor de periode 1 april - 1 oktober met de analyse van Prolander zijn beide cumulatieve frequentieanalyses hieronder weergegeven in één figuur. De omrekening van frequenties naar dagen is in beide gevallen uitgevoerd voor 214 dagen, de periode waarop de frequentieanalyse van Prolander is gebaseerd. De indeling is klassen van 5 cm is eveneens overeenkomstig de werkwijze van Prolander.\n"
   ]
  },
  {
   "cell_type": "code",
   "execution_count": 12,
   "metadata": {},
   "outputs": [],
   "source": [
    "# klasseindeling Prolander\n",
    "prolander_bins = [-1.35,-1.0,-0.95,-0.90,-0.85,-0.80,-0.75,-0.70,-0.65,-0.60,-0.55,-0.50] #,0.135]\n",
    "\n",
    "# resultaat frequentieanalyse Prolander\n",
    "prolander_dagen = [214,206,160,66,15,3.5,1.5,1.0,0.5,0.2,0.1]\n",
    "\n",
    "# groeiseizoen : 1 april - 1 november : 30+31+30+31+31+30+31 = 214 dagen\n",
    "season_days = 214\n",
    "\n",
    "# zomer : 1 mei - 1 september : 31+30+31+31+30 = 153 dagen\n",
    "summer_days = 153"
   ]
  },
  {
   "cell_type": "code",
   "execution_count": 13,
   "metadata": {},
   "outputs": [],
   "source": [
    "# calculate cumulative histogram for dauly values shown above\n",
    "wmphist, bin_edges = np.histogram(wmp,bins=prolander_bins,density=False)\n",
    "wmpcum = (1-np.cumsum(wmphist)/np.sum(wmphist))*season_days"
   ]
  },
  {
   "cell_type": "code",
   "execution_count": 14,
   "metadata": {},
   "outputs": [],
   "source": [
    "fig, ax = plt.subplots(1, 1, figsize=(11, 4))\n",
    "\n",
    "ax.stairs(wmpcum, prolander_bins, label='Dagwaarden 1 april - 1 oktober', color='#8b0000')\n",
    "\n",
    "##n, bins, patches = ax.hist(vals, bins, density=True, histtype='step',cumulative=True, label='Dagwaarden Wemerpolder')\n",
    "ax.stairs(prolander_dagen, prolander_bins, label='Kwartierwaarden 1 april - 1 november', color='#0000ff')\n",
    "\n",
    "ax.set_ylabel('aantal dagen',fontsize=12)\n",
    "ax.set_xlabel('waterpeil mNAP',fontsize=12)\n",
    "ax.set_xlim(-1.05,-0.5)\n",
    "ax.legend(fontsize=14)\n",
    "\n",
    "fpath = f'{figdir}wemerpolder - vergelijking kwartierwaarden en dagwaarden.jpg'\n",
    "fig.savefig(fpath,dpi=300,bbox_inches='tight')"
   ]
  },
  {
   "cell_type": "code",
   "execution_count": null,
   "metadata": {},
   "outputs": [],
   "source": []
  }
 ],
 "metadata": {
  "kernelspec": {
   "display_name": "Python 3",
   "language": "python",
   "name": "python3"
  },
  "language_info": {
   "codemirror_mode": {
    "name": "ipython",
    "version": 3
   },
   "file_extension": ".py",
   "mimetype": "text/x-python",
   "name": "python",
   "nbconvert_exporter": "python",
   "pygments_lexer": "ipython3",
   "version": "3.7.11"
  }
 },
 "nbformat": 4,
 "nbformat_minor": 4
}
