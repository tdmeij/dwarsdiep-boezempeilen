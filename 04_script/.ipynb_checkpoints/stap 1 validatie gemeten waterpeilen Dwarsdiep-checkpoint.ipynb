{
 "cells": [
  {
   "cell_type": "markdown",
   "metadata": {},
   "source": [
    "# Validatie gemeten waterpeilen Dwarsdiep  \n",
    "\n",
    "Waterschap Noorderzijlvest met waterstanden op het Dwarsdiep benedenstrooms van de gemalen Wemerpolder en Oude Riet. Beide gemalen staan dicht bij elkaar en zouden vergelijkbare peien op het Dwarsdiep moeten laten zien. \n",
    "\n",
    "Voor de planvorming in het Dwarsdiep is het nodig om inzicht hebben in de frequentievereling van waterpeilen op het Dwarsdiep. Hiermee kan in kaart gebracht worden welke gronden onder water lopen bij vrije afwatering op het Dwarsdiep. Dit notebook geeft een beschrijving van de meetgegevens en berekent dagwaarden als basis voor een frequentieanalyse. \n",
    "\n",
    "Auteur: Thomas de Meij (Staatsbosbeheer)  \n",
    "Datum : 14 juni 2021  \n"
   ]
  },
  {
   "cell_type": "code",
   "execution_count": 183,
   "metadata": {},
   "outputs": [],
   "source": [
    "from pandas import Series, DataFrame\n",
    "import pandas as pd\n",
    "import numpy as np\n",
    "import matplotlib.pyplot as plt\n",
    "##import matplotlib.lines as mlines\n",
    "##import matplotlib.transforms as mtransforms\n",
    "from matplotlib import ticker as tick\n",
    "import seaborn as sns\n",
    "import scipy\n",
    "from scipy import stats\n",
    "sns.set_style(\"whitegrid\")\n",
    "\n",
    "datadir = r'..\\02_data\\01_validatie waterpeilen\\\\'\n",
    "figdir = r'..\\03_result\\01_validatie waterpeilen\\\\'"
   ]
  },
  {
   "cell_type": "markdown",
   "metadata": {},
   "source": [
    "## Inlezen van de meetgegevens"
   ]
  },
  {
   "cell_type": "code",
   "execution_count": 184,
   "metadata": {},
   "outputs": [],
   "source": [
    "fpath = r'..\\01_source\\data gemalen\\210423_data gemalen dwarsdiep.xlsx'\n",
    "data = pd.read_excel(fpath)\n",
    "\n",
    "colnames = {'Datumtijd':'datumtijd',\n",
    "    'Waterstand benedenstrooms Wemerpolder [m NAP]':'wmpnap',\n",
    "    'Waterstand benedenstrooms Oude Riet [m NAP]':'odrnap'}\n",
    "data = data.rename(columns=colnames)\n"
   ]
  },
  {
   "cell_type": "markdown",
   "metadata": {},
   "source": [
    "De dataset bestaat uit 311954 kwartierwaarden vanaf 1 mei 2012 17:15 tot en met 25 maart 2021 13:00.  "
   ]
  },
  {
   "cell_type": "markdown",
   "metadata": {},
   "source": [
    "## Consistentie van de data  "
   ]
  },
  {
   "cell_type": "markdown",
   "metadata": {},
   "source": [
    "Allereerst beoordelen we de consistentie van de data. Daarbij controleren we of alle kwartierwaareden in de meetperiode precies één keer voorkomen. Eerst controleren we de kolom datumtijd op dubbele waarden. Vervolgens controlen we of bij dubbele waarden voor datumtijd ook de gemeten waterpeilen gelijk zijn. Tenslotte verwijderen we de buplicaten.  \n",
    "\n",
    "Voorafgaand aan de controle zetten we de beide meetreeksen in aparte variabelen, die we afonderlijk valideren:  "
   ]
  },
  {
   "cell_type": "code",
   "execution_count": 185,
   "metadata": {},
   "outputs": [],
   "source": [
    "wmpnap = data[['datumtijd','wmpnap']]\n",
    "odrnap = data[['datumtijd','odrnap']]"
   ]
  },
  {
   "cell_type": "markdown",
   "metadata": {},
   "source": [
    "\n",
    "#### Beoordelen en verwijderen duplicaten Wemerpolder  "
   ]
  },
  {
   "cell_type": "code",
   "execution_count": 186,
   "metadata": {},
   "outputs": [
    {
     "name": "stdout",
     "output_type": "stream",
     "text": [
      "Aantal dubbele waarden voor datumtijd in wemerpolder: 52\n"
     ]
    }
   ],
   "source": [
    "# aantal dubbele waarden voor datumtijd:\n",
    "doubledates = wmpnap.duplicated(subset=['datumtijd'],keep=False)\n",
    "print(f'Aantal dubbele waarden voor datumtijd in wemerpolder: {len(wmpnap[doubledates])}')"
   ]
  },
  {
   "cell_type": "code",
   "execution_count": 187,
   "metadata": {},
   "outputs": [
    {
     "name": "stdout",
     "output_type": "stream",
     "text": [
      "Aantal dubbele waarden voor datumtijd en waterpeil in wemerpolder: 50\n"
     ]
    }
   ],
   "source": [
    "# aantal dubbele waarden voor datumtijd én waterpeil in Wemerpolder:\n",
    "duplicates = wmpnap.duplicated(subset=['datumtijd','wmpnap'],keep=False)\n",
    "print(f'Aantal dubbele waarden voor datumtijd en waterpeil in wemerpolder: {len(wmpnap[duplicates])}')"
   ]
  },
  {
   "cell_type": "code",
   "execution_count": 188,
   "metadata": {},
   "outputs": [
    {
     "data": {
      "text/html": [
       "<div>\n",
       "<style scoped>\n",
       "    .dataframe tbody tr th:only-of-type {\n",
       "        vertical-align: middle;\n",
       "    }\n",
       "\n",
       "    .dataframe tbody tr th {\n",
       "        vertical-align: top;\n",
       "    }\n",
       "\n",
       "    .dataframe thead th {\n",
       "        text-align: right;\n",
       "    }\n",
       "</style>\n",
       "<table border=\"1\" class=\"dataframe\">\n",
       "  <thead>\n",
       "    <tr style=\"text-align: right;\">\n",
       "      <th></th>\n",
       "      <th>datumtijd</th>\n",
       "      <th>wmpnap</th>\n",
       "    </tr>\n",
       "  </thead>\n",
       "  <tbody>\n",
       "    <tr>\n",
       "      <th>157667</th>\n",
       "      <td>2016-10-30 02:45:00</td>\n",
       "      <td>-0.93</td>\n",
       "    </tr>\n",
       "    <tr>\n",
       "      <th>157671</th>\n",
       "      <td>2016-10-30 02:45:00</td>\n",
       "      <td>-0.94</td>\n",
       "    </tr>\n",
       "  </tbody>\n",
       "</table>\n",
       "</div>"
      ],
      "text/plain": [
       "                 datumtijd  wmpnap\n",
       "157667 2016-10-30 02:45:00   -0.93\n",
       "157671 2016-10-30 02:45:00   -0.94"
      ]
     },
     "execution_count": 188,
     "metadata": {},
     "output_type": "execute_result"
    }
   ],
   "source": [
    "# wat zijn de dubbele waarden voor datumtijd en waterpeil?\n",
    "wmpnap[doubledates&~duplicates]"
   ]
  },
  {
   "cell_type": "markdown",
   "metadata": {},
   "source": [
    "De meetreeks van Wemerpolder bevat 52 regels met dubbele waarden voor datumtijd (26 duplicaten). Van die 26 duplicaten hebben er 25 ook dezelfde waarde voor het waterpeil, op één duplicaatmeting na. Het verschil in waterpeil voor het duplicaat is 1 cm. Gezien deze resultaten wordt van alle 26 duplicaten van Wemperpolder alleen de eerstvoorkomende waarde bewaard:  "
   ]
  },
  {
   "cell_type": "code",
   "execution_count": 189,
   "metadata": {},
   "outputs": [],
   "source": [
    "# drop duplicates datumtijd from Wemerpolder\n",
    "wmpnap = wmpnap.drop_duplicates(subset=['datumtijd'],keep='first')"
   ]
  },
  {
   "cell_type": "markdown",
   "metadata": {},
   "source": [
    "#### Beoordelen en verwijderen duplicaten Oude Riet  "
   ]
  },
  {
   "cell_type": "code",
   "execution_count": 190,
   "metadata": {},
   "outputs": [
    {
     "name": "stdout",
     "output_type": "stream",
     "text": [
      "Aantal dubbele waarden voor datumtijd in Oude Riet: 52\n"
     ]
    }
   ],
   "source": [
    "# aantal dubbele waarden voor datumtijd:\n",
    "doubledates = odrnap.duplicated(subset=['datumtijd'],keep=False)\n",
    "print(f'Aantal dubbele waarden voor datumtijd in Oude Riet: {len(odrnap[doubledates])}')"
   ]
  },
  {
   "cell_type": "code",
   "execution_count": 191,
   "metadata": {},
   "outputs": [
    {
     "name": "stdout",
     "output_type": "stream",
     "text": [
      "Aantal dubbele waarden voor datumtijd en waterpeil in Oude Riet: 34\n"
     ]
    }
   ],
   "source": [
    "# aantal dubbele waarden voor datumtijd en waterpeil in Wemerpolder:\n",
    "duplicates = odrnap.duplicated(subset=['datumtijd','odrnap'],keep=False)\n",
    "print(f'Aantal dubbele waarden voor datumtijd en waterpeil in Oude Riet: {len(odrnap[duplicates])}')"
   ]
  },
  {
   "cell_type": "code",
   "execution_count": 192,
   "metadata": {},
   "outputs": [
    {
     "data": {
      "text/html": [
       "<div>\n",
       "<style scoped>\n",
       "    .dataframe tbody tr th:only-of-type {\n",
       "        vertical-align: middle;\n",
       "    }\n",
       "\n",
       "    .dataframe tbody tr th {\n",
       "        vertical-align: top;\n",
       "    }\n",
       "\n",
       "    .dataframe thead th {\n",
       "        text-align: right;\n",
       "    }\n",
       "</style>\n",
       "<table border=\"1\" class=\"dataframe\">\n",
       "  <thead>\n",
       "    <tr style=\"text-align: right;\">\n",
       "      <th></th>\n",
       "      <th>datumtijd</th>\n",
       "      <th>odrnap</th>\n",
       "    </tr>\n",
       "  </thead>\n",
       "  <tbody>\n",
       "    <tr>\n",
       "      <th>17224</th>\n",
       "      <td>2012-10-28 02:30:00</td>\n",
       "      <td>-0.89</td>\n",
       "    </tr>\n",
       "    <tr>\n",
       "      <th>17221</th>\n",
       "      <td>2012-10-28 02:30:00</td>\n",
       "      <td>-0.88</td>\n",
       "    </tr>\n",
       "    <tr>\n",
       "      <th>87104</th>\n",
       "      <td>2014-10-26 02:00:00</td>\n",
       "      <td>-0.96</td>\n",
       "    </tr>\n",
       "    <tr>\n",
       "      <th>87108</th>\n",
       "      <td>2014-10-26 02:00:00</td>\n",
       "      <td>-0.95</td>\n",
       "    </tr>\n",
       "    <tr>\n",
       "      <th>122051</th>\n",
       "      <td>2015-10-25 02:45:00</td>\n",
       "      <td>-0.92</td>\n",
       "    </tr>\n",
       "    <tr>\n",
       "      <th>122055</th>\n",
       "      <td>2015-10-25 02:45:00</td>\n",
       "      <td>-0.91</td>\n",
       "    </tr>\n",
       "    <tr>\n",
       "      <th>157664</th>\n",
       "      <td>2016-10-30 02:00:00</td>\n",
       "      <td>-0.92</td>\n",
       "    </tr>\n",
       "    <tr>\n",
       "      <th>157668</th>\n",
       "      <td>2016-10-30 02:00:00</td>\n",
       "      <td>NaN</td>\n",
       "    </tr>\n",
       "    <tr>\n",
       "      <th>192608</th>\n",
       "      <td>2017-10-29 02:00:00</td>\n",
       "      <td>-0.91</td>\n",
       "    </tr>\n",
       "    <tr>\n",
       "      <th>192612</th>\n",
       "      <td>2017-10-29 02:00:00</td>\n",
       "      <td>NaN</td>\n",
       "    </tr>\n",
       "    <tr>\n",
       "      <th>227552</th>\n",
       "      <td>2018-10-28 02:00:00</td>\n",
       "      <td>-0.86</td>\n",
       "    </tr>\n",
       "    <tr>\n",
       "      <th>227556</th>\n",
       "      <td>2018-10-28 02:00:00</td>\n",
       "      <td>NaN</td>\n",
       "    </tr>\n",
       "    <tr>\n",
       "      <th>227553</th>\n",
       "      <td>2018-10-28 02:15:00</td>\n",
       "      <td>-0.86</td>\n",
       "    </tr>\n",
       "    <tr>\n",
       "      <th>227557</th>\n",
       "      <td>2018-10-28 02:15:00</td>\n",
       "      <td>NaN</td>\n",
       "    </tr>\n",
       "    <tr>\n",
       "      <th>227554</th>\n",
       "      <td>2018-10-28 02:30:00</td>\n",
       "      <td>-0.86</td>\n",
       "    </tr>\n",
       "    <tr>\n",
       "      <th>227558</th>\n",
       "      <td>2018-10-28 02:30:00</td>\n",
       "      <td>NaN</td>\n",
       "    </tr>\n",
       "    <tr>\n",
       "      <th>227559</th>\n",
       "      <td>2018-10-28 02:45:00</td>\n",
       "      <td>-0.87</td>\n",
       "    </tr>\n",
       "    <tr>\n",
       "      <th>227555</th>\n",
       "      <td>2018-10-28 02:45:00</td>\n",
       "      <td>-0.86</td>\n",
       "    </tr>\n",
       "  </tbody>\n",
       "</table>\n",
       "</div>"
      ],
      "text/plain": [
       "                 datumtijd  odrnap\n",
       "17224  2012-10-28 02:30:00   -0.89\n",
       "17221  2012-10-28 02:30:00   -0.88\n",
       "87104  2014-10-26 02:00:00   -0.96\n",
       "87108  2014-10-26 02:00:00   -0.95\n",
       "122051 2015-10-25 02:45:00   -0.92\n",
       "122055 2015-10-25 02:45:00   -0.91\n",
       "157664 2016-10-30 02:00:00   -0.92\n",
       "157668 2016-10-30 02:00:00     NaN\n",
       "192608 2017-10-29 02:00:00   -0.91\n",
       "192612 2017-10-29 02:00:00     NaN\n",
       "227552 2018-10-28 02:00:00   -0.86\n",
       "227556 2018-10-28 02:00:00     NaN\n",
       "227553 2018-10-28 02:15:00   -0.86\n",
       "227557 2018-10-28 02:15:00     NaN\n",
       "227554 2018-10-28 02:30:00   -0.86\n",
       "227558 2018-10-28 02:30:00     NaN\n",
       "227559 2018-10-28 02:45:00   -0.87\n",
       "227555 2018-10-28 02:45:00   -0.86"
      ]
     },
     "execution_count": 192,
     "metadata": {},
     "output_type": "execute_result"
    }
   ],
   "source": [
    "# hoe zien de duplicaten voor datumtijd en waterpeil eruit?\n",
    "odrnap[doubledates&~duplicates].sort_values(by=['datumtijd','odrnap'])"
   ]
  },
  {
   "cell_type": "markdown",
   "metadata": {},
   "source": [
    "De meetreeks van kwartierwaarden van Oude Riet bevat 52 regels met dubbele datumtijden. Daarvan hebben er 34 ook hetzelfde waterpeil. Voor de overige deplicaten is de meetwaarde NaN, of verschillen de beide meetwaarden slechts één centimeter. Gezien deze resultaten wordt van alle duplicaten alleen de eerstvoorkomende waarde bewaard:  "
   ]
  },
  {
   "cell_type": "code",
   "execution_count": 193,
   "metadata": {},
   "outputs": [],
   "source": [
    "odrnap = odrnap.sort_values(by=['datumtijd','odrnap']).drop_duplicates(subset=['datumtijd'],keep='first').reset_index(drop=True)"
   ]
  },
  {
   "cell_type": "markdown",
   "metadata": {},
   "source": [
    "## Aantal onbrekende waarden  \n",
    "\n",
    "De volgende controle is het ontbreken van kwartierwaarden. Om dat te controleren wordt de dataset uitgelijnd op een nieuwe index van kwartierwaarden waarvan zeker is dat alle kwartieren tussen het begin en het eind van de meetperiode erin voorkomen. Kwartieren die ontbreken in de oorspronkelijke reeks krijgen daarbij de waarde NaN:  "
   ]
  },
  {
   "cell_type": "code",
   "execution_count": 194,
   "metadata": {},
   "outputs": [],
   "source": [
    "# create index of 15 minute values\n",
    "dtindex = pd.date_range(start='2012-05-01 17:15:00', end='2021-03-25 13:00:00', freq='15min')\n",
    "\n",
    "# set datumtijd as index and realign to new index\n",
    "wmpnap = wmpnap.set_index(keys='datumtijd',drop=True).reindex(dtindex)\n",
    "odrnap = odrnap.set_index(keys='datumtijd',drop=True).reindex(dtindex)"
   ]
  },
  {
   "cell_type": "code",
   "execution_count": 195,
   "metadata": {},
   "outputs": [
    {
     "name": "stdout",
     "output_type": "stream",
     "text": [
      "Aantal ontbrekende kwartierwaarden in Wmerpolder wmpnap    73\n",
      "dtype: int64\n"
     ]
    }
   ],
   "source": [
    "# count missing values in orignal series of quarter hours\n",
    "print(f'Aantal ontbrekende kwartierwaarden in Wmerpolder {wmpnap.isna().sum()}')"
   ]
  },
  {
   "cell_type": "code",
   "execution_count": 196,
   "metadata": {},
   "outputs": [
    {
     "name": "stdout",
     "output_type": "stream",
     "text": [
      "Aantal ontbrekende dagwaarden in Wemerpolder wmpnap    0\n",
      "dtype: int64\n"
     ]
    }
   ],
   "source": [
    "# count missing values in calculated series of daily values\n",
    "isna_wmp = wmpnap.groupby(pd.Grouper(freq='D')).mean().isna().sum()\n",
    "print(f'Aantal ontbrekende dagwaarden in Wemerpolder {isna_wmp}')"
   ]
  },
  {
   "cell_type": "code",
   "execution_count": 197,
   "metadata": {},
   "outputs": [
    {
     "name": "stdout",
     "output_type": "stream",
     "text": [
      "Aantal ontbrekende kwartierwaarden in Oude Riet odrnap    6218\n",
      "dtype: int64\n"
     ]
    }
   ],
   "source": [
    "print(f'Aantal ontbrekende kwartierwaarden in Oude Riet {odrnap.isna().sum()}')"
   ]
  },
  {
   "cell_type": "code",
   "execution_count": 198,
   "metadata": {},
   "outputs": [
    {
     "name": "stdout",
     "output_type": "stream",
     "text": [
      "Aantal ontbrekende dagwaarden in Oude Riet odrnap    40\n",
      "dtype: int64\n"
     ]
    }
   ],
   "source": [
    "isna_odr = odrnap.groupby(pd.Grouper(freq='D')).mean().isna().sum()\n",
    "print(f'Aantal ontbrekende dagwaarden in Oude Riet {isna_odr}')"
   ]
  },
  {
   "cell_type": "markdown",
   "metadata": {},
   "source": [
    "Samenvattend: in de meetreeks van Wemerpolder ontbreken 73 kwartierwaarnemingen van de waterstand. Er zijn geen dagen zonder gemeten kwartierwaarden. In de reeks van Oude Riet ontbreken 6218 kwartierwaarden. Er zijn 40 dagen zonder een gemeten kwartierwaarde, op een totaal van 3211 dagen.  "
   ]
  },
  {
   "cell_type": "markdown",
   "metadata": {},
   "source": [
    "## Beschrijvende statistieken van de meetreeksen  \n",
    "\n",
    "Onderstaande tabel geeft beschrijvende statistieken van beide meetreeksen. Om alle bewerkingen overzichtelijk te houden worden de twee afzonderlijke meetreeksen eerst weer samengevoegd in één dataframe:  "
   ]
  },
  {
   "cell_type": "code",
   "execution_count": 199,
   "metadata": {},
   "outputs": [],
   "source": [
    "data = pd.merge(wmpnap,odrnap,left_index=True,right_index=True,how='outer')\n",
    "data.index.name = \"datumtijd\"\n",
    "fpath = f'{datadir}kwartierwaarden wemerpolder en oude riet.csv' \n",
    "data.to_csv(fpath)"
   ]
  },
  {
   "cell_type": "code",
   "execution_count": 200,
   "metadata": {},
   "outputs": [
    {
     "data": {
      "text/html": [
       "<div>\n",
       "<style scoped>\n",
       "    .dataframe tbody tr th:only-of-type {\n",
       "        vertical-align: middle;\n",
       "    }\n",
       "\n",
       "    .dataframe tbody tr th {\n",
       "        vertical-align: top;\n",
       "    }\n",
       "\n",
       "    .dataframe thead th {\n",
       "        text-align: right;\n",
       "    }\n",
       "</style>\n",
       "<table border=\"1\" class=\"dataframe\">\n",
       "  <thead>\n",
       "    <tr style=\"text-align: right;\">\n",
       "      <th></th>\n",
       "      <th>wmpnap</th>\n",
       "      <th>odrnap</th>\n",
       "    </tr>\n",
       "    <tr>\n",
       "      <th>datumtijd</th>\n",
       "      <th></th>\n",
       "      <th></th>\n",
       "    </tr>\n",
       "  </thead>\n",
       "  <tbody>\n",
       "    <tr>\n",
       "      <th>2012-05-01 17:15:00</th>\n",
       "      <td>-0.82</td>\n",
       "      <td>-0.85</td>\n",
       "    </tr>\n",
       "    <tr>\n",
       "      <th>2012-05-01 17:30:00</th>\n",
       "      <td>-0.83</td>\n",
       "      <td>-0.86</td>\n",
       "    </tr>\n",
       "    <tr>\n",
       "      <th>2012-05-01 17:45:00</th>\n",
       "      <td>-0.82</td>\n",
       "      <td>-0.85</td>\n",
       "    </tr>\n",
       "    <tr>\n",
       "      <th>2012-05-01 18:00:00</th>\n",
       "      <td>-0.82</td>\n",
       "      <td>-0.85</td>\n",
       "    </tr>\n",
       "    <tr>\n",
       "      <th>2012-05-01 18:15:00</th>\n",
       "      <td>-0.83</td>\n",
       "      <td>-0.86</td>\n",
       "    </tr>\n",
       "    <tr>\n",
       "      <th>...</th>\n",
       "      <td>...</td>\n",
       "      <td>...</td>\n",
       "    </tr>\n",
       "    <tr>\n",
       "      <th>2021-03-25 12:00:00</th>\n",
       "      <td>-0.84</td>\n",
       "      <td>NaN</td>\n",
       "    </tr>\n",
       "    <tr>\n",
       "      <th>2021-03-25 12:15:00</th>\n",
       "      <td>-0.84</td>\n",
       "      <td>-0.82</td>\n",
       "    </tr>\n",
       "    <tr>\n",
       "      <th>2021-03-25 12:30:00</th>\n",
       "      <td>-0.84</td>\n",
       "      <td>-0.82</td>\n",
       "    </tr>\n",
       "    <tr>\n",
       "      <th>2021-03-25 12:45:00</th>\n",
       "      <td>-0.84</td>\n",
       "      <td>-0.82</td>\n",
       "    </tr>\n",
       "    <tr>\n",
       "      <th>2021-03-25 13:00:00</th>\n",
       "      <td>-0.84</td>\n",
       "      <td>-0.82</td>\n",
       "    </tr>\n",
       "  </tbody>\n",
       "</table>\n",
       "<p>311984 rows × 2 columns</p>\n",
       "</div>"
      ],
      "text/plain": [
       "                     wmpnap  odrnap\n",
       "datumtijd                          \n",
       "2012-05-01 17:15:00   -0.82   -0.85\n",
       "2012-05-01 17:30:00   -0.83   -0.86\n",
       "2012-05-01 17:45:00   -0.82   -0.85\n",
       "2012-05-01 18:00:00   -0.82   -0.85\n",
       "2012-05-01 18:15:00   -0.83   -0.86\n",
       "...                     ...     ...\n",
       "2021-03-25 12:00:00   -0.84     NaN\n",
       "2021-03-25 12:15:00   -0.84   -0.82\n",
       "2021-03-25 12:30:00   -0.84   -0.82\n",
       "2021-03-25 12:45:00   -0.84   -0.82\n",
       "2021-03-25 13:00:00   -0.84   -0.82\n",
       "\n",
       "[311984 rows x 2 columns]"
      ]
     },
     "execution_count": 200,
     "metadata": {},
     "output_type": "execute_result"
    }
   ],
   "source": [
    "data"
   ]
  },
  {
   "cell_type": "code",
   "execution_count": 201,
   "metadata": {},
   "outputs": [
    {
     "data": {
      "text/html": [
       "<div>\n",
       "<style scoped>\n",
       "    .dataframe tbody tr th:only-of-type {\n",
       "        vertical-align: middle;\n",
       "    }\n",
       "\n",
       "    .dataframe tbody tr th {\n",
       "        vertical-align: top;\n",
       "    }\n",
       "\n",
       "    .dataframe thead th {\n",
       "        text-align: right;\n",
       "    }\n",
       "</style>\n",
       "<table border=\"1\" class=\"dataframe\">\n",
       "  <thead>\n",
       "    <tr style=\"text-align: right;\">\n",
       "      <th></th>\n",
       "      <th>wmpnap</th>\n",
       "      <th>odrnap</th>\n",
       "    </tr>\n",
       "  </thead>\n",
       "  <tbody>\n",
       "    <tr>\n",
       "      <th>count</th>\n",
       "      <td>311911.000000</td>\n",
       "      <td>305766.000000</td>\n",
       "    </tr>\n",
       "    <tr>\n",
       "      <th>mean</th>\n",
       "      <td>-0.873477</td>\n",
       "      <td>-0.888739</td>\n",
       "    </tr>\n",
       "    <tr>\n",
       "      <th>std</th>\n",
       "      <td>0.056215</td>\n",
       "      <td>0.137871</td>\n",
       "    </tr>\n",
       "    <tr>\n",
       "      <th>min</th>\n",
       "      <td>-1.130000</td>\n",
       "      <td>-1.940000</td>\n",
       "    </tr>\n",
       "    <tr>\n",
       "      <th>25%</th>\n",
       "      <td>-0.910000</td>\n",
       "      <td>-0.910000</td>\n",
       "    </tr>\n",
       "    <tr>\n",
       "      <th>50%</th>\n",
       "      <td>-0.880000</td>\n",
       "      <td>-0.880000</td>\n",
       "    </tr>\n",
       "    <tr>\n",
       "      <th>75%</th>\n",
       "      <td>-0.850000</td>\n",
       "      <td>-0.850000</td>\n",
       "    </tr>\n",
       "    <tr>\n",
       "      <th>max</th>\n",
       "      <td>-0.390000</td>\n",
       "      <td>0.000000</td>\n",
       "    </tr>\n",
       "  </tbody>\n",
       "</table>\n",
       "</div>"
      ],
      "text/plain": [
       "              wmpnap         odrnap\n",
       "count  311911.000000  305766.000000\n",
       "mean       -0.873477      -0.888739\n",
       "std         0.056215       0.137871\n",
       "min        -1.130000      -1.940000\n",
       "25%        -0.910000      -0.910000\n",
       "50%        -0.880000      -0.880000\n",
       "75%        -0.850000      -0.850000\n",
       "max        -0.390000       0.000000"
      ]
     },
     "execution_count": 201,
     "metadata": {},
     "output_type": "execute_result"
    }
   ],
   "source": [
    "dstat = data.describe()\n",
    "fpath = f'{datadir}statistieken kwartierwaarden wemerpolder en oude riet.xlsx'\n",
    "dstat.to_excel(fpath)\n",
    "dstat"
   ]
  },
  {
   "cell_type": "markdown",
   "metadata": {},
   "source": [
    "Bovenstaande tabel leidt tot de volgende conclusies:\n",
    "- De mediaan van beide reeksen van kwartierwaarden is -0,88 mNAP. Dat betekent dat de waterstand de helft van de tijd lager is dan -0,88 m NAP en de andere helft van de tijd hoger.  \n",
    "- De gemeten waterpeilen liggen tussen -1,13 m NAP en -0,39 mNAP voor gemaal Wemerpolder en tussen -1,94 mNAP en 0 mNAP voor gemaal Oude Riet. Het voorkomen van maximum waarden van 0 mNAP in de meetreeks van Oude Riet is op grond van de voorkomende waterpeilen zeer onwarschijnlijk. Zijn dit wellicht missing values die als 0 zijn gecodeerd?  "
   ]
  },
  {
   "cell_type": "markdown",
   "metadata": {},
   "source": [
    "## Grafieken van de metingen"
   ]
  },
  {
   "cell_type": "markdown",
   "metadata": {},
   "source": [
    "Om een eerste indruk te krijgen van de metingen worden de ruwe data geplot (Let op: de schaalverdeling op de y-assen van beide grafieken is niet gelijk):"
   ]
  },
  {
   "cell_type": "code",
   "execution_count": 202,
   "metadata": {},
   "outputs": [
    {
     "data": {
      "image/png": "[encoded data removed]",
      "text/plain": [
       "<Figure size 576x288 with 2 Axes>"
      ]
     },
     "metadata": {},
     "output_type": "display_data"
    }
   ],
   "source": [
    "def plot_rawdata(data):\n",
    "    \"\"\"Plot timegraph of raw measurements\"\"\"\n",
    "    fig, ax = plt.subplots(nrows=2, ncols=1)\n",
    "    fig.set_size_inches(8,4) # w,h\n",
    "\n",
    "    x = data.index.values\n",
    "    y = data['wmpnap'].values\n",
    "    ax[0].plot(x,y,color='#8b0000')\n",
    "    ax[0].set_title('Wemerpolder')\n",
    "\n",
    "    y = data['odrnap'].values\n",
    "    ax[1].plot(x,y,color='#8b0000')\n",
    "    ax[1].set_title(label='Oude Riet')\n",
    "\n",
    "    fig.tight_layout(pad=2.0)\n",
    "\n",
    "    return fig,ax\n",
    "\n",
    "fig,ax = plot_rawdata(data)\n",
    "fpath = f'{figdir}tijdreeksen kwartierwaarden Wemerpolde en Oude Riet.jpg'\n",
    "fig.savefig(fpath,dpi=300,bbox_inches='tight')"
   ]
  },
  {
   "cell_type": "markdown",
   "metadata": {},
   "source": [
    "## Betrouwbaarheid metingen Oude Riet\n",
    "\n",
    "Het Dwarsdiep is onderdeel van de Electraboezem, het stelsel van waterlopen dat vrij afwatert richting Lauwersoog. Het streefpeil van de Electraboezem is -0,93 m NAP. Ver uitzakkende peilen zijn niet te verwachten, tijdelijk oplopende peilen in de winter wel. \n",
    "\n",
    "De grafieken geven de indruk dat de metingen van gemaal Wemerpolder op het oog betrouwbaar zijn, op incidentele uitschieters naar beneden na.  \n",
    "\n",
    "De peilen van Oude Riet bevatten forse uitschieters, zowel naar boven als naar beneden. We onderzoeken wat voor soort waarnemingen dit zijn door de extreem hoge waarden (hoger dan -0,1 mNAP) en extreem lage waarden (lager dan -1,10 mNAP) te bekijken:"
   ]
  },
  {
   "cell_type": "code",
   "execution_count": 203,
   "metadata": {},
   "outputs": [
    {
     "name": "stdout",
     "output_type": "stream",
     "text": [
      "Het aantal gemeten waterstanden hoger dan -0,3 mNAP is 57\n"
     ]
    }
   ],
   "source": [
    "mask_upper = data['odrnap']>-0.3\n",
    "print(f'Het aantal gemeten waterstanden hoger dan -0,3 mNAP is {len(data[mask_upper])}')"
   ]
  },
  {
   "cell_type": "code",
   "execution_count": 204,
   "metadata": {},
   "outputs": [
    {
     "data": {
      "text/html": [
       "<div>\n",
       "<style scoped>\n",
       "    .dataframe tbody tr th:only-of-type {\n",
       "        vertical-align: middle;\n",
       "    }\n",
       "\n",
       "    .dataframe tbody tr th {\n",
       "        vertical-align: top;\n",
       "    }\n",
       "\n",
       "    .dataframe thead th {\n",
       "        text-align: right;\n",
       "    }\n",
       "</style>\n",
       "<table border=\"1\" class=\"dataframe\">\n",
       "  <thead>\n",
       "    <tr style=\"text-align: right;\">\n",
       "      <th></th>\n",
       "      <th>wmpnap</th>\n",
       "      <th>odrnap</th>\n",
       "    </tr>\n",
       "    <tr>\n",
       "      <th>datumtijd</th>\n",
       "      <th></th>\n",
       "      <th></th>\n",
       "    </tr>\n",
       "  </thead>\n",
       "  <tbody>\n",
       "    <tr>\n",
       "      <th>2013-03-14 02:15:00</th>\n",
       "      <td>NaN</td>\n",
       "      <td>0.0</td>\n",
       "    </tr>\n",
       "    <tr>\n",
       "      <th>2013-03-14 02:30:00</th>\n",
       "      <td>NaN</td>\n",
       "      <td>0.0</td>\n",
       "    </tr>\n",
       "    <tr>\n",
       "      <th>2013-03-14 02:45:00</th>\n",
       "      <td>NaN</td>\n",
       "      <td>0.0</td>\n",
       "    </tr>\n",
       "    <tr>\n",
       "      <th>2013-03-14 03:00:00</th>\n",
       "      <td>NaN</td>\n",
       "      <td>0.0</td>\n",
       "    </tr>\n",
       "    <tr>\n",
       "      <th>2013-03-14 03:15:00</th>\n",
       "      <td>NaN</td>\n",
       "      <td>0.0</td>\n",
       "    </tr>\n",
       "    <tr>\n",
       "      <th>2013-03-14 03:30:00</th>\n",
       "      <td>NaN</td>\n",
       "      <td>0.0</td>\n",
       "    </tr>\n",
       "    <tr>\n",
       "      <th>2013-03-14 03:45:00</th>\n",
       "      <td>NaN</td>\n",
       "      <td>0.0</td>\n",
       "    </tr>\n",
       "    <tr>\n",
       "      <th>2013-03-14 04:00:00</th>\n",
       "      <td>NaN</td>\n",
       "      <td>0.0</td>\n",
       "    </tr>\n",
       "    <tr>\n",
       "      <th>2013-03-14 04:15:00</th>\n",
       "      <td>NaN</td>\n",
       "      <td>0.0</td>\n",
       "    </tr>\n",
       "  </tbody>\n",
       "</table>\n",
       "</div>"
      ],
      "text/plain": [
       "                     wmpnap  odrnap\n",
       "datumtijd                          \n",
       "2013-03-14 02:15:00     NaN     0.0\n",
       "2013-03-14 02:30:00     NaN     0.0\n",
       "2013-03-14 02:45:00     NaN     0.0\n",
       "2013-03-14 03:00:00     NaN     0.0\n",
       "2013-03-14 03:15:00     NaN     0.0\n",
       "2013-03-14 03:30:00     NaN     0.0\n",
       "2013-03-14 03:45:00     NaN     0.0\n",
       "2013-03-14 04:00:00     NaN     0.0\n",
       "2013-03-14 04:15:00     NaN     0.0"
      ]
     },
     "execution_count": 204,
     "metadata": {},
     "output_type": "execute_result"
    }
   ],
   "source": [
    "# sneak preview van waterstanden hoger dan -0,3 mNAP:\n",
    "data[mask_upper].head(9)"
   ]
  },
  {
   "cell_type": "code",
   "execution_count": 205,
   "metadata": {},
   "outputs": [
    {
     "name": "stdout",
     "output_type": "stream",
     "text": [
      "Het aantal gemeten waterstanden lager dan -1,20 mNAP is 4274\n"
     ]
    }
   ],
   "source": [
    "mask_lower = data['odrnap']<-1.20\n",
    "print(f'Het aantal gemeten waterstanden lager dan -1,20 mNAP is {len(data[mask_lower])}')"
   ]
  },
  {
   "cell_type": "code",
   "execution_count": 206,
   "metadata": {},
   "outputs": [
    {
     "data": {
      "text/html": [
       "<div>\n",
       "<style scoped>\n",
       "    .dataframe tbody tr th:only-of-type {\n",
       "        vertical-align: middle;\n",
       "    }\n",
       "\n",
       "    .dataframe tbody tr th {\n",
       "        vertical-align: top;\n",
       "    }\n",
       "\n",
       "    .dataframe thead th {\n",
       "        text-align: right;\n",
       "    }\n",
       "</style>\n",
       "<table border=\"1\" class=\"dataframe\">\n",
       "  <thead>\n",
       "    <tr style=\"text-align: right;\">\n",
       "      <th></th>\n",
       "      <th>wmpnap</th>\n",
       "      <th>odrnap</th>\n",
       "    </tr>\n",
       "    <tr>\n",
       "      <th>datumtijd</th>\n",
       "      <th></th>\n",
       "      <th></th>\n",
       "    </tr>\n",
       "  </thead>\n",
       "  <tbody>\n",
       "    <tr>\n",
       "      <th>2013-03-14 00:45:00</th>\n",
       "      <td>NaN</td>\n",
       "      <td>-1.94</td>\n",
       "    </tr>\n",
       "    <tr>\n",
       "      <th>2013-03-14 01:00:00</th>\n",
       "      <td>NaN</td>\n",
       "      <td>-1.94</td>\n",
       "    </tr>\n",
       "    <tr>\n",
       "      <th>2013-03-14 01:15:00</th>\n",
       "      <td>NaN</td>\n",
       "      <td>-1.94</td>\n",
       "    </tr>\n",
       "    <tr>\n",
       "      <th>2013-03-14 01:30:00</th>\n",
       "      <td>NaN</td>\n",
       "      <td>-1.94</td>\n",
       "    </tr>\n",
       "    <tr>\n",
       "      <th>2013-03-14 01:45:00</th>\n",
       "      <td>NaN</td>\n",
       "      <td>-1.94</td>\n",
       "    </tr>\n",
       "    <tr>\n",
       "      <th>2013-03-14 02:00:00</th>\n",
       "      <td>NaN</td>\n",
       "      <td>-1.94</td>\n",
       "    </tr>\n",
       "    <tr>\n",
       "      <th>2013-05-27 10:00:00</th>\n",
       "      <td>-0.90</td>\n",
       "      <td>-1.45</td>\n",
       "    </tr>\n",
       "    <tr>\n",
       "      <th>2014-02-09 20:15:00</th>\n",
       "      <td>-0.91</td>\n",
       "      <td>-1.94</td>\n",
       "    </tr>\n",
       "    <tr>\n",
       "      <th>2014-02-09 20:30:00</th>\n",
       "      <td>-0.92</td>\n",
       "      <td>-1.94</td>\n",
       "    </tr>\n",
       "  </tbody>\n",
       "</table>\n",
       "</div>"
      ],
      "text/plain": [
       "                     wmpnap  odrnap\n",
       "datumtijd                          \n",
       "2013-03-14 00:45:00     NaN   -1.94\n",
       "2013-03-14 01:00:00     NaN   -1.94\n",
       "2013-03-14 01:15:00     NaN   -1.94\n",
       "2013-03-14 01:30:00     NaN   -1.94\n",
       "2013-03-14 01:45:00     NaN   -1.94\n",
       "2013-03-14 02:00:00     NaN   -1.94\n",
       "2013-05-27 10:00:00   -0.90   -1.45\n",
       "2014-02-09 20:15:00   -0.91   -1.94\n",
       "2014-02-09 20:30:00   -0.92   -1.94"
      ]
     },
     "execution_count": 206,
     "metadata": {},
     "output_type": "execute_result"
    }
   ],
   "source": [
    "# sneak preview lage waterstanden:\n",
    "data[mask_lower].head(9)"
   ]
  },
  {
   "cell_type": "markdown",
   "metadata": {},
   "source": [
    "De bepertke beoordeling van hoge en lage meetwaarden van gemaal Oude Riet doet vermoeden dat de 0-waarden feitelijk fout gecodeerde missing values zijn. Het gaat om 57 kwartierwaarden verspreid over de dataset. \n",
    "\n",
    "De meetwaarden lager dan -1,20 m NAP zijn mogelijk wel echte \"gemeten\" waarden, maar deze waterpeilen komen in werkelijkheid niet voor. Er lijkt sprake van meetfouten die worden veroorzaakt door de meetopstelling. Zonder kennis van het meetpunt en de wijze waarop fouten kunnen ontstaan is niet duidelijk hoe verantwoord correcties kunnen worden uitgevoerd.  De gemeten peilen van Oude Riet worden daarom verder niet gebruikt.\n",
    "\n",
    "Ter illustratie van de effecten van eventuele aanpassing van de reeks wordt hieronder een grafiek getoond van de metingen van beide gemalen, waarbij waarden kleiner dan -1,20 m NAP en groter dan -0,30 m NAP van Oude Riet zijn vervangen door missing values:  "
   ]
  },
  {
   "cell_type": "code",
   "execution_count": 207,
   "metadata": {},
   "outputs": [],
   "source": [
    "# vervangen van hoge en lage waarden van Oude Riet door missing values\n",
    "datacor = data.copy()\n",
    "datacor['odrnap'] = datacor['odrnap'].where(~mask_upper,other=np.nan)\n",
    "datacor['odrnap'] = datacor['odrnap'].where(~mask_lower,other=np.nan)"
   ]
  },
  {
   "cell_type": "code",
   "execution_count": 208,
   "metadata": {},
   "outputs": [
    {
     "data": {
      "image/png": "[encoded data removed]",
      "text/plain": [
       "<Figure size 576x288 with 2 Axes>"
      ]
     },
     "metadata": {},
     "output_type": "display_data"
    }
   ],
   "source": [
    "fig,ax = plot_rawdata(datacor)\n",
    "fpath = f'{figdir}tijdreeks gecorrigeerde kwartierwaarden.jpg'\n",
    "fig.savefig(fpath,dpi=300,bbox_inches='tight')"
   ]
  },
  {
   "cell_type": "code",
   "execution_count": 209,
   "metadata": {},
   "outputs": [],
   "source": [
    "# alleen de metingen van Wemerpolder worden bewaard in een dataset met gevalideerde waarnemingen:\n",
    "fpath = f'{datadir}wemerpolder_kwartierwaarden_gevalideerd.csv'\n",
    "data['wmpnap'].to_csv(fpath)"
   ]
  },
  {
   "cell_type": "markdown",
   "metadata": {},
   "source": [
    "## Dagwaarden Wemerpolder  \n",
    " \n",
    "De metingen van het waterpeil op het Dwarsdiep geven inzicht in de kans op inundaties wanneer de kades langs het Dwarsdiep worden verwijderd. Het is daarvoor niet nodig om kwartierwaarden te gebruiken. Omdat de inundaties worden uitgedrukt in dagen, berekenen we dagwaarden van de waterstand uit de reeks van kwartierwaarden van Wemerpolder.   \n",
    "\n",
    "Hoe kunnen de gemeten kwartierwaarden het beste worden vertaald naar een geschatte dagwaarde? Onderstaande tabel toont het gemiddelde, de mediaan, het minimum en het maximum van de 96 kwartierwaarden op een dag voor alle beschikbare dagen (alleen de eerste 5 rijen worden getoond):"
   ]
  },
  {
   "cell_type": "code",
   "execution_count": 210,
   "metadata": {},
   "outputs": [
    {
     "data": {
      "text/html": [
       "<div>\n",
       "<style scoped>\n",
       "    .dataframe tbody tr th:only-of-type {\n",
       "        vertical-align: middle;\n",
       "    }\n",
       "\n",
       "    .dataframe tbody tr th {\n",
       "        vertical-align: top;\n",
       "    }\n",
       "\n",
       "    .dataframe thead th {\n",
       "        text-align: right;\n",
       "    }\n",
       "</style>\n",
       "<table border=\"1\" class=\"dataframe\">\n",
       "  <thead>\n",
       "    <tr style=\"text-align: right;\">\n",
       "      <th></th>\n",
       "      <th>mean</th>\n",
       "      <th>median</th>\n",
       "      <th>min</th>\n",
       "      <th>max</th>\n",
       "      <th>range</th>\n",
       "    </tr>\n",
       "    <tr>\n",
       "      <th>datumtijd</th>\n",
       "      <th></th>\n",
       "      <th></th>\n",
       "      <th></th>\n",
       "      <th></th>\n",
       "      <th></th>\n",
       "    </tr>\n",
       "  </thead>\n",
       "  <tbody>\n",
       "    <tr>\n",
       "      <th>2012-05-01</th>\n",
       "      <td>-0.822963</td>\n",
       "      <td>-0.82</td>\n",
       "      <td>-0.83</td>\n",
       "      <td>-0.81</td>\n",
       "      <td>0.02</td>\n",
       "    </tr>\n",
       "    <tr>\n",
       "      <th>2012-05-02</th>\n",
       "      <td>-0.810104</td>\n",
       "      <td>-0.81</td>\n",
       "      <td>-0.83</td>\n",
       "      <td>-0.79</td>\n",
       "      <td>0.04</td>\n",
       "    </tr>\n",
       "    <tr>\n",
       "      <th>2012-05-03</th>\n",
       "      <td>-0.821458</td>\n",
       "      <td>-0.82</td>\n",
       "      <td>-0.84</td>\n",
       "      <td>-0.81</td>\n",
       "      <td>0.03</td>\n",
       "    </tr>\n",
       "    <tr>\n",
       "      <th>2012-05-04</th>\n",
       "      <td>-0.824271</td>\n",
       "      <td>-0.83</td>\n",
       "      <td>-0.84</td>\n",
       "      <td>-0.80</td>\n",
       "      <td>0.04</td>\n",
       "    </tr>\n",
       "    <tr>\n",
       "      <th>2012-05-05</th>\n",
       "      <td>-0.812187</td>\n",
       "      <td>-0.81</td>\n",
       "      <td>-0.83</td>\n",
       "      <td>-0.79</td>\n",
       "      <td>0.04</td>\n",
       "    </tr>\n",
       "  </tbody>\n",
       "</table>\n",
       "</div>"
      ],
      "text/plain": [
       "                mean  median   min   max  range\n",
       "datumtijd                                      \n",
       "2012-05-01 -0.822963   -0.82 -0.83 -0.81   0.02\n",
       "2012-05-02 -0.810104   -0.81 -0.83 -0.79   0.04\n",
       "2012-05-03 -0.821458   -0.82 -0.84 -0.81   0.03\n",
       "2012-05-04 -0.824271   -0.83 -0.84 -0.80   0.04\n",
       "2012-05-05 -0.812187   -0.81 -0.83 -0.79   0.04"
      ]
     },
     "execution_count": 210,
     "metadata": {},
     "output_type": "execute_result"
    }
   ],
   "source": [
    "daystats = data['wmpnap'].groupby(pd.Grouper(freq='D')).agg(['mean', 'median', 'min', 'max'])\n",
    "daystats['range'] = daystats['max']-daystats['min']\n",
    "daystats.head(5)"
   ]
  },
  {
   "cell_type": "markdown",
   "metadata": {},
   "source": [
    "De variatie van kwartierwaarden op een dag voor de hele dataset owrdt samengevat in onderstaande grafiek:"
   ]
  },
  {
   "cell_type": "code",
   "execution_count": 211,
   "metadata": {},
   "outputs": [
    {
     "data": {
      "image/png": "[encoded data removed]",
      "text/plain": [
       "<Figure size 432x288 with 1 Axes>"
      ]
     },
     "metadata": {},
     "output_type": "display_data"
    }
   ],
   "source": [
    "ax = sns.histplot(data=daystats, x=\"range\",binwidth=0.025,stat='probability')\n",
    "ax.set_xlim(0,0.25)\n",
    "fig = ax.get_figure()\n",
    "fig.savefig(f'{figdir}wemerpolder - bereik kwartierwaarden binnen een dag.jpg',dpi=300)"
   ]
  },
  {
   "cell_type": "markdown",
   "metadata": {},
   "source": [
    "Bovenstaande frequentieverdeling toont de maximale waterstandsverschillen binnen een dag. Daaruit blijkt dat maximale waterstandsverschillen tot 20 cm op een dag voorkomen, maar dat 85% van de variatie op een dag beperkt blijft tot 10 cm.  \n",
    "\n",
    "Een redelijke schatting voor de \"gemiddelde\" dagwaarde van de waterstand zou de mediaan van de 96 kwartierwaarden op een dag kunnen zijn.  Maar omdat we voor de ecologische beoordeling van het effect van inundaties ook rekening willen kunnen houden met kortdurende zomerinundaties, schatten we de dagwaarde voor de waterstand als het 85e percentiel van de 96 kwartierwaarden op een dag. De dagwaarde is daarmee de waterstand die minumaal vier uur op een dag wordt overschreden.  "
   ]
  },
  {
   "cell_type": "code",
   "execution_count": 212,
   "metadata": {},
   "outputs": [
    {
     "data": {
      "text/plain": [
       "0.8333333333333334"
      ]
     },
     "execution_count": 212,
     "metadata": {},
     "output_type": "execute_result"
    }
   ],
   "source": [
    "# 85e percentiel geeft de waterstand die 4 uur op een dag wordt overschreden:\n",
    "1-(4*4)/(24*4)"
   ]
  },
  {
   "cell_type": "code",
   "execution_count": 213,
   "metadata": {},
   "outputs": [
    {
     "data": {
      "text/html": [
       "<div>\n",
       "<style scoped>\n",
       "    .dataframe tbody tr th:only-of-type {\n",
       "        vertical-align: middle;\n",
       "    }\n",
       "\n",
       "    .dataframe tbody tr th {\n",
       "        vertical-align: top;\n",
       "    }\n",
       "\n",
       "    .dataframe thead th {\n",
       "        text-align: right;\n",
       "    }\n",
       "</style>\n",
       "<table border=\"1\" class=\"dataframe\">\n",
       "  <thead>\n",
       "    <tr style=\"text-align: right;\">\n",
       "      <th></th>\n",
       "      <th>mean</th>\n",
       "      <th>median</th>\n",
       "      <th>min</th>\n",
       "      <th>max</th>\n",
       "      <th>range</th>\n",
       "      <th>q85</th>\n",
       "    </tr>\n",
       "    <tr>\n",
       "      <th>datumtijd</th>\n",
       "      <th></th>\n",
       "      <th></th>\n",
       "      <th></th>\n",
       "      <th></th>\n",
       "      <th></th>\n",
       "      <th></th>\n",
       "    </tr>\n",
       "  </thead>\n",
       "  <tbody>\n",
       "    <tr>\n",
       "      <th>2012-05-01</th>\n",
       "      <td>-0.822963</td>\n",
       "      <td>-0.82</td>\n",
       "      <td>-0.83</td>\n",
       "      <td>-0.81</td>\n",
       "      <td>0.02</td>\n",
       "      <td>-0.82</td>\n",
       "    </tr>\n",
       "    <tr>\n",
       "      <th>2012-05-02</th>\n",
       "      <td>-0.810104</td>\n",
       "      <td>-0.81</td>\n",
       "      <td>-0.83</td>\n",
       "      <td>-0.79</td>\n",
       "      <td>0.04</td>\n",
       "      <td>-0.80</td>\n",
       "    </tr>\n",
       "    <tr>\n",
       "      <th>2012-05-03</th>\n",
       "      <td>-0.821458</td>\n",
       "      <td>-0.82</td>\n",
       "      <td>-0.84</td>\n",
       "      <td>-0.81</td>\n",
       "      <td>0.03</td>\n",
       "      <td>-0.82</td>\n",
       "    </tr>\n",
       "    <tr>\n",
       "      <th>2012-05-04</th>\n",
       "      <td>-0.824271</td>\n",
       "      <td>-0.83</td>\n",
       "      <td>-0.84</td>\n",
       "      <td>-0.80</td>\n",
       "      <td>0.04</td>\n",
       "      <td>-0.82</td>\n",
       "    </tr>\n",
       "    <tr>\n",
       "      <th>2012-05-05</th>\n",
       "      <td>-0.812187</td>\n",
       "      <td>-0.81</td>\n",
       "      <td>-0.83</td>\n",
       "      <td>-0.79</td>\n",
       "      <td>0.04</td>\n",
       "      <td>-0.80</td>\n",
       "    </tr>\n",
       "  </tbody>\n",
       "</table>\n",
       "</div>"
      ],
      "text/plain": [
       "                mean  median   min   max  range   q85\n",
       "datumtijd                                            \n",
       "2012-05-01 -0.822963   -0.82 -0.83 -0.81   0.02 -0.82\n",
       "2012-05-02 -0.810104   -0.81 -0.83 -0.79   0.04 -0.80\n",
       "2012-05-03 -0.821458   -0.82 -0.84 -0.81   0.03 -0.82\n",
       "2012-05-04 -0.824271   -0.83 -0.84 -0.80   0.04 -0.82\n",
       "2012-05-05 -0.812187   -0.81 -0.83 -0.79   0.04 -0.80"
      ]
     },
     "execution_count": 213,
     "metadata": {},
     "output_type": "execute_result"
    }
   ],
   "source": [
    "def q85(x):\n",
    "    return x.quantile(0.85)\n",
    "daystats['q85'] = data['wmpnap'].groupby(pd.Grouper(freq='D')).agg([q85])\n",
    "daystats[:5]"
   ]
  },
  {
   "cell_type": "code",
   "execution_count": 214,
   "metadata": {},
   "outputs": [
    {
     "data": {
      "text/html": [
       "<div>\n",
       "<style scoped>\n",
       "    .dataframe tbody tr th:only-of-type {\n",
       "        vertical-align: middle;\n",
       "    }\n",
       "\n",
       "    .dataframe tbody tr th {\n",
       "        vertical-align: top;\n",
       "    }\n",
       "\n",
       "    .dataframe thead th {\n",
       "        text-align: right;\n",
       "    }\n",
       "</style>\n",
       "<table border=\"1\" class=\"dataframe\">\n",
       "  <thead>\n",
       "    <tr style=\"text-align: right;\">\n",
       "      <th></th>\n",
       "      <th>mean</th>\n",
       "      <th>median</th>\n",
       "      <th>min</th>\n",
       "      <th>max</th>\n",
       "      <th>range</th>\n",
       "      <th>q85</th>\n",
       "    </tr>\n",
       "  </thead>\n",
       "  <tbody>\n",
       "    <tr>\n",
       "      <th>count</th>\n",
       "      <td>3251.000000</td>\n",
       "      <td>3251.000000</td>\n",
       "      <td>3251.000000</td>\n",
       "      <td>3251.000000</td>\n",
       "      <td>3251.000000</td>\n",
       "      <td>3251.000000</td>\n",
       "    </tr>\n",
       "    <tr>\n",
       "      <th>mean</th>\n",
       "      <td>-0.873458</td>\n",
       "      <td>-0.873731</td>\n",
       "      <td>-0.905927</td>\n",
       "      <td>-0.839080</td>\n",
       "      <td>0.066847</td>\n",
       "      <td>-0.852694</td>\n",
       "    </tr>\n",
       "    <tr>\n",
       "      <th>std</th>\n",
       "      <td>0.051487</td>\n",
       "      <td>0.053068</td>\n",
       "      <td>0.048566</td>\n",
       "      <td>0.059279</td>\n",
       "      <td>0.039320</td>\n",
       "      <td>0.057978</td>\n",
       "    </tr>\n",
       "    <tr>\n",
       "      <th>min</th>\n",
       "      <td>-1.017083</td>\n",
       "      <td>-1.050000</td>\n",
       "      <td>-1.130000</td>\n",
       "      <td>-0.980000</td>\n",
       "      <td>0.000000</td>\n",
       "      <td>-1.000000</td>\n",
       "    </tr>\n",
       "    <tr>\n",
       "      <th>25%</th>\n",
       "      <td>-0.904635</td>\n",
       "      <td>-0.910000</td>\n",
       "      <td>-0.940000</td>\n",
       "      <td>-0.870000</td>\n",
       "      <td>0.040000</td>\n",
       "      <td>-0.890000</td>\n",
       "    </tr>\n",
       "    <tr>\n",
       "      <th>50%</th>\n",
       "      <td>-0.877083</td>\n",
       "      <td>-0.880000</td>\n",
       "      <td>-0.910000</td>\n",
       "      <td>-0.850000</td>\n",
       "      <td>0.060000</td>\n",
       "      <td>-0.860000</td>\n",
       "    </tr>\n",
       "    <tr>\n",
       "      <th>75%</th>\n",
       "      <td>-0.847969</td>\n",
       "      <td>-0.850000</td>\n",
       "      <td>-0.880000</td>\n",
       "      <td>-0.810000</td>\n",
       "      <td>0.080000</td>\n",
       "      <td>-0.830000</td>\n",
       "    </tr>\n",
       "    <tr>\n",
       "      <th>max</th>\n",
       "      <td>-0.436979</td>\n",
       "      <td>-0.430000</td>\n",
       "      <td>-0.510000</td>\n",
       "      <td>-0.390000</td>\n",
       "      <td>0.630000</td>\n",
       "      <td>-0.400000</td>\n",
       "    </tr>\n",
       "  </tbody>\n",
       "</table>\n",
       "</div>"
      ],
      "text/plain": [
       "              mean       median          min          max        range  \\\n",
       "count  3251.000000  3251.000000  3251.000000  3251.000000  3251.000000   \n",
       "mean     -0.873458    -0.873731    -0.905927    -0.839080     0.066847   \n",
       "std       0.051487     0.053068     0.048566     0.059279     0.039320   \n",
       "min      -1.017083    -1.050000    -1.130000    -0.980000     0.000000   \n",
       "25%      -0.904635    -0.910000    -0.940000    -0.870000     0.040000   \n",
       "50%      -0.877083    -0.880000    -0.910000    -0.850000     0.060000   \n",
       "75%      -0.847969    -0.850000    -0.880000    -0.810000     0.080000   \n",
       "max      -0.436979    -0.430000    -0.510000    -0.390000     0.630000   \n",
       "\n",
       "               q85  \n",
       "count  3251.000000  \n",
       "mean     -0.852694  \n",
       "std       0.057978  \n",
       "min      -1.000000  \n",
       "25%      -0.890000  \n",
       "50%      -0.860000  \n",
       "75%      -0.830000  \n",
       "max      -0.400000  "
      ]
     },
     "execution_count": 214,
     "metadata": {},
     "output_type": "execute_result"
    }
   ],
   "source": [
    "daystats.describe()"
   ]
  },
  {
   "cell_type": "code",
   "execution_count": 215,
   "metadata": {},
   "outputs": [
    {
     "data": {
      "image/png": "[encoded data removed]",
      "text/plain": [
       "<Figure size 576x432 with 1 Axes>"
      ]
     },
     "metadata": {},
     "output_type": "display_data"
    }
   ],
   "source": [
    "def scatterplot(daystats):\n",
    "    \"\"\"Plot water level versus discharge\"\"\"\n",
    "    fig, ax = plt.subplots(nrows=1, ncols=1)\n",
    "    fig.set_size_inches(8,6) # w,h\n",
    "\n",
    "    x = daystats['median'].values\n",
    "    y = daystats['q85'].values\n",
    "\n",
    "    ax.scatter(x,y,color='#8b0000',s=4)\n",
    "    ax.set_xlabel('dagwaarde als gemiddelde van 96 kwartierwaarden',fontsize=14)\n",
    "    ax.set_ylabel('dagwaarde als 85e percentiel',fontsize=14)\n",
    "\n",
    "    min = -1.1\n",
    "    max = -0.3\n",
    "    ax.plot([min,max], [min,max], color = '#726f77')\n",
    "    ax.set_xlim(min,max)\n",
    "    ax.set_ylim(min,max)\n",
    "\n",
    "    fig.tight_layout(pad=2.0)\n",
    "\n",
    "    return fig,ax\n",
    "\n",
    "fig,ax = scatterplot(daystats)\n",
    "fpath = f'{figdir}wemerpolder - verband tussen dagwaarde mediaan en 85e percentiel.jpg'\n",
    "fig.savefig(fpath,dpi=300,bbox_inches='tight')"
   ]
  },
  {
   "cell_type": "code",
   "execution_count": 216,
   "metadata": {},
   "outputs": [],
   "source": [
    "# save daily values for further processeing\n",
    "wmp_q85 = data['wmpnap'].groupby(pd.Grouper(freq='D')).quantile(0.85)\n",
    "fpath = f'{datadir}wemerpolder_dagwaarden_q85.csv'\n",
    "wmp_q85.to_csv(fpath)\n",
    "\n",
    "wmp_q50 = data['wmpnap'].groupby(pd.Grouper(freq='D')).median()\n",
    "fpath = f'{datadir}wemerpolder_dagwaarden_mediaan.csv'\n",
    "wmp_q50.to_csv(fpath)"
   ]
  },
  {
   "cell_type": "code",
   "execution_count": 217,
   "metadata": {
    "scrolled": true
   },
   "outputs": [
    {
     "data": {
      "image/png": "[encoded data removed]",
      "text/plain": [
       "<Figure size 576x360 with 3 Axes>"
      ]
     },
     "metadata": {},
     "output_type": "display_data"
    }
   ],
   "source": [
    "fig, ax = plt.subplots(nrows=3, ncols=1)\n",
    "fig.set_size_inches(8,5) # w,h\n",
    "\n",
    "x = data.index.values\n",
    "y = data['wmpnap'].values\n",
    "ax[0].plot(x,y,color='#8b0000')\n",
    "ax[0].set_title('Wemerpolder kwartierwaarden')\n",
    "\n",
    "x = wmp_q50.index.values\n",
    "y = wmp_q50.values\n",
    "ax[1].plot(x,y,color='#8b0000')\n",
    "ax[1].set_title(label='Wemerpolder dagwaarden (mediaan)')\n",
    "\n",
    "x = wmp_q85.index.values\n",
    "y = wmp_q85.values\n",
    "ax[2].plot(x,y,color='#8b0000')\n",
    "ax[2].set_title(label='Wemerpolder dagwaarden (85e percentiel)')\n",
    "\n",
    "fig.tight_layout(pad=1.0)\n",
    "\n",
    "fpath = f'{figdir}Wemerpolder dagwaarden.jpg'\n",
    "fig.savefig(fpath,dpi=300,bbox_inches='tight')\n"
   ]
  },
  {
   "cell_type": "markdown",
   "metadata": {},
   "source": [
    "## Empirische frequentie gemeten waterpeilen  \n",
    "\n",
    "De grafiek hieronder toont de empirische frequentieverdeling van de gemeten waterpeilen. Links voor de kwartierwaarden, midden voor de dagwaarden op basis van de mediaan en rechts de dagwaarden op basis van het 85e percentiel. De curve toont de theoretische normale verdeling voor het gemiddelde en standaarddeviatie van de metingen die zijn gebruikt voor het betreffende histogram."
   ]
  },
  {
   "cell_type": "code",
   "execution_count": 241,
   "metadata": {},
   "outputs": [
    {
     "data": {
      "image/png": "[encoded data removed]",
      "text/plain": [
       "<Figure size 864x288 with 3 Axes>"
      ]
     },
     "metadata": {},
     "output_type": "display_data"
    }
   ],
   "source": [
    "\n",
    "fig, ax = plt.subplots(nrows=1, ncols=3, sharex=True, sharey=True)\n",
    "fig.set_size_inches(12,4) # w,h\n",
    "fig.tight_layout()\n",
    "\n",
    "nbins = 40\n",
    "\n",
    "cases = [\n",
    "    {'data':data['wmpnap'],'axnr':0,'xlab':'kwartierwaarden'},\n",
    "    {'data':wmp_q50,'axnr':1,'xlab':'dagwaarden mediaan'},\n",
    "    {'data':wmp_q85,'axnr':2,'xlab':'dagwaarden 85e percentiel'},\n",
    "    ]\n",
    "\n",
    "for dict in cases:\n",
    "    \n",
    "    values = dict['data'].dropna()\n",
    "    axnr = dict['axnr']\n",
    "    m, bins, patches = ax[axnr].hist(values, nbins, density=1, alpha=0.95)\n",
    "\n",
    "    mu, sigma = scipy.stats.norm.fit(values)\n",
    "    best_fit_line = scipy.stats.norm.pdf(bins, mu, sigma)\n",
    "    ax[axnr].plot(bins, best_fit_line, color='#8b0000')\n",
    "    \n",
    "    ax[axnr].set_title(dict['xlab'],fontsize=14.)\n",
    "    ax[axnr].set_xlim(-1.1,-0.5)\n",
    "\n",
    "fpath = f'{figdir}wemerpolder frequentieverdeling waterstanden.jpg'\n",
    "fig.savefig(fpath,dpi=300,bbox_inches='tight')"
   ]
  },
  {
   "cell_type": "code",
   "execution_count": null,
   "metadata": {},
   "outputs": [],
   "source": []
  }
 ],
 "metadata": {
  "kernelspec": {
   "display_name": "Python 3",
   "language": "python",
   "name": "python3"
  },
  "language_info": {
   "codemirror_mode": {
    "name": "ipython",
    "version": 3
   },
   "file_extension": ".py",
   "mimetype": "text/x-python",
   "name": "python",
   "nbconvert_exporter": "python",
   "pygments_lexer": "ipython3",
   "version": "3.7.9"
  }
 },
 "nbformat": 4,
 "nbformat_minor": 4
}
